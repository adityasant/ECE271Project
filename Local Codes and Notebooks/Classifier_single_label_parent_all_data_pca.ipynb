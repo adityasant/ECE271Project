{
 "cells": [
  {
   "cell_type": "markdown",
   "metadata": {},
   "source": [
    "## Data Cleaning Stage"
   ]
  },
  {
   "cell_type": "markdown",
   "metadata": {},
   "source": [
    "### Data reading"
   ]
  },
  {
   "cell_type": "markdown",
   "metadata": {},
   "source": [
    "This notebook brings uses the scripts read_data_features.py and read_data_genre_track.py to arrive at a cleaned dataset with ready to use features and labels."
   ]
  },
  {
   "cell_type": "markdown",
   "metadata": {},
   "source": [
    "The following is 'read_data_genre_track.py'. "
   ]
  },
  {
   "cell_type": "code",
   "execution_count": 1,
   "metadata": {},
   "outputs": [],
   "source": [
    "import numpy as np\n",
    "import pandas as pd"
   ]
  },
  {
   "cell_type": "code",
   "execution_count": 2,
   "metadata": {},
   "outputs": [],
   "source": [
    "import xgboost as xgb\n",
    "import itertools\n",
    "import pickle\n",
    "import matplotlib\n",
    "from matplotlib import pyplot as plt\n",
    "from sklearn.linear_model import LogisticRegression\n",
    "from sklearn.svm import SVC\n",
    "from sklearn.ensemble import RandomForestClassifier\n",
    "from sklearn.model_selection import train_test_split\n",
    "from sklearn.preprocessing import MinMaxScaler, OneHotEncoder\n",
    "from sklearn.feature_selection import SelectFromModel\n",
    "from sklearn.utils.class_weight import compute_class_weight\n",
    "from sklearn.decomposition import PCA\n",
    "from sklearn.manifold import TSNE\n",
    "from sklearn.metrics import confusion_matrix, f1_score, accuracy_score, roc_auc_score, roc_curve, auc\n",
    "from scipy import interp\n",
    "from itertools import cycle\n",
    "\n",
    "#matplotlib.rcParams.update({'font.size': 14})\n",
    "%matplotlib inline"
   ]
  },
  {
   "cell_type": "code",
   "execution_count": 3,
   "metadata": {},
   "outputs": [],
   "source": [
    "metadata_path = '..\\\\Dataset\\\\fma_metadata'"
   ]
  },
  {
   "cell_type": "code",
   "execution_count": 4,
   "metadata": {},
   "outputs": [],
   "source": [
    "## Read genre information\n",
    "genres = pd.read_csv(metadata_path+'\\\\genres.csv')"
   ]
  },
  {
   "cell_type": "code",
   "execution_count": 5,
   "metadata": {},
   "outputs": [],
   "source": [
    "genre_grps = genres.groupby('parent')\n"
   ]
  },
  {
   "cell_type": "code",
   "execution_count": 6,
   "metadata": {
    "scrolled": false
   },
   "outputs": [],
   "source": [
    "genre_id_root = genre_grps.get_group(0)['genre_id'] # Extract the parent groups\n",
    "genre_id_name = genre_grps.get_group(0)['title']\n",
    "main_label_dict = dict(zip(list(genre_id_root),list(genre_id_name)))"
   ]
  },
  {
   "cell_type": "code",
   "execution_count": 7,
   "metadata": {},
   "outputs": [
    {
     "data": {
      "text/plain": [
       "{2: 'International',\n",
       " 3: 'Blues',\n",
       " 4: 'Jazz',\n",
       " 5: 'Classical',\n",
       " 8: 'Old-Time / Historic',\n",
       " 9: 'Country',\n",
       " 10: 'Pop',\n",
       " 12: 'Rock',\n",
       " 13: 'Easy Listening',\n",
       " 14: 'Soul-RnB',\n",
       " 15: 'Electronic',\n",
       " 17: 'Folk',\n",
       " 20: 'Spoken',\n",
       " 21: 'Hip-Hop',\n",
       " 38: 'Experimental',\n",
       " 1235: 'Instrumental'}"
      ]
     },
     "execution_count": 7,
     "metadata": {},
     "output_type": "execute_result"
    }
   ],
   "source": [
    "main_label_dict"
   ]
  },
  {
   "cell_type": "code",
   "execution_count": 8,
   "metadata": {},
   "outputs": [
    {
     "data": {
      "text/html": [
       "<div>\n",
       "<style scoped>\n",
       "    .dataframe tbody tr th:only-of-type {\n",
       "        vertical-align: middle;\n",
       "    }\n",
       "\n",
       "    .dataframe tbody tr th {\n",
       "        vertical-align: top;\n",
       "    }\n",
       "\n",
       "    .dataframe thead th {\n",
       "        text-align: right;\n",
       "    }\n",
       "</style>\n",
       "<table border=\"1\" class=\"dataframe\">\n",
       "  <thead>\n",
       "    <tr style=\"text-align: right;\">\n",
       "      <th></th>\n",
       "      <th>track_id</th>\n",
       "      <th>genres</th>\n",
       "      <th>genres_all</th>\n",
       "    </tr>\n",
       "  </thead>\n",
       "  <tbody>\n",
       "    <tr>\n",
       "      <td>0</td>\n",
       "      <td>2</td>\n",
       "      <td>[21]</td>\n",
       "      <td>[21]</td>\n",
       "    </tr>\n",
       "    <tr>\n",
       "      <td>1</td>\n",
       "      <td>3</td>\n",
       "      <td>[21]</td>\n",
       "      <td>[21]</td>\n",
       "    </tr>\n",
       "    <tr>\n",
       "      <td>2</td>\n",
       "      <td>5</td>\n",
       "      <td>[21]</td>\n",
       "      <td>[21]</td>\n",
       "    </tr>\n",
       "    <tr>\n",
       "      <td>3</td>\n",
       "      <td>10</td>\n",
       "      <td>[10]</td>\n",
       "      <td>[10]</td>\n",
       "    </tr>\n",
       "    <tr>\n",
       "      <td>4</td>\n",
       "      <td>20</td>\n",
       "      <td>[76, 103]</td>\n",
       "      <td>[17, 10, 76, 103]</td>\n",
       "    </tr>\n",
       "  </tbody>\n",
       "</table>\n",
       "</div>"
      ],
      "text/plain": [
       "   track_id     genres         genres_all\n",
       "0         2       [21]               [21]\n",
       "1         3       [21]               [21]\n",
       "2         5       [21]               [21]\n",
       "3        10       [10]               [10]\n",
       "4        20  [76, 103]  [17, 10, 76, 103]"
      ]
     },
     "execution_count": 8,
     "metadata": {},
     "output_type": "execute_result"
    }
   ],
   "source": [
    "## Read track information\n",
    "fields = ['track']\n",
    "tracks = pd.read_csv(metadata_path+'\\\\tracks_mod.csv',nrows=85000)\n",
    "tracks.head()"
   ]
  },
  {
   "cell_type": "code",
   "execution_count": 9,
   "metadata": {},
   "outputs": [],
   "source": [
    "tracks = tracks.dropna()"
   ]
  },
  {
   "cell_type": "code",
   "execution_count": 10,
   "metadata": {},
   "outputs": [],
   "source": [
    "tgen = list(tracks['genres'])\n",
    "#print(tgen)"
   ]
  },
  {
   "cell_type": "code",
   "execution_count": 11,
   "metadata": {},
   "outputs": [],
   "source": [
    "tgen = [t.replace('[','') for t in tgen]\n",
    "tgen = [t.replace(']','') for t in tgen]\n",
    "tgen = [t.replace(' ','') for t in tgen]\n",
    "#print(tgen)"
   ]
  },
  {
   "cell_type": "code",
   "execution_count": 12,
   "metadata": {},
   "outputs": [],
   "source": [
    "for k in range(len(tgen)):\n",
    "    if(len(tgen[k])!=0):\n",
    "        tgen[k] = [i for i in map(int, tgen[k].split(','))]\n",
    "    else:\n",
    "        tgen[k]=[]\n",
    "#print(tgen)"
   ]
  },
  {
   "cell_type": "code",
   "execution_count": 13,
   "metadata": {},
   "outputs": [],
   "source": [
    "tracks['genres']=tgen"
   ]
  },
  {
   "cell_type": "code",
   "execution_count": 14,
   "metadata": {},
   "outputs": [
    {
     "data": {
      "text/html": [
       "<div>\n",
       "<style scoped>\n",
       "    .dataframe tbody tr th:only-of-type {\n",
       "        vertical-align: middle;\n",
       "    }\n",
       "\n",
       "    .dataframe tbody tr th {\n",
       "        vertical-align: top;\n",
       "    }\n",
       "\n",
       "    .dataframe thead th {\n",
       "        text-align: right;\n",
       "    }\n",
       "</style>\n",
       "<table border=\"1\" class=\"dataframe\">\n",
       "  <thead>\n",
       "    <tr style=\"text-align: right;\">\n",
       "      <th></th>\n",
       "      <th>track_id</th>\n",
       "      <th>genres</th>\n",
       "      <th>genres_all</th>\n",
       "    </tr>\n",
       "  </thead>\n",
       "  <tbody>\n",
       "    <tr>\n",
       "      <td>0</td>\n",
       "      <td>2</td>\n",
       "      <td>[21]</td>\n",
       "      <td>[21]</td>\n",
       "    </tr>\n",
       "    <tr>\n",
       "      <td>1</td>\n",
       "      <td>3</td>\n",
       "      <td>[21]</td>\n",
       "      <td>[21]</td>\n",
       "    </tr>\n",
       "    <tr>\n",
       "      <td>2</td>\n",
       "      <td>5</td>\n",
       "      <td>[21]</td>\n",
       "      <td>[21]</td>\n",
       "    </tr>\n",
       "    <tr>\n",
       "      <td>3</td>\n",
       "      <td>10</td>\n",
       "      <td>[10]</td>\n",
       "      <td>[10]</td>\n",
       "    </tr>\n",
       "    <tr>\n",
       "      <td>4</td>\n",
       "      <td>20</td>\n",
       "      <td>[76, 103]</td>\n",
       "      <td>[17, 10, 76, 103]</td>\n",
       "    </tr>\n",
       "  </tbody>\n",
       "</table>\n",
       "</div>"
      ],
      "text/plain": [
       "   track_id     genres         genres_all\n",
       "0         2       [21]               [21]\n",
       "1         3       [21]               [21]\n",
       "2         5       [21]               [21]\n",
       "3        10       [10]               [10]\n",
       "4        20  [76, 103]  [17, 10, 76, 103]"
      ]
     },
     "execution_count": 14,
     "metadata": {},
     "output_type": "execute_result"
    }
   ],
   "source": [
    "tracks.head()"
   ]
  },
  {
   "cell_type": "code",
   "execution_count": 15,
   "metadata": {},
   "outputs": [
    {
     "name": "stdout",
     "output_type": "stream",
     "text": [
      "84991\n"
     ]
    }
   ],
   "source": [
    "print(len(tgen))\n",
    "#print(tracks.index)"
   ]
  },
  {
   "cell_type": "markdown",
   "metadata": {},
   "source": [
    "### Extracting relevant tracks and labels"
   ]
  },
  {
   "cell_type": "code",
   "execution_count": 16,
   "metadata": {},
   "outputs": [],
   "source": [
    "## Match the tracks to the genre data: Create dictionary with genre label as key\n",
    "genre_dict = {}\n",
    "for i in range(len(tgen)): # for every track (tgen is a list of lists of genres corresponding to every track)\n",
    "    if i in tracks.index:  \n",
    "        ti = tracks['track_id'][i] # ti stores the track id corresponding to the index\n",
    "        if 1<=len(tgen[i])<=1: # new condition that checks if t has just one genre and only then proceeds\n",
    "            for k in tgen[i]: # k iterates through list of genres of current track\n",
    "                if k is not None:\n",
    "                    if (k in genre_dict.keys()): # if new genre is in the keys of genre_dict\n",
    "                        genre_dict[k]+=[ti] # append current track id to list of all track ids\n",
    "                    else:\n",
    "                        genre_dict.update({k:[ti]}) # if k is a new key, then add new element to dictionary with ti as value"
   ]
  },
  {
   "cell_type": "code",
   "execution_count": 17,
   "metadata": {},
   "outputs": [
    {
     "data": {
      "text/plain": [
       "144"
      ]
     },
     "execution_count": 17,
     "metadata": {},
     "output_type": "execute_result"
    }
   ],
   "source": [
    "genre_dict[4][0]"
   ]
  },
  {
   "cell_type": "code",
   "execution_count": 18,
   "metadata": {},
   "outputs": [
    {
     "name": "stdout",
     "output_type": "stream",
     "text": [
      "2 119\n",
      "3 101\n",
      "4 320\n",
      "5 731\n",
      "8 543\n",
      "9 16\n",
      "10 505\n",
      "12 1717\n",
      "13 3\n",
      "14 15\n",
      "15 2221\n",
      "17 1205\n",
      "20 17\n",
      "21 2363\n",
      "38 1233\n",
      "1235 199\n"
     ]
    }
   ],
   "source": [
    "## Total number of samples for the different root genres\n",
    "for q in genre_id_root:\n",
    "    print(q,len(genre_dict[q]))"
   ]
  },
  {
   "cell_type": "markdown",
   "metadata": {},
   "source": [
    "Based on the above, the genres with sufficient data is selected for training."
   ]
  },
  {
   "cell_type": "code",
   "execution_count": 19,
   "metadata": {},
   "outputs": [],
   "source": [
    "#genre_set = [4,5,8,10,12,15,17,21,38]\n",
    "#genre_set = [17,15,12,21,38]\n",
    "#genre_set = [8,5,12,15,17,21,38]\n",
    "#genre_set = [4,5,10,12,15,17,21]\n",
    "genre_set = [5,10,12,15,17,21]\n",
    "#genre_set = [10,5,12,15,17,21,38]\n"
   ]
  },
  {
   "cell_type": "markdown",
   "metadata": {},
   "source": [
    "The code below selects the unique selection of 932 tracks from this list, with no repetitionof tracks"
   ]
  },
  {
   "cell_type": "code",
   "execution_count": 20,
   "metadata": {},
   "outputs": [
    {
     "data": {
      "text/plain": [
       "1457.0"
      ]
     },
     "execution_count": 20,
     "metadata": {},
     "output_type": "execute_result"
    }
   ],
   "source": [
    "track_list = genre_dict[genre_set[0]]\n",
    "label_list = [genre_set[0]]*len(track_list)\n",
    "for k in genre_set[1:]:\n",
    "    t1 = genre_dict[k]\n",
    "    while len(t1)>0:\n",
    "        t2 = t1.pop()\n",
    "        track_list.append(t2)\n",
    "        label_list.append(k)\n",
    "                    \n",
    "len(set(track_list))/len(genre_set)"
   ]
  },
  {
   "cell_type": "code",
   "execution_count": 21,
   "metadata": {},
   "outputs": [
    {
     "data": {
      "text/plain": [
       "8742"
      ]
     },
     "execution_count": 21,
     "metadata": {},
     "output_type": "execute_result"
    }
   ],
   "source": [
    "num_tracks = len(track_list)\n",
    "num_tracks"
   ]
  },
  {
   "cell_type": "code",
   "execution_count": 22,
   "metadata": {},
   "outputs": [],
   "source": [
    "tr_len = 8062 # Training length per class\n",
    "test_len = 1000 # Testing length per class"
   ]
  },
  {
   "cell_type": "markdown",
   "metadata": {},
   "source": [
    "Now we create the corresponding list of labels for this list."
   ]
  },
  {
   "cell_type": "markdown",
   "metadata": {},
   "source": [
    "### Feature extraction for the relevant track ids"
   ]
  },
  {
   "cell_type": "markdown",
   "metadata": {},
   "source": [
    "The following is 'read_data_features.py'."
   ]
  },
  {
   "cell_type": "code",
   "execution_count": 23,
   "metadata": {},
   "outputs": [],
   "source": [
    "## Column information\n",
    "fields = ['mfcc.40','mfcc.42','mfcc.43','mfcc.44','mfcc.45','mfcc.48','mfcc.49','mfcc.50',\\\n",
    "    'mfcc.53','mfcc.56','mfcc.120','mfcc.121','mfcc.122','mfcc.124','spectral_contrast.14',\\\n",
    "        'spectral_contrast.15','spectral_contrast.16','spectral_contrast.43',\\\n",
    "            'spectral_contrast.44','feature']\n"
   ]
  },
  {
   "cell_type": "code",
   "execution_count": 24,
   "metadata": {},
   "outputs": [
    {
     "name": "stderr",
     "output_type": "stream",
     "text": [
      "G:\\Anaconda\\lib\\site-packages\\IPython\\core\\interactiveshell.py:3058: DtypeWarning: Columns (0,293,295,296,297,298,301,302,303,306,309,373,374,375,377,428,429,430,457,458) have mixed types. Specify dtype option on import or set low_memory=False.\n",
      "  interactivity=interactivity, compiler=compiler, result=result)\n"
     ]
    }
   ],
   "source": [
    "## Read feature information \n",
    "features = pd.read_csv(metadata_path+'\\\\features.csv',usecols=fields)"
   ]
  },
  {
   "cell_type": "code",
   "execution_count": 25,
   "metadata": {},
   "outputs": [],
   "source": [
    "features['feature'][3:] = features['feature'][3:].astype(int)"
   ]
  },
  {
   "cell_type": "code",
   "execution_count": 26,
   "metadata": {},
   "outputs": [],
   "source": [
    "feat_all = features.loc[features['feature'].isin(track_list)]"
   ]
  },
  {
   "cell_type": "code",
   "execution_count": 27,
   "metadata": {},
   "outputs": [
    {
     "data": {
      "text/plain": [
       "(8742, 20)"
      ]
     },
     "execution_count": 27,
     "metadata": {},
     "output_type": "execute_result"
    }
   ],
   "source": [
    "feat_all.shape"
   ]
  },
  {
   "cell_type": "code",
   "execution_count": 28,
   "metadata": {},
   "outputs": [
    {
     "data": {
      "text/plain": [
       "8742"
      ]
     },
     "execution_count": 28,
     "metadata": {},
     "output_type": "execute_result"
    }
   ],
   "source": [
    "len(label_list)"
   ]
  },
  {
   "cell_type": "code",
   "execution_count": 29,
   "metadata": {},
   "outputs": [
    {
     "name": "stderr",
     "output_type": "stream",
     "text": [
      "G:\\Anaconda\\lib\\site-packages\\ipykernel_launcher.py:1: SettingWithCopyWarning: \n",
      "A value is trying to be set on a copy of a slice from a DataFrame.\n",
      "Try using .loc[row_indexer,col_indexer] = value instead\n",
      "\n",
      "See the caveats in the documentation: http://pandas.pydata.org/pandas-docs/stable/user_guide/indexing.html#returning-a-view-versus-a-copy\n",
      "  \"\"\"Entry point for launching an IPython kernel.\n"
     ]
    }
   ],
   "source": [
    "feat_all['label'] = label_list"
   ]
  },
  {
   "cell_type": "markdown",
   "metadata": {},
   "source": [
    "Shuffle the order of the data"
   ]
  },
  {
   "cell_type": "code",
   "execution_count": 30,
   "metadata": {},
   "outputs": [],
   "source": [
    "feat_all = feat_all.sample(frac=1)"
   ]
  },
  {
   "cell_type": "markdown",
   "metadata": {},
   "source": [
    "Create separate numpy arrays and convert to type float"
   ]
  },
  {
   "cell_type": "code",
   "execution_count": 31,
   "metadata": {},
   "outputs": [],
   "source": [
    "feat_all = feat_all.to_numpy()\n",
    "tr_features = feat_all[0:tr_len,1:-1]\n",
    "tr_features = tr_features.astype(float)\n",
    "test_features = feat_all[tr_len:tr_len+test_len,1:-1]\n",
    "test_features = test_features.astype(float)"
   ]
  },
  {
   "cell_type": "code",
   "execution_count": 32,
   "metadata": {},
   "outputs": [
    {
     "data": {
      "text/plain": [
       "(8062, 19)"
      ]
     },
     "execution_count": 32,
     "metadata": {},
     "output_type": "execute_result"
    }
   ],
   "source": [
    "tr_features.shape"
   ]
  },
  {
   "cell_type": "code",
   "execution_count": 33,
   "metadata": {},
   "outputs": [
    {
     "data": {
      "text/plain": [
       "(680, 19)"
      ]
     },
     "execution_count": 33,
     "metadata": {},
     "output_type": "execute_result"
    }
   ],
   "source": [
    "test_features.shape"
   ]
  },
  {
   "cell_type": "code",
   "execution_count": 34,
   "metadata": {},
   "outputs": [
    {
     "data": {
      "text/plain": [
       "[<matplotlib.lines.Line2D at 0x27ac927c548>]"
      ]
     },
     "execution_count": 34,
     "metadata": {},
     "output_type": "execute_result"
    },
    {
     "data": {
      "image/png": "[encoded data removed]",
      "text/plain": [
       "<Figure size 432x288 with 1 Axes>"
      ]
     },
     "metadata": {
      "needs_background": "light"
     },
     "output_type": "display_data"
    }
   ],
   "source": [
    "plt.semilogy(tr_features[:,-1])"
   ]
  },
  {
   "cell_type": "code",
   "execution_count": 35,
   "metadata": {},
   "outputs": [
    {
     "data": {
      "text/plain": [
       "[<matplotlib.lines.Line2D at 0x27aca688a08>]"
      ]
     },
     "execution_count": 35,
     "metadata": {},
     "output_type": "execute_result"
    },
    {
     "data": {
      "image/png": "[encoded data removed]",
      "text/plain": [
       "<Figure size 432x288 with 1 Axes>"
      ]
     },
     "metadata": {
      "needs_background": "light"
     },
     "output_type": "display_data"
    }
   ],
   "source": [
    "plt.semilogy(test_features[:,-1])"
   ]
  },
  {
   "cell_type": "code",
   "execution_count": 36,
   "metadata": {},
   "outputs": [
    {
     "data": {
      "text/plain": [
       "677"
      ]
     },
     "execution_count": 36,
     "metadata": {},
     "output_type": "execute_result"
    }
   ],
   "source": [
    "len(set(test_features[:,-1]))"
   ]
  },
  {
   "cell_type": "markdown",
   "metadata": {},
   "source": [
    "### To obtain set of one hot codes for our labels"
   ]
  },
  {
   "cell_type": "code",
   "execution_count": 37,
   "metadata": {},
   "outputs": [],
   "source": [
    "feat_tr = feat_all[0:tr_len,1:]\n",
    "feat_test = feat_all[tr_len:tr_len+test_len,1:]"
   ]
  },
  {
   "cell_type": "code",
   "execution_count": 38,
   "metadata": {},
   "outputs": [],
   "source": [
    "feat_test[:,-1] = [genre_set.index(w) for w in feat_test[:,-1]]\n",
    "feat_tr[:,-1] = [genre_set.index(w) for w in feat_tr[:,-1]]"
   ]
  },
  {
   "cell_type": "code",
   "execution_count": 39,
   "metadata": {},
   "outputs": [
    {
     "data": {
      "text/plain": [
       "[<matplotlib.lines.Line2D at 0x27acb1fb508>]"
      ]
     },
     "execution_count": 39,
     "metadata": {},
     "output_type": "execute_result"
    },
    {
     "data": {
      "image/png": "[encoded data removed]",
      "text/plain": [
       "<Figure size 432x288 with 1 Axes>"
      ]
     },
     "metadata": {
      "needs_background": "light"
     },
     "output_type": "display_data"
    }
   ],
   "source": [
    "plt.plot(feat_tr[:,-1])"
   ]
  },
  {
   "cell_type": "code",
   "execution_count": 40,
   "metadata": {},
   "outputs": [
    {
     "name": "stdout",
     "output_type": "stream",
     "text": [
      "(6, 48372)\n"
     ]
    }
   ],
   "source": [
    "num_classes = len(genre_set)\n",
    "one_hot = np.zeros((num_classes, num_classes*tr_len))\n",
    "print(one_hot.shape)\n",
    "for index_i, i in enumerate(feat_tr[:,-1]):\n",
    "    one_hot[int(i),index_i] = 1\n"
   ]
  },
  {
   "cell_type": "code",
   "execution_count": 41,
   "metadata": {},
   "outputs": [
    {
     "data": {
      "text/plain": [
       "array([4, 4, 2, 3, 5, 5, 4, 4, 3, 3], dtype=object)"
      ]
     },
     "execution_count": 41,
     "metadata": {},
     "output_type": "execute_result"
    }
   ],
   "source": [
    "feat_tr[0:10,-1]"
   ]
  },
  {
   "cell_type": "code",
   "execution_count": 42,
   "metadata": {},
   "outputs": [
    {
     "name": "stdout",
     "output_type": "stream",
     "text": [
      "[[0. 0. 0. 0. 0. 0. 0. 0. 0. 0.]\n",
      " [0. 0. 0. 0. 0. 0. 0. 0. 0. 0.]\n",
      " [0. 0. 1. 0. 0. 0. 0. 0. 0. 0.]\n",
      " [0. 0. 0. 1. 0. 0. 0. 0. 1. 1.]\n",
      " [1. 1. 0. 0. 0. 0. 1. 1. 0. 0.]\n",
      " [0. 0. 0. 0. 1. 1. 0. 0. 0. 0.]]\n",
      "(6, 48372)\n"
     ]
    }
   ],
   "source": [
    "print(one_hot[:,0:10])\n",
    "print(one_hot.shape)"
   ]
  },
  {
   "cell_type": "markdown",
   "metadata": {},
   "source": [
    "## Dimension Reduction"
   ]
  },
  {
   "cell_type": "markdown",
   "metadata": {},
   "source": [
    "Here there are a large number of features extracted so, data driven methods are used to reduce the dimension"
   ]
  },
  {
   "cell_type": "markdown",
   "metadata": {},
   "source": [
    "### Using PCA for dimension reduction "
   ]
  },
  {
   "cell_type": "code",
   "execution_count": 43,
   "metadata": {},
   "outputs": [
    {
     "data": {
      "text/plain": [
       "(8062, 19)"
      ]
     },
     "execution_count": 43,
     "metadata": {},
     "output_type": "execute_result"
    }
   ],
   "source": [
    "tr_features.shape"
   ]
  },
  {
   "cell_type": "code",
   "execution_count": 44,
   "metadata": {},
   "outputs": [],
   "source": [
    "from sklearn.decomposition import PCA\n",
    "from sklearn.decomposition import KernelPCA"
   ]
  },
  {
   "cell_type": "code",
   "execution_count": 45,
   "metadata": {},
   "outputs": [],
   "source": [
    "#pca = PCA(n_components=40, svd_solver='full')\n",
    "pca = KernelPCA(n_components=518, kernel='linear')"
   ]
  },
  {
   "cell_type": "code",
   "execution_count": 46,
   "metadata": {},
   "outputs": [],
   "source": [
    "pca_obj = pca.fit(tr_features)"
   ]
  },
  {
   "cell_type": "code",
   "execution_count": 47,
   "metadata": {},
   "outputs": [],
   "source": [
    "tr_features_red = pca_obj.transform(tr_features)"
   ]
  },
  {
   "cell_type": "code",
   "execution_count": 48,
   "metadata": {},
   "outputs": [],
   "source": [
    "test_features_red = pca_obj.transform(test_features)"
   ]
  },
  {
   "cell_type": "code",
   "execution_count": 49,
   "metadata": {},
   "outputs": [
    {
     "data": {
      "text/plain": [
       "(8062, 518)"
      ]
     },
     "execution_count": 49,
     "metadata": {},
     "output_type": "execute_result"
    }
   ],
   "source": [
    "tr_features_red.shape"
   ]
  },
  {
   "cell_type": "code",
   "execution_count": null,
   "metadata": {},
   "outputs": [],
   "source": []
  },
  {
   "cell_type": "code",
   "execution_count": null,
   "metadata": {},
   "outputs": [],
   "source": []
  },
  {
   "cell_type": "markdown",
   "metadata": {},
   "source": [
    "## Training Stage"
   ]
  },
  {
   "cell_type": "markdown",
   "metadata": {},
   "source": [
    "### Setting up data "
   ]
  },
  {
   "cell_type": "code",
   "execution_count": 53,
   "metadata": {},
   "outputs": [],
   "source": [
    "x_train = tr_features_red/1000\n",
    "x_test = test_features_red/1000\n",
    "y_train = feat_tr[:,-1]\n",
    "y_test = feat_test[:,-1]"
   ]
  },
  {
   "cell_type": "code",
   "execution_count": 54,
   "metadata": {},
   "outputs": [],
   "source": [
    "class_set = list(range(num_classes))\n",
    "class_lbl = [genre_set[i] for i in class_set]\n",
    "class_name = [main_label_dict[genre_set[i]] for i in class_set]\n",
    "label_dict = dict(zip(class_name,class_set))"
   ]
  },
  {
   "cell_type": "code",
   "execution_count": 52,
   "metadata": {},
   "outputs": [
    {
     "data": {
      "text/plain": [
       "{'Classical': 0, 'Pop': 1, 'Rock': 2, 'Electronic': 3, 'Folk': 4, 'Hip-Hop': 5}"
      ]
     },
     "execution_count": 52,
     "metadata": {},
     "output_type": "execute_result"
    }
   ],
   "source": [
    "label_dict"
   ]
  },
  {
   "cell_type": "code",
   "execution_count": 58,
   "metadata": {},
   "outputs": [],
   "source": [
    "def plot_confusion_matrix(cm, classes,normalize=False,title='Confusion matrix',cmap=plt.cm.Blues):\n",
    "    \"\"\"\n",
    "    This function prints and plots the confusion matrix.\n",
    "    Normalization can be applied by setting `normalize=True`.\n",
    "    \"\"\"\n",
    "    #plt.figure(figsize=(8,8))\n",
    "    plt.subplots()\n",
    "    plt.imshow(cm, interpolation='nearest', cmap=cmap, aspect='auto')\n",
    "    \n",
    "    ax = plt.gca();\n",
    "\n",
    "    plt.title(title)\n",
    "    plt.colorbar()\n",
    "    tick_marks = np.arange(len(classes))\n",
    "    plt.gcf().subplots_adjust(bottom=0.15)\n",
    "    ax.set_xticks(np.arange(len(classes)))\n",
    "    ax.set_yticks(np.arange(len(classes)))\n",
    "    ax.set_xticklabels(classes)\n",
    "    ax.set_yticklabels(classes)\n",
    "    plt.setp(ax.get_xticklabels(), rotation=45, ha=\"right\",\n",
    "         rotation_mode=\"anchor\")\n",
    "    bottom, top = ax.get_ylim()\n",
    "    ax.set_ylim(bottom + 0.5, top - 0.5)\n",
    "\n",
    "    if normalize:\n",
    "        cm = cm.astype('float') / cm.sum(axis=1)[:, np.newaxis]\n",
    "        print(\"Normalized confusion matrix\")\n",
    "    else:\n",
    "        print('Confusion matrix, without normalization')\n",
    "\n",
    "    print(cm)\n",
    "\n",
    "    thresh = cm.max() / 2.\n",
    "    for i, j in itertools.product(range(cm.shape[0]), range(cm.shape[1])):\n",
    "        plt.text(j, i, cm[i, j],\n",
    "                 horizontalalignment=\"center\",\n",
    "                 color=\"white\" if cm[i, j] > thresh else \"black\")\n",
    "\n",
    "    plt.tight_layout()\n",
    "    plt.ylabel('True label')\n",
    "    plt.xlabel('Predicted label')\n",
    "    \n",
    "def one_hot_encoder(true_labels, num_records, num_classes):\n",
    "    temp = np.array(true_labels[:num_records])\n",
    "    true_labels1 = np.zeros((num_records, num_classes))\n",
    "    #print(true_labels.shape)\n",
    "    for index_i, i in enumerate(true_labels):\n",
    "        #print(index_i,i)\n",
    "        true_labels1[index_i,int(i)] = 1\n",
    "    return true_labels1\n",
    "\n",
    "def display_results(y_test, pred_probs, cm = True):\n",
    "    pred = np.argmax(pred_probs, axis=-1)\n",
    "    #print(pred)\n",
    "    one_hot_true = one_hot_encoder(y_test, len(pred), num_classes)\n",
    "    print('Test Set Accuracy =  {0:.2f}'.format(accuracy_score(y_test, pred)))\n",
    "    print('Test Set F-score =  {0:.2f}'.format(f1_score(y_test, pred, average='macro')))\n",
    "    print('ROC AUC = {0:.3f}'.format(roc_auc_score(y_true=one_hot_true, y_score=pred_probs, average='macro')))\n",
    "    if cm:\n",
    "        plot_confusion_matrix(confusion_matrix(y_test, pred), classes=label_dict.keys())"
   ]
  },
  {
   "cell_type": "markdown",
   "metadata": {},
   "source": [
    "### Boosting"
   ]
  },
  {
   "cell_type": "code",
   "execution_count": 54,
   "metadata": {},
   "outputs": [
    {
     "name": "stdout",
     "output_type": "stream",
     "text": [
      "Wall time: 22.3 s\n"
     ]
    }
   ],
   "source": [
    "%%time\n",
    "# Train\n",
    "\n",
    "xgb_classifier = xgb.XGBClassifier(max_depth=5, learning_rate=0.01, objective='multi:softprob', \\\n",
    "                                   n_estimators=350, sub_sample = 0.9, num_class = num_classes)\n",
    "xgb_classifier.fit(x_train, y_train)\n",
    "\n",
    "# Predict\n",
    "pred_probs = xgb_classifier.predict_proba(x_test)\n"
   ]
  },
  {
   "cell_type": "code",
   "execution_count": 55,
   "metadata": {},
   "outputs": [
    {
     "name": "stdout",
     "output_type": "stream",
     "text": [
      "Test Error:  0.6264705882352941\n"
     ]
    }
   ],
   "source": [
    "pred = np.argmax(pred_probs, axis=-1)\n",
    "print('Test Error: ',len(y_test[y_test!=pred])/len(y_test))"
   ]
  },
  {
   "cell_type": "code",
   "execution_count": 56,
   "metadata": {},
   "outputs": [
    {
     "name": "stdout",
     "output_type": "stream",
     "text": [
      "Test Set Accuracy =  0.37\n",
      "Test Set F-score =  0.27\n",
      "ROC AUC = 0.686\n",
      "Confusion matrix, without normalization\n",
      "[[  8   0   7  10   1  25]\n",
      " [  0   3   8   8   1  28]\n",
      " [  3   1  32  30   3  63]\n",
      " [  2   1  24  63   7  66]\n",
      " [  1   0  10  34   7  48]\n",
      " [  4   1  13  22   5 141]]\n"
     ]
    },
    {
     "data": {
      "image/png": "[encoded data removed]",
      "text/plain": [
       "<Figure size 432x288 with 2 Axes>"
      ]
     },
     "metadata": {
      "needs_background": "light"
     },
     "output_type": "display_data"
    }
   ],
   "source": [
    "display_results(np.array(y_test,dtype=int), pred_probs)"
   ]
  },
  {
   "cell_type": "markdown",
   "metadata": {},
   "source": [
    "### SVM "
   ]
  },
  {
   "cell_type": "code",
   "execution_count": 57,
   "metadata": {},
   "outputs": [],
   "source": [
    "cl_weight = dict(pd.Series(np.array(y_train,dtype=int)).value_counts(normalize=True))"
   ]
  },
  {
   "cell_type": "code",
   "execution_count": 58,
   "metadata": {},
   "outputs": [
    {
     "data": {
      "text/plain": [
       "{5: 0.27003225006201936,\n",
       " 3: 0.255271644753163,\n",
       " 2: 0.1966013396179608,\n",
       " 4: 0.13706276358223765,\n",
       " 0: 0.08434631605060779,\n",
       " 1: 0.05668568593401141}"
      ]
     },
     "execution_count": 58,
     "metadata": {},
     "output_type": "execute_result"
    }
   ],
   "source": [
    "cl_weight"
   ]
  },
  {
   "cell_type": "code",
   "execution_count": 59,
   "metadata": {},
   "outputs": [
    {
     "name": "stderr",
     "output_type": "stream",
     "text": [
      "G:\\Anaconda\\lib\\site-packages\\sklearn\\svm\\base.py:193: FutureWarning: The default value of gamma will change from 'auto' to 'scale' in version 0.22 to account better for unscaled features. Set gamma explicitly to 'auto' or 'scale' to avoid this warning.\n",
      "  \"avoid this warning.\", FutureWarning)\n"
     ]
    },
    {
     "name": "stdout",
     "output_type": "stream",
     "text": [
      "Wall time: 38.5 s\n"
     ]
    }
   ],
   "source": [
    "%%time\n",
    "\n",
    "# Train\n",
    "svm_classifier = SVC(C=10000.0, probability = True, class_weight=cl_weight)\n",
    "svm_classifier.fit(x_train, np.array(y_train,dtype=int))\n",
    "\n",
    "# Predict\n",
    "pred_probs = svm_classifier.predict_proba(x_test)"
   ]
  },
  {
   "cell_type": "code",
   "execution_count": 60,
   "metadata": {},
   "outputs": [
    {
     "name": "stdout",
     "output_type": "stream",
     "text": [
      "Test Error:  0.6794117647058824\n"
     ]
    }
   ],
   "source": [
    "pred = np.argmax(pred_probs, axis=-1)\n",
    "print('Test Error: ',len(y_test[y_test!=pred])/len(y_test))"
   ]
  },
  {
   "cell_type": "code",
   "execution_count": 61,
   "metadata": {},
   "outputs": [
    {
     "name": "stdout",
     "output_type": "stream",
     "text": [
      "Test Set Accuracy =  0.32\n",
      "Test Set F-score =  0.17\n",
      "ROC AUC = 0.636\n",
      "Confusion matrix, without normalization\n",
      "[[  4   0   0  18   0  29]\n",
      " [  0   0   4  11   0  33]\n",
      " [  1   0   7  32   1  91]\n",
      " [  3   1  10  62   0  87]\n",
      " [  0   0   5  35   1  59]\n",
      " [  2   1   6  33   0 144]]\n"
     ]
    },
    {
     "data": {
      "image/png": "[encoded data removed]",
      "text/plain": [
       "<Figure size 432x288 with 2 Axes>"
      ]
     },
     "metadata": {
      "needs_background": "light"
     },
     "output_type": "display_data"
    }
   ],
   "source": [
    "display_results(np.array(y_test,dtype=int), pred_probs)"
   ]
  },
  {
   "cell_type": "markdown",
   "metadata": {},
   "source": [
    "### Random Forest"
   ]
  },
  {
   "cell_type": "code",
   "execution_count": 62,
   "metadata": {},
   "outputs": [
    {
     "name": "stdout",
     "output_type": "stream",
     "text": [
      "Wall time: 11.6 s\n"
     ]
    }
   ],
   "source": [
    "%%time\n",
    "# Train\n",
    "rf_classifier = RandomForestClassifier(n_estimators=500, min_samples_split=5)\n",
    "rf_classifier.fit(x_train, np.array(y_train,dtype=int))\n",
    "\n",
    "# Predict\n",
    "pred_probs = rf_classifier.predict_proba(x_test)"
   ]
  },
  {
   "cell_type": "code",
   "execution_count": 63,
   "metadata": {},
   "outputs": [
    {
     "name": "stdout",
     "output_type": "stream",
     "text": [
      "Test Set Accuracy =  0.44\n",
      "Test Set F-score =  0.34\n",
      "ROC AUC = 0.753\n",
      "Confusion matrix, without normalization\n",
      "[[  8   0   7   9   0  27]\n",
      " [  2   7   8  10   0  21]\n",
      " [  2   1  47  25   3  54]\n",
      " [  1   1  20  83   4  54]\n",
      " [  3   0  10  33   9  45]\n",
      " [  1   0  17  25   0 143]]\n"
     ]
    },
    {
     "data": {
      "image/png": "[encoded data removed]",
      "text/plain": [
       "<Figure size 432x288 with 2 Axes>"
      ]
     },
     "metadata": {
      "needs_background": "light"
     },
     "output_type": "display_data"
    }
   ],
   "source": [
    "# Results\n",
    "display_results(np.array(y_test,dtype=int), pred_probs)"
   ]
  },
  {
   "cell_type": "markdown",
   "metadata": {},
   "source": [
    "### Logistic Regression"
   ]
  },
  {
   "cell_type": "code",
   "execution_count": 64,
   "metadata": {},
   "outputs": [
    {
     "name": "stdout",
     "output_type": "stream",
     "text": [
      "Wall time: 141 ms\n"
     ]
    },
    {
     "name": "stderr",
     "output_type": "stream",
     "text": [
      "G:\\Anaconda\\lib\\site-packages\\sklearn\\linear_model\\logistic.py:432: FutureWarning: Default solver will be changed to 'lbfgs' in 0.22. Specify a solver to silence this warning.\n",
      "  FutureWarning)\n",
      "G:\\Anaconda\\lib\\site-packages\\sklearn\\linear_model\\logistic.py:469: FutureWarning: Default multi_class will be changed to 'auto' in 0.22. Specify the multi_class option to silence this warning.\n",
      "  \"this warning.\", FutureWarning)\n"
     ]
    }
   ],
   "source": [
    "%%time\n",
    "# Train\n",
    "lr_classifier = LogisticRegression(penalty='l1')\n",
    "lr_classifier.fit(x_train, np.array(y_train,dtype=int))\n",
    "\n",
    "# Predict\n",
    "pred_probs = lr_classifier.predict_proba(x_test)"
   ]
  },
  {
   "cell_type": "code",
   "execution_count": 65,
   "metadata": {},
   "outputs": [
    {
     "name": "stderr",
     "output_type": "stream",
     "text": [
      "G:\\Anaconda\\lib\\site-packages\\sklearn\\metrics\\classification.py:1437: UndefinedMetricWarning: F-score is ill-defined and being set to 0.0 in labels with no predicted samples.\n",
      "  'precision', 'predicted', average, warn_for)\n"
     ]
    },
    {
     "name": "stdout",
     "output_type": "stream",
     "text": [
      "Test Set Accuracy =  0.31\n",
      "Test Set F-score =  0.15\n",
      "ROC AUC = 0.614\n",
      "Confusion matrix, without normalization\n",
      "[[  1   0   0  16   0  34]\n",
      " [  0   0   1  16   0  31]\n",
      " [  0   0   3  45   0  84]\n",
      " [  0   0   3  67   0  93]\n",
      " [  0   0   3  42   0  55]\n",
      " [  1   0   5  38   0 142]]\n"
     ]
    },
    {
     "data": {
      "image/png": "[encoded data removed]",
      "text/plain": [
       "<Figure size 432x288 with 2 Axes>"
      ]
     },
     "metadata": {
      "needs_background": "light"
     },
     "output_type": "display_data"
    }
   ],
   "source": [
    "# Results\n",
    "display_results(np.array(y_test,dtype=int), pred_probs)"
   ]
  },
  {
   "cell_type": "markdown",
   "metadata": {},
   "source": [
    "### SNN"
   ]
  },
  {
   "cell_type": "code",
   "execution_count": 55,
   "metadata": {},
   "outputs": [
    {
     "name": "stdout",
     "output_type": "stream",
     "text": [
      "(518, 8062)\n",
      "(518, 680)\n",
      "(8062,)\n",
      "(8062,)\n"
     ]
    }
   ],
   "source": [
    "x_train = x_train.T/np.max(abs(x_train))\n",
    "print(x_train.shape)\n",
    "x_test = x_test.T/np.max(abs(x_test))\n",
    "print(x_test.shape)\n",
    "print(y_train.shape)\n",
    "y_train = y_train.T\n",
    "print(y_train.shape)"
   ]
  },
  {
   "cell_type": "code",
   "execution_count": 56,
   "metadata": {},
   "outputs": [
    {
     "name": "stdout",
     "output_type": "stream",
     "text": [
      "<class 'numpy.ndarray'>\n",
      "[[0. 0. 0. ... 0. 0. 0.]\n",
      " [0. 0. 0. ... 0. 0. 0.]\n",
      " [0. 0. 1. ... 0. 1. 0.]\n",
      " [0. 0. 0. ... 1. 0. 0.]\n",
      " [1. 1. 0. ... 0. 0. 0.]\n",
      " [0. 0. 0. ... 0. 0. 1.]]\n",
      "1.8279908900568056 should be around .26\n",
      "86.20689655172413\n"
     ]
    }
   ],
   "source": [
    "def label2onehot(lbl):\n",
    "    d = np.zeros((lbl.max() + 1, lbl.size))\n",
    "    d[lbl, np.arange(lbl.size)] = 1\n",
    "    return d\n",
    "def onehot2label(d):\n",
    "    lbl = d.argmax(axis=0)\n",
    "    return lbl\n",
    "\n",
    "\n",
    "# turn labels into one hot\n",
    "y_train.shape\n",
    "print(type(y_train))\n",
    "y_train = y_train.astype(int)\n",
    "y_train_onehot = label2onehot(y_train)\n",
    "\n",
    "def init_shallow(Ni, Nh, No):\n",
    "    b1 = np.random.randn(Nh, 1) / np.sqrt((Ni+1.)/2.)\n",
    "    W1 = np.random.randn(Nh, Ni) / np.sqrt((Ni+1.)/2.)\n",
    "    b2 = np.random.randn(No, 1) / np.sqrt((Nh+1.))\n",
    "    W2 = np.random.randn(No, Nh) / np.sqrt((Nh+1.))\n",
    "    return W1, b1, W2, b2\n",
    "Ni = x_train.shape[0]\n",
    "Nh = 19\n",
    "No = y_train_onehot.shape[0]\n",
    "netinit = init_shallow(Ni, Nh, No)\n",
    "\n",
    "print(y_train_onehot)\n",
    "\n",
    "def softmax(a):\n",
    "    a_max = np.zeros((1,60000))\n",
    "    a_max = a.max(axis = 0)\n",
    "    a_sane = a - a_max\n",
    "    a_sane_exp = np.exp(a_sane)\n",
    "    y = a_sane_exp/(a_sane_exp.sum(axis = 0))\n",
    "    return y\n",
    "def softmaxp(a,e):\n",
    "    k = softmax(a)\n",
    "    part1 = np.multiply(k,e)\n",
    "    new = part1.sum(axis = 0)\n",
    "    part2 = np.multiply(new.T,k)\n",
    "    return(part1 - part2)\n",
    "def relu(a):\n",
    "    return(np.where(a>0,a,0))\n",
    "def relup(a,e):\n",
    "    a = np.where(a>0,1,0)\n",
    "    return(a*e)\n",
    "def forwardprop_shallow(x, net):\n",
    "#     print(net)\n",
    "    W1 = net[0]\n",
    "    b1 = net[1]\n",
    "    W2 = net[2]\n",
    "    b2 = net[3]\n",
    "#     print(\"Shape of W1 is \", W1.shape)\n",
    "#     print(x.shape)\n",
    "    Z1 = W1.dot(x) + b1\n",
    "    a1 = relu(Z1)\n",
    "    a2 = W2.dot(a1) + b2\n",
    "    y = softmax(a2)\n",
    "    return y\n",
    "yinit = forwardprop_shallow(x_train, netinit)\n",
    "\n",
    "def eval_loss(y, d):\n",
    "    sum_vert = -np.log(y)*d\n",
    "    return(sum_vert.sum()/y.shape[1])\n",
    "print(eval_loss(yinit, y_train_onehot), 'should be around .26')\n",
    "\n",
    "def eval_perfs(y, lbl):\n",
    "    y_oneD = onehot2label(y)\n",
    "    perf_par = (y_oneD != lbl)\n",
    "    sum_perf_par = perf_par.sum()\n",
    "    return (sum_perf_par/lbl.shape[0])*100\n",
    "print(eval_perfs(yinit, y_train))\n",
    "\n",
    "def update_shallow(x, d, net, gamma=.05):\n",
    "    W1 = net[0]\n",
    "    b1 = net[1]\n",
    "    W2 = net[2]\n",
    "    b2 = net[3]\n",
    "    Ni = W1.shape[1]\n",
    "    Nh = W1.shape[0]\n",
    "    No = W2.shape[0]\n",
    "    gamma = gamma / x.shape[1] # normalized by the training dataset size\n",
    "    Z1 = W1.dot(x) + b1\n",
    "    a1 = relu(Z1)\n",
    "    a2 = W2.dot(a1) + b2\n",
    "    y = softmax(a2)\n",
    "    e2 = - d / y\n",
    "    delta2 = softmaxp(a2,e2)\n",
    "    e1 = W2.T.dot(delta2)\n",
    "    delta1 = relup(a1, e1) \n",
    "    W2 = W2 - gamma * delta2.dot(a1.T)\n",
    "    W1 = W1 - gamma * delta1.dot(x.T)\n",
    "    b2 = b2 - gamma * delta2.sum(axis =1, keepdims = True )\n",
    "    b1 = b1 - gamma * delta1.sum(axis =1, keepdims = True )\n",
    "    return W1, b1, W2, b2\n",
    "\n",
    "def backprop_shallow(x, d, net, T, gamma=.05):\n",
    "    lbl = onehot2label(d)\n",
    "    for t in range(T):\n",
    "        net = update_shallow(x, d, net)\n",
    "        #net = [W1,b1,W2,b2]\n",
    "        y = forwardprop_shallow(x, net)\n",
    "        loss = eval_loss(y, d)\n",
    "        #print(loss)\n",
    "        performance = eval_perfs(y, lbl)\n",
    "        #print(performance)\n",
    "    return net\n",
    "\n",
    "nettrain_batch2 = backprop_shallow(x_train, y_train_onehot, netinit, 10000)"
   ]
  },
  {
   "cell_type": "code",
   "execution_count": 59,
   "metadata": {},
   "outputs": [
    {
     "name": "stdout",
     "output_type": "stream",
     "text": [
      "(518, 680)\n",
      "(680,)\n",
      "73.08823529411764\n",
      "Test Set Accuracy =  0.27\n",
      "Test Set F-score =  0.11\n",
      "ROC AUC = 0.551\n",
      "Confusion matrix, without normalization\n",
      "[[  0   0   0  22   0  32]\n",
      " [  0   0   0   9   0  30]\n",
      " [  0   0   0  59   0  83]\n",
      " [  0   0   0  59   0 111]\n",
      " [  0   0   0  39   0  54]\n",
      " [  0   0   0  58   0 124]]\n"
     ]
    },
    {
     "name": "stderr",
     "output_type": "stream",
     "text": [
      "G:\\Anaconda\\lib\\site-packages\\sklearn\\metrics\\classification.py:1437: UndefinedMetricWarning: F-score is ill-defined and being set to 0.0 in labels with no predicted samples.\n",
      "  'precision', 'predicted', average, warn_for)\n"
     ]
    },
    {
     "data": {
      "image/png": "[encoded data removed]",
      "text/plain": [
       "<Figure size 432x288 with 2 Axes>"
      ]
     },
     "metadata": {
      "needs_background": "light"
     },
     "output_type": "display_data"
    }
   ],
   "source": [
    "print(x_test.shape)\n",
    "print(y_test.shape)\n",
    "\n",
    "y_test = y_test.astype(int)\n",
    "y_test_onehot = label2onehot(y_test)\n",
    "\n",
    "y_output = forwardprop_shallow(x_test, nettrain_batch2)\n",
    "\n",
    "perf = eval_perfs(y_output, y_test)\n",
    "print(perf)\n",
    "\n",
    "display_results(np.array(y_test,dtype=int), y_output.T)"
   ]
  },
  {
   "cell_type": "code",
   "execution_count": null,
   "metadata": {},
   "outputs": [],
   "source": []
  }
 ],
 "metadata": {
  "kernelspec": {
   "display_name": "Python 3",
   "language": "python",
   "name": "python3"
  },
  "language_info": {
   "codemirror_mode": {
    "name": "ipython",
    "version": 3
   },
   "file_extension": ".py",
   "mimetype": "text/x-python",
   "name": "python",
   "nbconvert_exporter": "python",
   "pygments_lexer": "ipython3",
   "version": "3.7.4"
  }
 },
 "nbformat": 4,
 "nbformat_minor": 2
}
