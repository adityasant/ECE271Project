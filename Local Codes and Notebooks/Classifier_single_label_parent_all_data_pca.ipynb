{
 "cells": [
  {
   "cell_type": "markdown",
   "metadata": {},
   "source": [
    "## Data Cleaning Stage"
   ]
  },
  {
   "cell_type": "markdown",
   "metadata": {},
   "source": [
    "### Data reading"
   ]
  },
  {
   "cell_type": "markdown",
   "metadata": {},
   "source": [
    "This notebook brings uses the scripts read_data_features.py and read_data_genre_track.py to arrive at a cleaned dataset with ready to use features and labels."
   ]
  },
  {
   "cell_type": "markdown",
   "metadata": {},
   "source": [
    "The following is 'read_data_genre_track.py'. "
   ]
  },
  {
   "cell_type": "code",
   "execution_count": 3,
   "metadata": {},
   "outputs": [],
   "source": [
    "import numpy as np\n",
    "import pandas as pd"
   ]
  },
  {
   "cell_type": "code",
   "execution_count": 41,
   "metadata": {},
   "outputs": [],
   "source": [
    "# import xgboost as xgb\n",
    "import itertools\n",
    "import pickle\n",
    "import matplotlib\n",
    "from matplotlib import pyplot as plt\n",
    "from sklearn.linear_model import LogisticRegression\n",
    "from sklearn.svm import SVC\n",
    "from sklearn.ensemble import RandomForestClassifier\n",
    "from sklearn.model_selection import train_test_split\n",
    "from sklearn.preprocessing import MinMaxScaler, OneHotEncoder\n",
    "from sklearn.feature_selection import SelectFromModel\n",
    "from sklearn.utils.class_weight import compute_class_weight\n",
    "from sklearn.decomposition import PCA\n",
    "from sklearn.manifold import TSNE\n",
    "from sklearn.metrics import confusion_matrix, f1_score, accuracy_score, roc_auc_score, roc_curve, auc\n",
    "from scipy import interp\n",
    "from itertools import cycle\n",
    "\n",
    "#matplotlib.rcParams.update({'font.size': 14})\n",
    "%matplotlib inline"
   ]
  },
  {
   "cell_type": "code",
   "execution_count": 42,
   "metadata": {},
   "outputs": [],
   "source": [
    "metadata_path = 'fma_metadata'"
   ]
  },
  {
   "cell_type": "code",
   "execution_count": 43,
   "metadata": {},
   "outputs": [],
   "source": [
    "## Read genre information\n",
    "genres = pd.read_csv(metadata_path+'\\\\genres.csv')"
   ]
  },
  {
   "cell_type": "code",
   "execution_count": 44,
   "metadata": {},
   "outputs": [],
   "source": [
    "genre_grps = genres.groupby('parent')\n"
   ]
  },
  {
   "cell_type": "code",
   "execution_count": 45,
   "metadata": {
    "scrolled": false
   },
   "outputs": [],
   "source": [
    "genre_id_root = genre_grps.get_group(0)['genre_id'] # Extract the parent groups\n",
    "genre_id_name = genre_grps.get_group(0)['title']\n",
    "main_label_dict = dict(zip(list(genre_id_root),list(genre_id_name)))"
   ]
  },
  {
   "cell_type": "code",
   "execution_count": 46,
   "metadata": {},
   "outputs": [
    {
     "data": {
      "text/plain": [
       "{2: 'International',\n",
       " 3: 'Blues',\n",
       " 4: 'Jazz',\n",
       " 5: 'Classical',\n",
       " 8: 'Old-Time / Historic',\n",
       " 9: 'Country',\n",
       " 10: 'Pop',\n",
       " 12: 'Rock',\n",
       " 13: 'Easy Listening',\n",
       " 14: 'Soul-RnB',\n",
       " 15: 'Electronic',\n",
       " 17: 'Folk',\n",
       " 20: 'Spoken',\n",
       " 21: 'Hip-Hop',\n",
       " 38: 'Experimental',\n",
       " 1235: 'Instrumental'}"
      ]
     },
     "execution_count": 46,
     "metadata": {},
     "output_type": "execute_result"
    }
   ],
   "source": [
    "main_label_dict"
   ]
  },
  {
   "cell_type": "code",
   "execution_count": 47,
   "metadata": {},
   "outputs": [
    {
     "data": {
      "text/html": [
       "<div>\n",
       "<style scoped>\n",
       "    .dataframe tbody tr th:only-of-type {\n",
       "        vertical-align: middle;\n",
       "    }\n",
       "\n",
       "    .dataframe tbody tr th {\n",
       "        vertical-align: top;\n",
       "    }\n",
       "\n",
       "    .dataframe thead th {\n",
       "        text-align: right;\n",
       "    }\n",
       "</style>\n",
       "<table border=\"1\" class=\"dataframe\">\n",
       "  <thead>\n",
       "    <tr style=\"text-align: right;\">\n",
       "      <th></th>\n",
       "      <th>track_id</th>\n",
       "      <th>genres</th>\n",
       "      <th>genres_all</th>\n",
       "    </tr>\n",
       "  </thead>\n",
       "  <tbody>\n",
       "    <tr>\n",
       "      <td>0</td>\n",
       "      <td>2</td>\n",
       "      <td>[21]</td>\n",
       "      <td>[21]</td>\n",
       "    </tr>\n",
       "    <tr>\n",
       "      <td>1</td>\n",
       "      <td>3</td>\n",
       "      <td>[21]</td>\n",
       "      <td>[21]</td>\n",
       "    </tr>\n",
       "    <tr>\n",
       "      <td>2</td>\n",
       "      <td>5</td>\n",
       "      <td>[21]</td>\n",
       "      <td>[21]</td>\n",
       "    </tr>\n",
       "    <tr>\n",
       "      <td>3</td>\n",
       "      <td>10</td>\n",
       "      <td>[10]</td>\n",
       "      <td>[10]</td>\n",
       "    </tr>\n",
       "    <tr>\n",
       "      <td>4</td>\n",
       "      <td>20</td>\n",
       "      <td>[76, 103]</td>\n",
       "      <td>[17, 10, 76, 103]</td>\n",
       "    </tr>\n",
       "  </tbody>\n",
       "</table>\n",
       "</div>"
      ],
      "text/plain": [
       "   track_id     genres         genres_all\n",
       "0         2       [21]               [21]\n",
       "1         3       [21]               [21]\n",
       "2         5       [21]               [21]\n",
       "3        10       [10]               [10]\n",
       "4        20  [76, 103]  [17, 10, 76, 103]"
      ]
     },
     "execution_count": 47,
     "metadata": {},
     "output_type": "execute_result"
    }
   ],
   "source": [
    "## Read track information\n",
    "fields = ['track']\n",
    "tracks = pd.read_csv(metadata_path+'\\\\tracks_mod.csv',nrows=85000)\n",
    "tracks.head()"
   ]
  },
  {
   "cell_type": "code",
   "execution_count": 48,
   "metadata": {},
   "outputs": [],
   "source": [
    "tracks = tracks.dropna()"
   ]
  },
  {
   "cell_type": "code",
   "execution_count": 49,
   "metadata": {},
   "outputs": [],
   "source": [
    "tgen = list(tracks['genres'])\n",
    "#print(tgen)"
   ]
  },
  {
   "cell_type": "code",
   "execution_count": 50,
   "metadata": {},
   "outputs": [],
   "source": [
    "tgen = [t.replace('[','') for t in tgen]\n",
    "tgen = [t.replace(']','') for t in tgen]\n",
    "tgen = [t.replace(' ','') for t in tgen]\n",
    "#print(tgen)"
   ]
  },
  {
   "cell_type": "code",
   "execution_count": 51,
   "metadata": {},
   "outputs": [],
   "source": [
    "for k in range(len(tgen)):\n",
    "    if(len(tgen[k])!=0):\n",
    "        tgen[k] = [i for i in map(int, tgen[k].split(','))]\n",
    "    else:\n",
    "        tgen[k]=[]\n",
    "#print(tgen)"
   ]
  },
  {
   "cell_type": "code",
   "execution_count": 52,
   "metadata": {},
   "outputs": [],
   "source": [
    "tracks['genres']=tgen"
   ]
  },
  {
   "cell_type": "code",
   "execution_count": 53,
   "metadata": {},
   "outputs": [
    {
     "data": {
      "text/html": [
       "<div>\n",
       "<style scoped>\n",
       "    .dataframe tbody tr th:only-of-type {\n",
       "        vertical-align: middle;\n",
       "    }\n",
       "\n",
       "    .dataframe tbody tr th {\n",
       "        vertical-align: top;\n",
       "    }\n",
       "\n",
       "    .dataframe thead th {\n",
       "        text-align: right;\n",
       "    }\n",
       "</style>\n",
       "<table border=\"1\" class=\"dataframe\">\n",
       "  <thead>\n",
       "    <tr style=\"text-align: right;\">\n",
       "      <th></th>\n",
       "      <th>track_id</th>\n",
       "      <th>genres</th>\n",
       "      <th>genres_all</th>\n",
       "    </tr>\n",
       "  </thead>\n",
       "  <tbody>\n",
       "    <tr>\n",
       "      <td>0</td>\n",
       "      <td>2</td>\n",
       "      <td>[21]</td>\n",
       "      <td>[21]</td>\n",
       "    </tr>\n",
       "    <tr>\n",
       "      <td>1</td>\n",
       "      <td>3</td>\n",
       "      <td>[21]</td>\n",
       "      <td>[21]</td>\n",
       "    </tr>\n",
       "    <tr>\n",
       "      <td>2</td>\n",
       "      <td>5</td>\n",
       "      <td>[21]</td>\n",
       "      <td>[21]</td>\n",
       "    </tr>\n",
       "    <tr>\n",
       "      <td>3</td>\n",
       "      <td>10</td>\n",
       "      <td>[10]</td>\n",
       "      <td>[10]</td>\n",
       "    </tr>\n",
       "    <tr>\n",
       "      <td>4</td>\n",
       "      <td>20</td>\n",
       "      <td>[76, 103]</td>\n",
       "      <td>[17, 10, 76, 103]</td>\n",
       "    </tr>\n",
       "  </tbody>\n",
       "</table>\n",
       "</div>"
      ],
      "text/plain": [
       "   track_id     genres         genres_all\n",
       "0         2       [21]               [21]\n",
       "1         3       [21]               [21]\n",
       "2         5       [21]               [21]\n",
       "3        10       [10]               [10]\n",
       "4        20  [76, 103]  [17, 10, 76, 103]"
      ]
     },
     "execution_count": 53,
     "metadata": {},
     "output_type": "execute_result"
    }
   ],
   "source": [
    "tracks.head()"
   ]
  },
  {
   "cell_type": "code",
   "execution_count": 54,
   "metadata": {},
   "outputs": [
    {
     "name": "stdout",
     "output_type": "stream",
     "text": [
      "84991\n"
     ]
    }
   ],
   "source": [
    "print(len(tgen))\n",
    "#print(tracks.index)"
   ]
  },
  {
   "cell_type": "markdown",
   "metadata": {},
   "source": [
    "### Extracting relevant tracks and labels"
   ]
  },
  {
   "cell_type": "code",
   "execution_count": 55,
   "metadata": {},
   "outputs": [],
   "source": [
    "## Match the tracks to the genre data: Create dictionary with genre label as key\n",
    "genre_dict = {}\n",
    "for i in range(len(tgen)): # for every track (tgen is a list of lists of genres corresponding to every track)\n",
    "    if i in tracks.index:  \n",
    "        ti = tracks['track_id'][i] # ti stores the track id corresponding to the index\n",
    "        if 1<=len(tgen[i])<=1: # new condition that checks if t has just one genre and only then proceeds\n",
    "            for k in tgen[i]: # k iterates through list of genres of current track\n",
    "                if k is not None:\n",
    "                    if (k in genre_dict.keys()): # if new genre is in the keys of genre_dict\n",
    "                        genre_dict[k]+=[ti] # append current track id to list of all track ids\n",
    "                    else:\n",
    "                        genre_dict.update({k:[ti]}) # if k is a new key, then add new element to dictionary with ti as value"
   ]
  },
  {
   "cell_type": "code",
   "execution_count": 56,
   "metadata": {},
   "outputs": [
    {
     "data": {
      "text/plain": [
       "144"
      ]
     },
     "execution_count": 56,
     "metadata": {},
     "output_type": "execute_result"
    }
   ],
   "source": [
    "genre_dict[4][0]"
   ]
  },
  {
   "cell_type": "code",
   "execution_count": 57,
   "metadata": {},
   "outputs": [
    {
     "name": "stdout",
     "output_type": "stream",
     "text": [
      "2 119\n",
      "3 101\n",
      "4 320\n",
      "5 731\n",
      "8 543\n",
      "9 16\n",
      "10 505\n",
      "12 1717\n",
      "13 3\n",
      "14 15\n",
      "15 2221\n",
      "17 1205\n",
      "20 17\n",
      "21 2363\n",
      "38 1233\n",
      "1235 199\n"
     ]
    }
   ],
   "source": [
    "## Total number of samples for the different root genres\n",
    "for q in genre_id_root:\n",
    "    print(q,len(genre_dict[q]))"
   ]
  },
  {
   "cell_type": "markdown",
   "metadata": {},
   "source": [
    "Based on the above, the genres with sufficient data is selected for training."
   ]
  },
  {
   "cell_type": "code",
   "execution_count": 58,
   "metadata": {},
   "outputs": [],
   "source": [
    "#genre_set = [4,5,8,10,12,15,17,21,38]\n",
    "#genre_set = [17,15,12,21,38]\n",
    "#genre_set = [8,5,12,15,17,21,38]\n",
    "#genre_set = [4,5,10,12,15,17,21]\n",
    "#genre_set = [5,10,12,15,17,21]\n",
    "#genre_set = [10,5,12,17,21,38] # Good set\n",
    "genre_set = [10,5,12,17,21] # Good set\n",
    "#genre_set = [5,12]\n",
    "#genre_set = [8,15]"
   ]
  },
  {
   "cell_type": "markdown",
   "metadata": {},
   "source": [
    "The code below selects the unique selection of 932 tracks from this list, with no repetitionof tracks"
   ]
  },
  {
   "cell_type": "code",
   "execution_count": 59,
   "metadata": {},
   "outputs": [
    {
     "data": {
      "text/plain": [
       "1304.2"
      ]
     },
     "execution_count": 59,
     "metadata": {},
     "output_type": "execute_result"
    }
   ],
   "source": [
    "track_list = genre_dict[genre_set[0]]\n",
    "label_list = [genre_set[0]]*len(track_list)\n",
    "for k in genre_set[1:]:\n",
    "    t1 = genre_dict[k]\n",
    "    while len(t1)>0:\n",
    "        t2 = t1.pop()\n",
    "        track_list.append(t2)\n",
    "        label_list.append(k)\n",
    "                    \n",
    "len(set(track_list))/len(genre_set)"
   ]
  },
  {
   "cell_type": "code",
   "execution_count": 60,
   "metadata": {},
   "outputs": [
    {
     "data": {
      "text/plain": [
       "6521"
      ]
     },
     "execution_count": 60,
     "metadata": {},
     "output_type": "execute_result"
    }
   ],
   "source": [
    "num_tracks = len(track_list)\n",
    "num_tracks"
   ]
  },
  {
   "cell_type": "code",
   "execution_count": 61,
   "metadata": {},
   "outputs": [],
   "source": [
    "tr_len = 6000 # Training length per class\n",
    "test_len = 521 # Testing length per class"
   ]
  },
  {
   "cell_type": "markdown",
   "metadata": {},
   "source": [
    "Now we create the corresponding list of labels for this list."
   ]
  },
  {
   "cell_type": "markdown",
   "metadata": {},
   "source": [
    "### Feature extraction for the relevant track ids"
   ]
  },
  {
   "cell_type": "markdown",
   "metadata": {},
   "source": [
    "The following is 'read_data_features.py'."
   ]
  },
  {
   "cell_type": "code",
   "execution_count": 62,
   "metadata": {},
   "outputs": [],
   "source": [
    "## Column information\n",
    "fields = ['mfcc.40','mfcc.42','mfcc.43','mfcc.44','mfcc.45','mfcc.48','mfcc.49','mfcc.50',\\\n",
    "    'mfcc.53','mfcc.56','mfcc.120','mfcc.121','mfcc.122','mfcc.124','spectral_contrast.14',\\\n",
    "        'spectral_contrast.15','spectral_contrast.16','spectral_contrast.43',\\\n",
    "            'spectral_contrast.44','feature']\n"
   ]
  },
  {
   "cell_type": "code",
   "execution_count": 63,
   "metadata": {},
   "outputs": [
    {
     "name": "stderr",
     "output_type": "stream",
     "text": [
<<<<<<< HEAD
      "G:\\Anaconda\\lib\\site-packages\\IPython\\core\\interactiveshell.py:3058: DtypeWarning: Columns (0,1,2,3,4,5,6,7,8,9,10,11,12,13,14,15,16,17,18,19,20,21,22,23,24,25,26,27,28,29,30,31,32,33,34,35,36,37,38,39,40,41,42,43,44,45,46,47,48,49,50,51,52,53,54,55,56,57,58,59,60,61,62,63,64,65,66,67,68,69,70,71,72,73,74,75,76,77,78,79,80,81,82,83,84,85,86,87,88,89,90,91,92,93,94,95,96,97,98,99,100,101,102,103,104,105,106,107,108,109,110,111,112,113,114,115,116,117,118,119,120,121,122,123,124,125,126,127,128,129,130,131,132,133,134,135,136,137,138,139,140,141,142,143,144,145,146,147,148,149,150,151,152,153,154,155,156,157,158,159,160,161,162,163,164,165,166,167,168,169,170,171,172,173,174,175,176,177,178,179,180,181,182,183,184,185,186,187,188,189,190,191,192,193,194,195,196,197,198,199,200,201,202,203,204,205,206,207,208,209,210,211,212,213,214,215,216,217,218,219,220,221,222,223,224,225,226,227,228,229,230,231,232,233,234,235,236,237,238,239,240,241,242,243,244,245,246,247,248,249,250,251,252,253,254,255,256,257,258,259,260,261,262,263,264,265,266,267,268,269,270,271,272,273,274,275,276,277,278,279,280,281,282,283,284,285,286,287,288,289,290,291,292,293,294,295,296,297,298,299,300,301,302,303,304,305,306,307,308,309,310,311,312,313,314,315,316,317,318,319,320,321,322,323,324,325,326,327,328,329,330,331,332,333,334,335,336,337,338,339,340,341,342,343,344,345,346,347,348,349,350,351,352,353,354,355,356,357,358,359,360,361,362,363,364,365,366,367,368,369,370,371,372,373,374,375,376,377,378,379,380,381,382,383,384,385,386,387,388,389,390,391,392,393,394,395,396,397,398,399,400,401,402,403,404,405,406,407,408,409,410,411,412,413,414,415,416,417,418,419,420,421,422,423,424,425,426,427,428,429,430,431,432,433,434,435,436,437,438,439,440,441,442,443,444,445,446,447,448,449,450,451,452,453,454,455,456,457,458,459,460,461,462,463,464,465,466,467,468,469,470,471,472,473,474,475,476,477,478,479,480,481,482,483,484,485,486,487,488,489,490,491,492,493,494,495,496,497,498,499,500,501,502,503,504,505,506,507,508,509,510,511,512,513,514,515,516,517,518) have mixed types. Specify dtype option on import or set low_memory=False.\n",
=======
      "E:\\Anaconda\\lib\\site-packages\\IPython\\core\\interactiveshell.py:3058: DtypeWarning: Columns (0,293,295,296,297,298,301,302,303,306,309,373,374,375,377,428,429,430,457,458) have mixed types. Specify dtype option on import or set low_memory=False.\n",
>>>>>>> 5f4493469cddd03f63b5b7f28793bc1c26175859
      "  interactivity=interactivity, compiler=compiler, result=result)\n"
     ]
    }
   ],
   "source": [
    "## Read feature information \n",
    "features = pd.read_csv(metadata_path+'\\\\features.csv')"
   ]
  },
  {
   "cell_type": "code",
   "execution_count": 64,
   "metadata": {},
   "outputs": [],
   "source": [
    "features['feature'][3:] = features['feature'][3:].astype(int)"
   ]
  },
  {
   "cell_type": "code",
   "execution_count": 65,
   "metadata": {},
   "outputs": [],
   "source": [
    "feat_all = features.loc[features['feature'].isin(track_list)]"
   ]
  },
  {
   "cell_type": "code",
   "execution_count": 66,
   "metadata": {},
   "outputs": [
    {
     "data": {
      "text/plain": [
       "(6521, 519)"
      ]
     },
     "execution_count": 66,
     "metadata": {},
     "output_type": "execute_result"
    }
   ],
   "source": [
    "feat_all.shape"
   ]
  },
  {
   "cell_type": "code",
   "execution_count": 67,
   "metadata": {},
   "outputs": [
    {
     "data": {
      "text/plain": [
       "6521"
      ]
     },
     "execution_count": 67,
     "metadata": {},
     "output_type": "execute_result"
    }
   ],
   "source": [
    "len(label_list)"
   ]
  },
  {
   "cell_type": "code",
   "execution_count": 68,
   "metadata": {},
   "outputs": [
    {
     "name": "stderr",
     "output_type": "stream",
     "text": [
      "E:\\Anaconda\\lib\\site-packages\\ipykernel_launcher.py:1: SettingWithCopyWarning: \n",
      "A value is trying to be set on a copy of a slice from a DataFrame.\n",
      "Try using .loc[row_indexer,col_indexer] = value instead\n",
      "\n",
      "See the caveats in the documentation: http://pandas.pydata.org/pandas-docs/stable/user_guide/indexing.html#returning-a-view-versus-a-copy\n",
      "  \"\"\"Entry point for launching an IPython kernel.\n"
     ]
    }
   ],
   "source": [
    "feat_all['label'] = label_list"
   ]
  },
  {
   "cell_type": "markdown",
   "metadata": {},
   "source": [
    "Shuffle the order of the data"
   ]
  },
  {
   "cell_type": "code",
   "execution_count": 69,
   "metadata": {},
   "outputs": [],
   "source": [
    "feat_all = feat_all.sample(frac=1)"
   ]
  },
  {
   "cell_type": "markdown",
   "metadata": {},
   "source": [
    "Create separate numpy arrays and convert to type float"
   ]
  },
  {
   "cell_type": "code",
   "execution_count": 70,
   "metadata": {},
   "outputs": [],
   "source": [
    "feat_all = feat_all.to_numpy()\n",
    "tr_features = feat_all[0:tr_len,1:-1]\n",
    "tr_features = tr_features.astype(float)\n",
    "test_features = feat_all[tr_len:tr_len+test_len,1:-1]\n",
    "test_features = test_features.astype(float)"
   ]
  },
  {
   "cell_type": "code",
   "execution_count": 71,
   "metadata": {},
   "outputs": [
    {
     "data": {
      "text/plain": [
       "(6000, 518)"
      ]
     },
     "execution_count": 71,
     "metadata": {},
     "output_type": "execute_result"
    }
   ],
   "source": [
    "tr_features.shape"
   ]
  },
  {
   "cell_type": "code",
   "execution_count": 72,
   "metadata": {},
   "outputs": [
    {
     "data": {
      "text/plain": [
       "(521, 518)"
      ]
     },
     "execution_count": 72,
     "metadata": {},
     "output_type": "execute_result"
    }
   ],
   "source": [
    "test_features.shape"
   ]
  },
  {
   "cell_type": "code",
   "execution_count": 73,
   "metadata": {},
   "outputs": [
    {
     "data": {
      "text/plain": [
<<<<<<< HEAD
       "[<matplotlib.lines.Line2D at 0x1ff877b2408>]"
=======
       "[<matplotlib.lines.Line2D at 0x207d7ef4088>]"
>>>>>>> 5f4493469cddd03f63b5b7f28793bc1c26175859
      ]
     },
     "execution_count": 73,
     "metadata": {},
     "output_type": "execute_result"
    },
    {
     "data": {
<<<<<<< HEAD
      "image/png": "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\n",
=======
      "image/png": "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\n",
>>>>>>> 5f4493469cddd03f63b5b7f28793bc1c26175859
      "text/plain": [
       "<Figure size 432x288 with 1 Axes>"
      ]
     },
     "metadata": {
      "needs_background": "light"
     },
     "output_type": "display_data"
    }
   ],
   "source": [
    "plt.semilogy(tr_features[:,-1])"
   ]
  },
  {
   "cell_type": "code",
   "execution_count": 74,
   "metadata": {},
   "outputs": [
    {
     "data": {
      "text/plain": [
<<<<<<< HEAD
       "[<matplotlib.lines.Line2D at 0x1ff85544b88>]"
=======
       "[<matplotlib.lines.Line2D at 0x207cf4bf308>]"
>>>>>>> 5f4493469cddd03f63b5b7f28793bc1c26175859
      ]
     },
     "execution_count": 74,
     "metadata": {},
     "output_type": "execute_result"
    },
    {
     "data": {
<<<<<<< HEAD
      "image/png": "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\n",
=======
      "image/png": "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\n",
>>>>>>> 5f4493469cddd03f63b5b7f28793bc1c26175859
      "text/plain": [
       "<Figure size 432x288 with 1 Axes>"
      ]
     },
     "metadata": {
      "needs_background": "light"
     },
     "output_type": "display_data"
    }
   ],
   "source": [
    "plt.semilogy(test_features[:,-1])"
   ]
  },
  {
   "cell_type": "code",
   "execution_count": 75,
   "metadata": {},
   "outputs": [
    {
     "data": {
      "text/plain": [
<<<<<<< HEAD
       "521"
=======
       "680"
>>>>>>> 5f4493469cddd03f63b5b7f28793bc1c26175859
      ]
     },
     "execution_count": 75,
     "metadata": {},
     "output_type": "execute_result"
    }
   ],
   "source": [
    "len(set(test_features[:,-1]))"
   ]
  },
  {
   "cell_type": "markdown",
   "metadata": {},
   "source": [
    "### To obtain set of one hot codes for our labels"
   ]
  },
  {
   "cell_type": "code",
   "execution_count": 76,
   "metadata": {},
   "outputs": [],
   "source": [
    "feat_tr = feat_all[0:tr_len,1:]\n",
    "feat_test = feat_all[tr_len:tr_len+test_len,1:]"
   ]
  },
  {
   "cell_type": "code",
   "execution_count": 77,
   "metadata": {},
   "outputs": [],
   "source": [
    "feat_test[:,-1] = [genre_set.index(w) for w in feat_test[:,-1]]\n",
    "feat_tr[:,-1] = [genre_set.index(w) for w in feat_tr[:,-1]]"
   ]
  },
  {
   "cell_type": "code",
   "execution_count": 78,
   "metadata": {},
   "outputs": [
    {
     "data": {
      "text/plain": [
<<<<<<< HEAD
       "[<matplotlib.lines.Line2D at 0x1ff861ee888>]"
=======
       "[<matplotlib.lines.Line2D at 0x207d7d94f08>]"
>>>>>>> 5f4493469cddd03f63b5b7f28793bc1c26175859
      ]
     },
     "execution_count": 78,
     "metadata": {},
     "output_type": "execute_result"
    },
    {
     "data": {
<<<<<<< HEAD
      "image/png": "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\n",
=======
      "image/png": "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\n",
>>>>>>> 5f4493469cddd03f63b5b7f28793bc1c26175859
      "text/plain": [
       "<Figure size 432x288 with 1 Axes>"
      ]
     },
     "metadata": {
      "needs_background": "light"
     },
     "output_type": "display_data"
    }
   ],
   "source": [
    "plt.plot(feat_tr[:,-1])"
   ]
  },
  {
   "cell_type": "code",
   "execution_count": 79,
   "metadata": {},
   "outputs": [
    {
     "name": "stdout",
     "output_type": "stream",
     "text": [
      "(5, 30000)\n"
     ]
    }
   ],
   "source": [
    "num_classes = len(genre_set)\n",
    "one_hot = np.zeros((num_classes, num_classes*tr_len))\n",
    "print(one_hot.shape)\n",
    "for index_i, i in enumerate(feat_tr[:,-1]):\n",
    "    one_hot[int(i),index_i] = 1\n"
   ]
  },
  {
   "cell_type": "code",
   "execution_count": 80,
   "metadata": {},
   "outputs": [
    {
     "data": {
      "text/plain": [
<<<<<<< HEAD
       "array([4, 4, 2, 4, 4, 3, 4, 4, 4, 3], dtype=object)"
=======
       "array([2, 5, 2, 3, 2, 5, 3, 5, 3, 4], dtype=object)"
>>>>>>> 5f4493469cddd03f63b5b7f28793bc1c26175859
      ]
     },
     "execution_count": 80,
     "metadata": {},
     "output_type": "execute_result"
    }
   ],
   "source": [
    "feat_tr[0:10,-1]"
   ]
  },
  {
   "cell_type": "code",
   "execution_count": 81,
   "metadata": {},
   "outputs": [
    {
     "name": "stdout",
     "output_type": "stream",
     "text": [
      "[[0. 0. 0. 0. 0. 0. 0. 0. 0. 0.]\n",
      " [0. 0. 0. 0. 0. 0. 0. 0. 0. 0.]\n",
<<<<<<< HEAD
      " [0. 0. 1. 0. 0. 0. 0. 0. 0. 0.]\n",
      " [0. 0. 0. 0. 0. 1. 0. 0. 0. 1.]\n",
      " [1. 1. 0. 1. 1. 0. 1. 1. 1. 0.]]\n",
      "(5, 30000)\n"
=======
      " [1. 0. 1. 0. 1. 0. 0. 0. 0. 0.]\n",
      " [0. 0. 0. 1. 0. 0. 1. 0. 1. 0.]\n",
      " [0. 0. 0. 0. 0. 0. 0. 0. 0. 1.]\n",
      " [0. 1. 0. 0. 0. 1. 0. 1. 0. 0.]]\n",
      "(6, 48372)\n"
>>>>>>> 5f4493469cddd03f63b5b7f28793bc1c26175859
     ]
    }
   ],
   "source": [
    "print(one_hot[:,0:10])\n",
    "print(one_hot.shape)"
   ]
  },
  {
   "cell_type": "markdown",
   "metadata": {},
   "source": [
    "## Dimension Reduction"
   ]
  },
  {
   "cell_type": "markdown",
   "metadata": {},
   "source": [
    "Here there are a large number of features extracted so, data driven methods are used to reduce the dimension"
   ]
  },
  {
   "cell_type": "markdown",
   "metadata": {},
   "source": [
    "### Using PCA for dimension reduction "
   ]
  },
  {
   "cell_type": "code",
   "execution_count": 82,
   "metadata": {},
   "outputs": [
    {
     "data": {
      "text/plain": [
       "(6000, 518)"
      ]
     },
     "execution_count": 82,
     "metadata": {},
     "output_type": "execute_result"
    }
   ],
   "source": [
    "tr_features.shape"
   ]
  },
  {
   "cell_type": "code",
   "execution_count": 83,
   "metadata": {},
   "outputs": [],
   "source": [
    "from sklearn.decomposition import PCA\n",
    "from sklearn.decomposition import KernelPCA"
   ]
  },
  {
   "cell_type": "code",
<<<<<<< HEAD
   "execution_count": 90,
=======
   "execution_count": 84,
>>>>>>> 5f4493469cddd03f63b5b7f28793bc1c26175859
   "metadata": {},
   "outputs": [],
   "source": [
    "#pca = PCA(n_components=40, svd_solver='full')\n",
    "pca = KernelPCA(n_components=20, kernel='poly')"
   ]
  },
  {
   "cell_type": "code",
<<<<<<< HEAD
   "execution_count": 91,
=======
   "execution_count": 85,
>>>>>>> 5f4493469cddd03f63b5b7f28793bc1c26175859
   "metadata": {},
   "outputs": [],
   "source": [
    "pca_obj = pca.fit(tr_features)"
   ]
  },
  {
   "cell_type": "code",
<<<<<<< HEAD
   "execution_count": 92,
=======
   "execution_count": 86,
>>>>>>> 5f4493469cddd03f63b5b7f28793bc1c26175859
   "metadata": {},
   "outputs": [],
   "source": [
    "tr_features_red = pca_obj.transform(tr_features)"
   ]
  },
  {
   "cell_type": "code",
<<<<<<< HEAD
   "execution_count": 93,
=======
   "execution_count": 87,
>>>>>>> 5f4493469cddd03f63b5b7f28793bc1c26175859
   "metadata": {},
   "outputs": [],
   "source": [
    "test_features_red = pca_obj.transform(test_features)"
   ]
  },
  {
   "cell_type": "code",
<<<<<<< HEAD
   "execution_count": 94,
=======
   "execution_count": 88,
>>>>>>> 5f4493469cddd03f63b5b7f28793bc1c26175859
   "metadata": {},
   "outputs": [
    {
     "data": {
      "text/plain": [
       "(6000, 20)"
      ]
     },
<<<<<<< HEAD
     "execution_count": 94,
=======
     "execution_count": 88,
>>>>>>> 5f4493469cddd03f63b5b7f28793bc1c26175859
     "metadata": {},
     "output_type": "execute_result"
    }
   ],
   "source": [
    "tr_features_red.shape"
   ]
  },
  {
   "cell_type": "code",
   "execution_count": null,
   "metadata": {},
   "outputs": [],
   "source": []
  },
  {
   "cell_type": "code",
   "execution_count": null,
   "metadata": {},
   "outputs": [],
   "source": []
  },
  {
   "cell_type": "markdown",
   "metadata": {},
   "source": [
    "## Training Stage"
   ]
  },
  {
   "cell_type": "markdown",
   "metadata": {},
   "source": [
    "### Setting up data "
   ]
  },
  {
   "cell_type": "code",
<<<<<<< HEAD
   "execution_count": 95,
=======
   "execution_count": 89,
>>>>>>> 5f4493469cddd03f63b5b7f28793bc1c26175859
   "metadata": {},
   "outputs": [],
   "source": [
    "x_train = tr_features_red/1000\n",
    "x_test = test_features_red/1000\n",
    "y_train = feat_tr[:,-1]\n",
    "y_test = feat_test[:,-1]"
   ]
  },
  {
   "cell_type": "code",
<<<<<<< HEAD
   "execution_count": 96,
=======
   "execution_count": 90,
>>>>>>> 5f4493469cddd03f63b5b7f28793bc1c26175859
   "metadata": {},
   "outputs": [],
   "source": [
    "class_set = list(range(num_classes))\n",
    "class_lbl = [genre_set[i] for i in class_set]\n",
    "class_name = [main_label_dict[genre_set[i]] for i in class_set]\n",
    "label_dict = dict(zip(class_name,class_set))"
   ]
  },
  {
   "cell_type": "code",
<<<<<<< HEAD
   "execution_count": 97,
=======
   "execution_count": 91,
>>>>>>> 5f4493469cddd03f63b5b7f28793bc1c26175859
   "metadata": {},
   "outputs": [
    {
     "data": {
      "text/plain": [
       "{'Pop': 0, 'Classical': 1, 'Rock': 2, 'Folk': 3, 'Hip-Hop': 4}"
      ]
     },
<<<<<<< HEAD
     "execution_count": 97,
=======
     "execution_count": 91,
>>>>>>> 5f4493469cddd03f63b5b7f28793bc1c26175859
     "metadata": {},
     "output_type": "execute_result"
    }
   ],
   "source": [
    "label_dict"
   ]
  },
  {
   "cell_type": "code",
<<<<<<< HEAD
   "execution_count": 98,
=======
   "execution_count": 95,
>>>>>>> 5f4493469cddd03f63b5b7f28793bc1c26175859
   "metadata": {},
   "outputs": [],
   "source": [
    "def plot_confusion_matrix(cm, classes,normalize=False,title='Confusion matrix',cmap=plt.cm.Blues):\n",
    "    \"\"\"\n",
    "    This function prints and plots the confusion matrix.\n",
    "    Normalization can be applied by setting `normalize=True`.\n",
    "    \"\"\"\n",
    "    #plt.figure(figsize=(8,8))\n",
    "    plt.subplots()\n",
    "    plt.imshow(cm, interpolation='nearest', cmap=cmap, aspect='auto')\n",
    "    \n",
    "    ax = plt.gca();\n",
    "\n",
    "    plt.title(title)\n",
    "    plt.colorbar()\n",
    "    tick_marks = np.arange(len(classes))\n",
    "    plt.gcf().subplots_adjust(bottom=0.15)\n",
    "    ax.set_xticks(np.arange(len(classes)))\n",
    "    ax.set_yticks(np.arange(len(classes)))\n",
    "    ax.set_xticklabels(classes)\n",
    "    ax.set_yticklabels(classes)\n",
    "    plt.setp(ax.get_xticklabels(), rotation=45, ha=\"right\",\n",
    "         rotation_mode=\"anchor\")\n",
    "    bottom, top = ax.get_ylim()\n",
    "    ax.set_ylim(bottom + 0.5, top - 0.5)\n",
    "\n",
    "    if normalize:\n",
    "        cm = cm.astype('float') / cm.sum(axis=1)[:, np.newaxis]\n",
    "        print(\"Normalized confusion matrix\")\n",
    "    else:\n",
    "        print('Confusion matrix, without normalization')\n",
    "\n",
    "    print(cm)\n",
    "\n",
    "    thresh = cm.max() / 2.\n",
    "    for i, j in itertools.product(range(cm.shape[0]), range(cm.shape[1])):\n",
    "        plt.text(j, i, cm[i, j],\n",
    "                 horizontalalignment=\"center\",\n",
    "                 color=\"white\" if cm[i, j] > thresh else \"black\")\n",
    "\n",
    "    plt.tight_layout()\n",
    "    plt.ylabel('True label')\n",
    "    plt.xlabel('Predicted label')\n",
    "    \n",
    "def one_hot_encoder(true_labels, num_records, num_classes):\n",
    "    temp = np.array(true_labels[:num_records])\n",
    "    true_labels1 = np.zeros((num_records, num_classes))\n",
    "    #print(true_labels.shape)\n",
    "    for index_i, i in enumerate(true_labels):\n",
    "        #print(index_i,i)\n",
    "        true_labels1[index_i,int(i)] = 1\n",
    "    return true_labels1\n",
    "\n",
    "def display_results(y_test, pred_probs, cm = True):\n",
    "    pred = np.argmax(pred_probs, axis=-1)\n",
    "    #print(pred)\n",
    "    one_hot_true = one_hot_encoder(y_test, len(pred), num_classes)\n",
    "    print('Test Set Accuracy =  {0:.2f}'.format(accuracy_score(y_test, pred)))\n",
    "    print('Test Set F-score =  {0:.2f}'.format(f1_score(y_test, pred, average='macro')))\n",
    "    print('ROC AUC = {0:.3f}'.format(roc_auc_score(y_true=one_hot_true, y_score=pred_probs, average='macro')))\n",
    "    if cm:\n",
    "        plot_confusion_matrix(confusion_matrix(y_test, pred), classes=label_dict.keys())"
   ]
  },
  {
   "cell_type": "markdown",
   "metadata": {},
   "source": [
    "### Boosting"
   ]
  },
  {
   "cell_type": "code",
   "execution_count": 96,
   "metadata": {},
   "outputs": [
    {
     "ename": "NameError",
     "evalue": "name 'xgb' is not defined",
     "output_type": "error",
     "traceback": [
      "\u001b[1;31m---------------------------------------------------------------------------\u001b[0m",
      "\u001b[1;31mNameError\u001b[0m                                 Traceback (most recent call last)",
      "\u001b[1;32m<timed exec>\u001b[0m in \u001b[0;36m<module>\u001b[1;34m\u001b[0m\n",
      "\u001b[1;31mNameError\u001b[0m: name 'xgb' is not defined"
     ]
    }
   ],
   "source": [
    "%%time\n",
    "# Train\n",
    "\n",
    "xgb_classifier = xgb.XGBClassifier(max_depth=5, learning_rate=0.01, objective='multi:softprob', \\\n",
    "                                   n_estimators=350, sub_sample = 0.9, num_class = num_classes)\n",
    "xgb_classifier.fit(x_train, y_train)\n",
    "\n",
    "# Predict\n",
    "pred_probs = xgb_classifier.predict_proba(x_test)\n"
   ]
  },
  {
   "cell_type": "code",
   "execution_count": 97,
   "metadata": {},
   "outputs": [
    {
     "ename": "NameError",
     "evalue": "name 'pred_probs' is not defined",
     "output_type": "error",
     "traceback": [
      "\u001b[1;31m---------------------------------------------------------------------------\u001b[0m",
      "\u001b[1;31mNameError\u001b[0m                                 Traceback (most recent call last)",
      "\u001b[1;32m<ipython-input-97-2cb69898f83e>\u001b[0m in \u001b[0;36m<module>\u001b[1;34m\u001b[0m\n\u001b[1;32m----> 1\u001b[1;33m \u001b[0mpred\u001b[0m \u001b[1;33m=\u001b[0m \u001b[0mnp\u001b[0m\u001b[1;33m.\u001b[0m\u001b[0margmax\u001b[0m\u001b[1;33m(\u001b[0m\u001b[0mpred_probs\u001b[0m\u001b[1;33m,\u001b[0m \u001b[0maxis\u001b[0m\u001b[1;33m=\u001b[0m\u001b[1;33m-\u001b[0m\u001b[1;36m1\u001b[0m\u001b[1;33m)\u001b[0m\u001b[1;33m\u001b[0m\u001b[1;33m\u001b[0m\u001b[0m\n\u001b[0m\u001b[0;32m      2\u001b[0m \u001b[0mprint\u001b[0m\u001b[1;33m(\u001b[0m\u001b[1;34m'Test Error: '\u001b[0m\u001b[1;33m,\u001b[0m\u001b[0mlen\u001b[0m\u001b[1;33m(\u001b[0m\u001b[0my_test\u001b[0m\u001b[1;33m[\u001b[0m\u001b[0my_test\u001b[0m\u001b[1;33m!=\u001b[0m\u001b[0mpred\u001b[0m\u001b[1;33m]\u001b[0m\u001b[1;33m)\u001b[0m\u001b[1;33m/\u001b[0m\u001b[0mlen\u001b[0m\u001b[1;33m(\u001b[0m\u001b[0my_test\u001b[0m\u001b[1;33m)\u001b[0m\u001b[1;33m)\u001b[0m\u001b[1;33m\u001b[0m\u001b[1;33m\u001b[0m\u001b[0m\n",
      "\u001b[1;31mNameError\u001b[0m: name 'pred_probs' is not defined"
     ]
    }
   ],
   "source": [
    "pred = np.argmax(pred_probs, axis=-1)\n",
    "print('Test Error: ',len(y_test[y_test!=pred])/len(y_test))"
   ]
  },
  {
   "cell_type": "code",
   "execution_count": 98,
   "metadata": {},
   "outputs": [
    {
     "ename": "NameError",
     "evalue": "name 'pred_probs' is not defined",
     "output_type": "error",
     "traceback": [
      "\u001b[1;31m---------------------------------------------------------------------------\u001b[0m",
      "\u001b[1;31mNameError\u001b[0m                                 Traceback (most recent call last)",
      "\u001b[1;32m<ipython-input-98-20f0d543b08f>\u001b[0m in \u001b[0;36m<module>\u001b[1;34m\u001b[0m\n\u001b[1;32m----> 1\u001b[1;33m \u001b[0mdisplay_results\u001b[0m\u001b[1;33m(\u001b[0m\u001b[0mnp\u001b[0m\u001b[1;33m.\u001b[0m\u001b[0marray\u001b[0m\u001b[1;33m(\u001b[0m\u001b[0my_test\u001b[0m\u001b[1;33m,\u001b[0m\u001b[0mdtype\u001b[0m\u001b[1;33m=\u001b[0m\u001b[0mint\u001b[0m\u001b[1;33m)\u001b[0m\u001b[1;33m,\u001b[0m \u001b[0mpred_probs\u001b[0m\u001b[1;33m)\u001b[0m\u001b[1;33m\u001b[0m\u001b[1;33m\u001b[0m\u001b[0m\n\u001b[0m",
      "\u001b[1;31mNameError\u001b[0m: name 'pred_probs' is not defined"
     ]
    }
   ],
   "source": [
    "display_results(np.array(y_test,dtype=int), pred_probs)"
   ]
  },
  {
   "cell_type": "markdown",
   "metadata": {},
   "source": [
    "### SVM "
   ]
  },
  {
   "cell_type": "code",
   "execution_count": 99,
   "metadata": {},
   "outputs": [],
   "source": [
    "cl_weight = dict(pd.Series(np.array(y_train,dtype=int)).value_counts(normalize=True))"
   ]
  },
  {
   "cell_type": "code",
   "execution_count": 100,
   "metadata": {},
   "outputs": [
    {
     "data": {
      "text/plain": [
<<<<<<< HEAD
       "{4: 0.36333333333333334,\n",
       " 2: 0.2643333333333333,\n",
       " 3: 0.18183333333333335,\n",
       " 1: 0.11183333333333334,\n",
       " 0: 0.07866666666666666}"
=======
       "{5: 0.2699082113619449,\n",
       " 3: 0.25403125775241875,\n",
       " 2: 0.1966013396179608,\n",
       " 4: 0.1387993053832796,\n",
       " 0: 0.08285785164971471,\n",
       " 1: 0.05780203423468122}"
>>>>>>> 5f4493469cddd03f63b5b7f28793bc1c26175859
      ]
     },
     "execution_count": 100,
     "metadata": {},
     "output_type": "execute_result"
    }
   ],
   "source": [
    "cl_weight"
   ]
  },
  {
   "cell_type": "code",
   "execution_count": 101,
<<<<<<< HEAD
   "metadata": {},
   "outputs": [],
   "source": [
    "x_train = x_train/np.max(x_train)\n",
    "x_test = x_test/np.max(x_test)"
   ]
  },
  {
   "cell_type": "code",
   "execution_count": 105,
   "metadata": {},
   "outputs": [
    {
     "name": "stdout",
     "output_type": "stream",
     "text": [
      "Wall time: 33.8 s\n"
=======
   "metadata": {},
   "outputs": [
    {
     "name": "stderr",
     "output_type": "stream",
     "text": [
      "E:\\Anaconda\\lib\\site-packages\\sklearn\\svm\\base.py:193: FutureWarning: The default value of gamma will change from 'auto' to 'scale' in version 0.22 to account better for unscaled features. Set gamma explicitly to 'auto' or 'scale' to avoid this warning.\n",
      "  \"avoid this warning.\", FutureWarning)\n"
     ]
    },
    {
     "name": "stdout",
     "output_type": "stream",
     "text": [
      "Wall time: 6min 2s\n"
>>>>>>> 5f4493469cddd03f63b5b7f28793bc1c26175859
     ]
    }
   ],
   "source": [
    "%%time\n",
    "\n",
    "# Train\n",
    "svm_classifier = SVC(C=20000.0, probability = True, class_weight=cl_weight,gamma='auto')\n",
    "svm_classifier.fit(x_train, np.array(y_train,dtype=int))\n",
    "svm_classifier.fit(x_train, np.array(y_train,dtype=int))\n",
    "\n",
    "# Predict\n",
    "pred_probs = svm_classifier.predict_proba(x_test)"
   ]
  },
  {
   "cell_type": "code",
<<<<<<< HEAD
   "execution_count": 106,
=======
   "execution_count": 102,
>>>>>>> 5f4493469cddd03f63b5b7f28793bc1c26175859
   "metadata": {},
   "outputs": [
    {
     "name": "stdout",
     "output_type": "stream",
     "text": [
<<<<<<< HEAD
      "Test Error:  0.5873320537428023\n"
=======
      "Test Error:  0.7088235294117647\n"
>>>>>>> 5f4493469cddd03f63b5b7f28793bc1c26175859
     ]
    }
   ],
   "source": [
    "pred = np.argmax(pred_probs, axis=-1)\n",
    "print('Test Error: ',len(y_test[y_test!=pred])/len(y_test))"
   ]
  },
  {
   "cell_type": "code",
<<<<<<< HEAD
   "execution_count": 107,
=======
   "execution_count": 103,
>>>>>>> 5f4493469cddd03f63b5b7f28793bc1c26175859
   "metadata": {},
   "outputs": [
    {
     "name": "stdout",
     "output_type": "stream",
     "text": [
<<<<<<< HEAD
      "Test Set Accuracy =  0.41\n",
      "Test Set F-score =  0.31\n",
      "ROC AUC = 0.699\n",
      "Confusion matrix, without normalization\n",
      "[[  0   3   6   5  19]\n",
      " [  0  25   9   1  25]\n",
      " [  1  14  30  18  68]\n",
      " [  2  12  12  31  57]\n",
      " [  4  18  25   7 129]]\n"
=======
      "Test Set Accuracy =  0.29\n",
      "Test Set F-score =  0.15\n",
      "ROC AUC = 0.628\n"
     ]
    },
    {
     "name": "stderr",
     "output_type": "stream",
     "text": [
      "E:\\Anaconda\\lib\\site-packages\\sklearn\\metrics\\classification.py:1437: UndefinedMetricWarning: F-score is ill-defined and being set to 0.0 in labels with no predicted samples.\n",
      "  'precision', 'predicted', average, warn_for)\n"
     ]
    },
    {
     "name": "stdout",
     "output_type": "stream",
     "text": [
      "Confusion matrix, without normalization\n",
      "[[  1   0   4  14   0  44]\n",
      " [  1   0   6  11   0  21]\n",
      " [  1   0  10  50   1  70]\n",
      " [  0   0  11  52   4 106]\n",
      " [  0   0   1  35   2  48]\n",
      " [  0   0  13  40   1 133]]\n"
>>>>>>> 5f4493469cddd03f63b5b7f28793bc1c26175859
     ]
    },
    {
     "data": {
<<<<<<< HEAD
      "image/png": "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\n",
=======
      "image/png": "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\n",
>>>>>>> 5f4493469cddd03f63b5b7f28793bc1c26175859
      "text/plain": [
       "<Figure size 432x288 with 2 Axes>"
      ]
     },
     "metadata": {
      "needs_background": "light"
     },
     "output_type": "display_data"
    }
   ],
   "source": [
    "display_results(np.array(y_test,dtype=int), pred_probs)\n",
    "plt.savefig('Classifier_single_label_parent_all_data_pca__SVM.eps', format='eps')"
   ]
  },
  {
   "cell_type": "markdown",
   "metadata": {},
   "source": [
    "### Random Forest"
   ]
  },
  {
   "cell_type": "code",
   "execution_count": 104,
   "metadata": {},
   "outputs": [
    {
     "name": "stdout",
     "output_type": "stream",
     "text": [
      "Wall time: 1min 7s\n"
     ]
    }
   ],
   "source": [
    "%%time\n",
    "# Train\n",
    "rf_classifier = RandomForestClassifier(n_estimators=500, min_samples_split=5)\n",
    "rf_classifier.fit(x_train, np.array(y_train,dtype=int))\n",
    "\n",
    "# Predict\n",
    "pred_probs = rf_classifier.predict_proba(x_test)"
   ]
  },
  {
   "cell_type": "code",
   "execution_count": 105,
   "metadata": {},
   "outputs": [
    {
     "name": "stdout",
     "output_type": "stream",
     "text": [
      "Test Set Accuracy =  0.39\n",
      "Test Set F-score =  0.28\n",
      "ROC AUC = 0.756\n",
      "Confusion matrix, without normalization\n",
      "[[  6   0   6  16   0  35]\n",
      " [  1   2  10  10   0  16]\n",
      " [  0   1  43  32   1  55]\n",
      " [  1   0  11  80   1  80]\n",
      " [  0   0   5  33   7  41]\n",
      " [  0   0  12  46   0 129]]\n"
     ]
    },
    {
     "data": {
      "image/png": "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\n",
      "text/plain": [
       "<Figure size 432x288 with 2 Axes>"
      ]
     },
     "metadata": {
      "needs_background": "light"
     },
     "output_type": "display_data"
    }
   ],
   "source": [
    "# Results\n",
    "display_results(np.array(y_test,dtype=int), pred_probs)\n",
    "plt.savefig('Classifier_single_label_parent_all_data_pca__RF.eps', format='eps')"
   ]
  },
  {
   "cell_type": "markdown",
   "metadata": {},
   "source": [
    "### Logistic Regression"
   ]
  },
  {
   "cell_type": "code",
   "execution_count": 106,
   "metadata": {},
   "outputs": [
    {
     "name": "stderr",
     "output_type": "stream",
     "text": [
      "E:\\Anaconda\\lib\\site-packages\\sklearn\\linear_model\\logistic.py:432: FutureWarning: Default solver will be changed to 'lbfgs' in 0.22. Specify a solver to silence this warning.\n",
      "  FutureWarning)\n",
      "E:\\Anaconda\\lib\\site-packages\\sklearn\\linear_model\\logistic.py:469: FutureWarning: Default multi_class will be changed to 'auto' in 0.22. Specify the multi_class option to silence this warning.\n",
      "  \"this warning.\", FutureWarning)\n"
     ]
    },
    {
     "name": "stdout",
     "output_type": "stream",
     "text": [
      "Wall time: 1.06 s\n"
     ]
    }
   ],
   "source": [
    "%%time\n",
    "# Train\n",
    "lr_classifier = LogisticRegression(penalty='l1')\n",
    "lr_classifier.fit(x_train, np.array(y_train,dtype=int))\n",
    "\n",
    "# Predict\n",
    "pred_probs = lr_classifier.predict_proba(x_test)"
   ]
  },
  {
   "cell_type": "code",
   "execution_count": 107,
   "metadata": {},
   "outputs": [
    {
     "name": "stdout",
     "output_type": "stream",
     "text": [
      "Test Set Accuracy =  0.29\n",
      "Test Set F-score =  0.13\n",
      "ROC AUC = 0.602\n",
      "Confusion matrix, without normalization\n",
      "[[  0   0   0  16   0  47]\n",
      " [  0   0   0  17   0  22]\n",
      " [  0   0   4  57   0  71]\n",
      " [  0   0   2  66   0 105]\n",
      " [  0   0   0  35   0  51]\n",
      " [  0   0   5  52   0 130]]\n"
     ]
    },
    {
     "name": "stderr",
     "output_type": "stream",
     "text": [
      "E:\\Anaconda\\lib\\site-packages\\sklearn\\metrics\\classification.py:1437: UndefinedMetricWarning: F-score is ill-defined and being set to 0.0 in labels with no predicted samples.\n",
      "  'precision', 'predicted', average, warn_for)\n"
     ]
    },
    {
     "data": {
      "image/png": "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\n",
      "text/plain": [
       "<Figure size 432x288 with 2 Axes>"
      ]
     },
     "metadata": {
      "needs_background": "light"
     },
     "output_type": "display_data"
    }
   ],
   "source": [
    "# Results\n",
    "display_results(np.array(y_test,dtype=int), pred_probs)\n",
    "plt.savefig('Classifier_single_label_parent_all_data_pca__LR.eps', format='eps')"
   ]
  },
  {
   "cell_type": "markdown",
   "metadata": {},
   "source": [
    "### SNN"
   ]
  },
  {
   "cell_type": "code",
   "execution_count": 108,
   "metadata": {},
   "outputs": [
    {
     "name": "stdout",
     "output_type": "stream",
     "text": [
      "(518, 8062)\n",
      "(518, 680)\n",
      "(8062,)\n",
      "(8062,)\n"
     ]
    }
   ],
   "source": [
    "x_train = x_train.T/np.max(abs(x_train))\n",
    "print(x_train.shape)\n",
    "x_test = x_test.T/np.max(abs(x_test))\n",
    "print(x_test.shape)\n",
    "print(y_train.shape)\n",
    "y_train = y_train.T\n",
    "print(y_train.shape)"
   ]
  },
  {
   "cell_type": "code",
   "execution_count": null,
   "metadata": {},
   "outputs": [
    {
     "name": "stdout",
     "output_type": "stream",
     "text": [
      "<class 'numpy.ndarray'>\n",
      "[[0. 0. 0. ... 0. 0. 0.]\n",
      " [0. 0. 0. ... 0. 0. 0.]\n",
      " [1. 0. 1. ... 0. 0. 0.]\n",
      " [0. 0. 0. ... 1. 0. 1.]\n",
      " [0. 0. 0. ... 0. 1. 0.]\n",
      " [0. 1. 0. ... 0. 0. 0.]]\n",
      "1.8031547984952427 should be around .26\n",
      "89.5063259737038\n"
     ]
    }
   ],
   "source": [
    "def label2onehot(lbl):\n",
    "    d = np.zeros((lbl.max() + 1, lbl.size))\n",
    "    d[lbl, np.arange(lbl.size)] = 1\n",
    "    return d\n",
    "def onehot2label(d):\n",
    "    lbl = d.argmax(axis=0)\n",
    "    return lbl\n",
    "\n",
    "\n",
    "# turn labels into one hot\n",
    "y_train.shape\n",
    "print(type(y_train))\n",
    "y_train = y_train.astype(int)\n",
    "y_train_onehot = label2onehot(y_train)\n",
    "\n",
    "def init_shallow(Ni, Nh, No):\n",
    "    b1 = np.random.randn(Nh, 1) / np.sqrt((Ni+1.)/2.)\n",
    "    W1 = np.random.randn(Nh, Ni) / np.sqrt((Ni+1.)/2.)\n",
    "    b2 = np.random.randn(No, 1) / np.sqrt((Nh+1.))\n",
    "    W2 = np.random.randn(No, Nh) / np.sqrt((Nh+1.))\n",
    "    return W1, b1, W2, b2\n",
    "Ni = x_train.shape[0]\n",
    "Nh = 19\n",
    "No = y_train_onehot.shape[0]\n",
    "netinit = init_shallow(Ni, Nh, No)\n",
    "\n",
    "print(y_train_onehot)\n",
    "\n",
    "def softmax(a):\n",
    "    a_max = np.zeros((1,60000))\n",
    "    a_max = a.max(axis = 0)\n",
    "    a_sane = a - a_max\n",
    "    a_sane_exp = np.exp(a_sane)\n",
    "    y = a_sane_exp/(a_sane_exp.sum(axis = 0))\n",
    "    return y\n",
    "def softmaxp(a,e):\n",
    "    k = softmax(a)\n",
    "    part1 = np.multiply(k,e)\n",
    "    new = part1.sum(axis = 0)\n",
    "    part2 = np.multiply(new.T,k)\n",
    "    return(part1 - part2)\n",
    "def relu(a):\n",
    "    return(np.where(a>0,a,0))\n",
    "def relup(a,e):\n",
    "    a = np.where(a>0,1,0)\n",
    "    return(a*e)\n",
    "def forwardprop_shallow(x, net):\n",
    "#     print(net)\n",
    "    W1 = net[0]\n",
    "    b1 = net[1]\n",
    "    W2 = net[2]\n",
    "    b2 = net[3]\n",
    "#     print(\"Shape of W1 is \", W1.shape)\n",
    "#     print(x.shape)\n",
    "    Z1 = W1.dot(x) + b1\n",
    "    a1 = relu(Z1)\n",
    "    a2 = W2.dot(a1) + b2\n",
    "    y = softmax(a2)\n",
    "    return y\n",
    "yinit = forwardprop_shallow(x_train, netinit)\n",
    "\n",
    "def eval_loss(y, d):\n",
    "    sum_vert = -np.log(y)*d\n",
    "    return(sum_vert.sum()/y.shape[1])\n",
    "print(eval_loss(yinit, y_train_onehot), 'should be around .26')\n",
    "\n",
    "def eval_perfs(y, lbl):\n",
    "    y_oneD = onehot2label(y)\n",
    "    perf_par = (y_oneD != lbl)\n",
    "    sum_perf_par = perf_par.sum()\n",
    "    return (sum_perf_par/lbl.shape[0])*100\n",
    "print(eval_perfs(yinit, y_train))\n",
    "\n",
    "def update_shallow(x, d, net, gamma=.05):\n",
    "    W1 = net[0]\n",
    "    b1 = net[1]\n",
    "    W2 = net[2]\n",
    "    b2 = net[3]\n",
    "    Ni = W1.shape[1]\n",
    "    Nh = W1.shape[0]\n",
    "    No = W2.shape[0]\n",
    "    gamma = gamma / x.shape[1] # normalized by the training dataset size\n",
    "    Z1 = W1.dot(x) + b1\n",
    "    a1 = relu(Z1)\n",
    "    a2 = W2.dot(a1) + b2\n",
    "    y = softmax(a2)\n",
    "    e2 = - d / y\n",
    "    delta2 = softmaxp(a2,e2)\n",
    "    e1 = W2.T.dot(delta2)\n",
    "    delta1 = relup(a1, e1) \n",
    "    W2 = W2 - gamma * delta2.dot(a1.T)\n",
    "    W1 = W1 - gamma * delta1.dot(x.T)\n",
    "    b2 = b2 - gamma * delta2.sum(axis =1, keepdims = True )\n",
    "    b1 = b1 - gamma * delta1.sum(axis =1, keepdims = True )\n",
    "    return W1, b1, W2, b2\n",
    "\n",
    "def backprop_shallow(x, d, net, T, gamma=.05):\n",
    "    lbl = onehot2label(d)\n",
    "    for t in range(T):\n",
    "        net = update_shallow(x, d, net)\n",
    "        #net = [W1,b1,W2,b2]\n",
    "        y = forwardprop_shallow(x, net)\n",
    "        loss = eval_loss(y, d)\n",
    "        #print(loss)\n",
    "        performance = eval_perfs(y, lbl)\n",
    "        #print(performance)\n",
    "    return net\n",
    "\n",
    "nettrain_batch2 = backprop_shallow(x_train, y_train_onehot, netinit, 10000)"
   ]
  },
  {
   "cell_type": "code",
   "execution_count": null,
   "metadata": {},
   "outputs": [],
   "source": [
    "print(x_test.shape)\n",
    "print(y_test.shape)\n",
    "\n",
    "y_test = y_test.astype(int)\n",
    "y_test_onehot = label2onehot(y_test)\n",
    "\n",
    "y_output = forwardprop_shallow(x_test, nettrain_batch2)\n",
    "\n",
    "perf = eval_perfs(y_output, y_test)\n",
    "print(perf)\n",
    "\n",
    "display_results(np.array(y_test,dtype=int), y_output.T)\n",
    "plt.savefig('Classifier_single_label_parent_all_data_pca__SNN.eps', format='eps')"
   ]
  },
  {
   "cell_type": "code",
   "execution_count": null,
   "metadata": {},
   "outputs": [],
   "source": []
  },
  {
   "cell_type": "code",
   "execution_count": null,
   "metadata": {},
   "outputs": [],
   "source": []
  },
  {
   "cell_type": "code",
   "execution_count": null,
   "metadata": {},
   "outputs": [],
   "source": []
  },
  {
   "cell_type": "code",
   "execution_count": null,
   "metadata": {},
   "outputs": [],
   "source": []
  }
 ],
 "metadata": {
  "kernelspec": {
   "display_name": "Python 3",
   "language": "python",
   "name": "python3"
  }
 },
 "nbformat": 4,
 "nbformat_minor": 2
}
