{
 "cells": [
  {
   "cell_type": "markdown",
   "metadata": {},
   "source": [
    "## Data Cleaning Stage"
   ]
  },
  {
   "cell_type": "markdown",
   "metadata": {},
   "source": [
    "### Data reading"
   ]
  },
  {
   "cell_type": "markdown",
   "metadata": {},
   "source": [
    "This notebook brings uses the scripts read_data_features.py and read_data_genre_track.py to arrive at a cleaned dataset with ready to use features and labels."
   ]
  },
  {
   "cell_type": "markdown",
   "metadata": {},
   "source": [
    "The following is 'read_data_genre_track.py'. "
   ]
  },
  {
   "cell_type": "code",
   "execution_count": 1,
   "metadata": {},
   "outputs": [],
   "source": [
    "import numpy as np\n",
    "import pandas as pd"
   ]
  },
  {
   "cell_type": "code",
   "execution_count": 2,
   "metadata": {},
   "outputs": [],
   "source": [
    "# import xgboost as xgb\n",
    "import itertools\n",
    "import pickle\n",
    "import matplotlib\n",
    "from matplotlib import pyplot as plt\n",
    "from sklearn.linear_model import LogisticRegression\n",
    "from sklearn.svm import SVC\n",
    "from sklearn.ensemble import RandomForestClassifier\n",
    "from sklearn.model_selection import train_test_split\n",
    "from sklearn.preprocessing import MinMaxScaler, OneHotEncoder\n",
    "from sklearn.feature_selection import SelectFromModel\n",
    "from sklearn.utils.class_weight import compute_class_weight\n",
    "from sklearn.decomposition import PCA\n",
    "from sklearn.manifold import TSNE\n",
    "from sklearn.metrics import confusion_matrix, f1_score, accuracy_score, roc_auc_score, roc_curve, auc\n",
    "from scipy import interp\n",
    "from itertools import cycle\n",
    "\n",
    "#matplotlib.rcParams.update({'font.size': 14})\n",
    "%matplotlib inline"
   ]
  },
  {
   "cell_type": "code",
   "execution_count": 3,
   "metadata": {},
   "outputs": [],
   "source": [
    "metadata_path = 'fma_metadata'"
   ]
  },
  {
   "cell_type": "code",
   "execution_count": 4,
   "metadata": {},
   "outputs": [],
   "source": [
    "## Read genre information\n",
    "genres = pd.read_csv(metadata_path+'\\\\genres.csv')"
   ]
  },
  {
   "cell_type": "code",
   "execution_count": 5,
   "metadata": {},
   "outputs": [],
   "source": [
    "genre_grps = genres.groupby('parent')\n"
   ]
  },
  {
   "cell_type": "code",
   "execution_count": 6,
   "metadata": {
    "scrolled": false
   },
   "outputs": [],
   "source": [
    "genre_id_root = genre_grps.get_group(0)['genre_id'] # Extract the parent groups\n",
    "genre_id_name = genre_grps.get_group(0)['title']\n",
    "main_label_dict = dict(zip(list(genre_id_root),list(genre_id_name)))"
   ]
  },
  {
   "cell_type": "code",
   "execution_count": 7,
   "metadata": {},
   "outputs": [
    {
     "data": {
      "text/plain": [
       "{2: 'International',\n",
       " 3: 'Blues',\n",
       " 4: 'Jazz',\n",
       " 5: 'Classical',\n",
       " 8: 'Old-Time / Historic',\n",
       " 9: 'Country',\n",
       " 10: 'Pop',\n",
       " 12: 'Rock',\n",
       " 13: 'Easy Listening',\n",
       " 14: 'Soul-RnB',\n",
       " 15: 'Electronic',\n",
       " 17: 'Folk',\n",
       " 20: 'Spoken',\n",
       " 21: 'Hip-Hop',\n",
       " 38: 'Experimental',\n",
       " 1235: 'Instrumental'}"
      ]
     },
     "execution_count": 7,
     "metadata": {},
     "output_type": "execute_result"
    }
   ],
   "source": [
    "main_label_dict"
   ]
  },
  {
   "cell_type": "code",
   "execution_count": 8,
   "metadata": {},
   "outputs": [
    {
     "data": {
      "text/html": [
       "<div>\n",
       "<style scoped>\n",
       "    .dataframe tbody tr th:only-of-type {\n",
       "        vertical-align: middle;\n",
       "    }\n",
       "\n",
       "    .dataframe tbody tr th {\n",
       "        vertical-align: top;\n",
       "    }\n",
       "\n",
       "    .dataframe thead th {\n",
       "        text-align: right;\n",
       "    }\n",
       "</style>\n",
       "<table border=\"1\" class=\"dataframe\">\n",
       "  <thead>\n",
       "    <tr style=\"text-align: right;\">\n",
       "      <th></th>\n",
       "      <th>track_id</th>\n",
       "      <th>genres</th>\n",
       "      <th>genres_all</th>\n",
       "    </tr>\n",
       "  </thead>\n",
       "  <tbody>\n",
       "    <tr>\n",
       "      <td>0</td>\n",
       "      <td>2</td>\n",
       "      <td>[21]</td>\n",
       "      <td>[21]</td>\n",
       "    </tr>\n",
       "    <tr>\n",
       "      <td>1</td>\n",
       "      <td>3</td>\n",
       "      <td>[21]</td>\n",
       "      <td>[21]</td>\n",
       "    </tr>\n",
       "    <tr>\n",
       "      <td>2</td>\n",
       "      <td>5</td>\n",
       "      <td>[21]</td>\n",
       "      <td>[21]</td>\n",
       "    </tr>\n",
       "    <tr>\n",
       "      <td>3</td>\n",
       "      <td>10</td>\n",
       "      <td>[10]</td>\n",
       "      <td>[10]</td>\n",
       "    </tr>\n",
       "    <tr>\n",
       "      <td>4</td>\n",
       "      <td>20</td>\n",
       "      <td>[76, 103]</td>\n",
       "      <td>[17, 10, 76, 103]</td>\n",
       "    </tr>\n",
       "  </tbody>\n",
       "</table>\n",
       "</div>"
      ],
      "text/plain": [
       "   track_id     genres         genres_all\n",
       "0         2       [21]               [21]\n",
       "1         3       [21]               [21]\n",
       "2         5       [21]               [21]\n",
       "3        10       [10]               [10]\n",
       "4        20  [76, 103]  [17, 10, 76, 103]"
      ]
     },
     "execution_count": 8,
     "metadata": {},
     "output_type": "execute_result"
    }
   ],
   "source": [
    "## Read track information\n",
    "fields = ['track']\n",
    "tracks = pd.read_csv(metadata_path+'\\\\tracks_mod.csv',nrows=85000)\n",
    "tracks.head()"
   ]
  },
  {
   "cell_type": "code",
   "execution_count": 9,
   "metadata": {},
   "outputs": [],
   "source": [
    "tracks = tracks.dropna()"
   ]
  },
  {
   "cell_type": "code",
   "execution_count": 10,
   "metadata": {},
   "outputs": [],
   "source": [
    "tgen = list(tracks['genres'])\n",
    "#print(tgen)"
   ]
  },
  {
   "cell_type": "code",
   "execution_count": 11,
   "metadata": {},
   "outputs": [],
   "source": [
    "tgen = [t.replace('[','') for t in tgen]\n",
    "tgen = [t.replace(']','') for t in tgen]\n",
    "tgen = [t.replace(' ','') for t in tgen]\n",
    "#print(tgen)"
   ]
  },
  {
   "cell_type": "code",
   "execution_count": 12,
   "metadata": {},
   "outputs": [],
   "source": [
    "for k in range(len(tgen)):\n",
    "    if(len(tgen[k])!=0):\n",
    "        tgen[k] = [i for i in map(int, tgen[k].split(','))]\n",
    "    else:\n",
    "        tgen[k]=[]\n",
    "#print(tgen)"
   ]
  },
  {
   "cell_type": "code",
   "execution_count": 13,
   "metadata": {},
   "outputs": [],
   "source": [
    "tracks['genres']=tgen"
   ]
  },
  {
   "cell_type": "code",
   "execution_count": 14,
   "metadata": {},
   "outputs": [
    {
     "data": {
      "text/html": [
       "<div>\n",
       "<style scoped>\n",
       "    .dataframe tbody tr th:only-of-type {\n",
       "        vertical-align: middle;\n",
       "    }\n",
       "\n",
       "    .dataframe tbody tr th {\n",
       "        vertical-align: top;\n",
       "    }\n",
       "\n",
       "    .dataframe thead th {\n",
       "        text-align: right;\n",
       "    }\n",
       "</style>\n",
       "<table border=\"1\" class=\"dataframe\">\n",
       "  <thead>\n",
       "    <tr style=\"text-align: right;\">\n",
       "      <th></th>\n",
       "      <th>track_id</th>\n",
       "      <th>genres</th>\n",
       "      <th>genres_all</th>\n",
       "    </tr>\n",
       "  </thead>\n",
       "  <tbody>\n",
       "    <tr>\n",
       "      <td>0</td>\n",
       "      <td>2</td>\n",
       "      <td>[21]</td>\n",
       "      <td>[21]</td>\n",
       "    </tr>\n",
       "    <tr>\n",
       "      <td>1</td>\n",
       "      <td>3</td>\n",
       "      <td>[21]</td>\n",
       "      <td>[21]</td>\n",
       "    </tr>\n",
       "    <tr>\n",
       "      <td>2</td>\n",
       "      <td>5</td>\n",
       "      <td>[21]</td>\n",
       "      <td>[21]</td>\n",
       "    </tr>\n",
       "    <tr>\n",
       "      <td>3</td>\n",
       "      <td>10</td>\n",
       "      <td>[10]</td>\n",
       "      <td>[10]</td>\n",
       "    </tr>\n",
       "    <tr>\n",
       "      <td>4</td>\n",
       "      <td>20</td>\n",
       "      <td>[76, 103]</td>\n",
       "      <td>[17, 10, 76, 103]</td>\n",
       "    </tr>\n",
       "  </tbody>\n",
       "</table>\n",
       "</div>"
      ],
      "text/plain": [
       "   track_id     genres         genres_all\n",
       "0         2       [21]               [21]\n",
       "1         3       [21]               [21]\n",
       "2         5       [21]               [21]\n",
       "3        10       [10]               [10]\n",
       "4        20  [76, 103]  [17, 10, 76, 103]"
      ]
     },
     "execution_count": 14,
     "metadata": {},
     "output_type": "execute_result"
    }
   ],
   "source": [
    "tracks.head()"
   ]
  },
  {
   "cell_type": "code",
   "execution_count": 15,
   "metadata": {},
   "outputs": [
    {
     "name": "stdout",
     "output_type": "stream",
     "text": [
      "84991\n"
     ]
    }
   ],
   "source": [
    "print(len(tgen))\n",
    "#print(tracks.index)"
   ]
  },
  {
   "cell_type": "markdown",
   "metadata": {},
   "source": [
    "### Extracting relevant tracks and labels"
   ]
  },
  {
   "cell_type": "code",
   "execution_count": 18,
   "metadata": {},
   "outputs": [],
   "source": [
    "## Match the tracks to the genre data: Create dictionary with genre label as key\n",
    "genre_dict = {}\n",
    "for i in range(len(tgen)): # for every track (tgen is a list of lists of genres corresponding to every track)\n",
    "    if i in tracks.index:  \n",
    "        ti = tracks['track_id'][i] # ti stores the track id corresponding to the index\n",
    "        if 1<=len(tgen[i])<=1: # new condition that checks if t has just one genre and only then proceeds\n",
    "            for k in tgen[i]: # k iterates through list of genres of current track\n",
    "                if k is not None:\n",
    "                    if (k in genre_dict.keys()): # if new genre is in the keys of genre_dict\n",
    "                        genre_dict[k]+=[ti] # append current track id to list of all track ids\n",
    "                    else:\n",
    "                        genre_dict.update({k:[ti]}) # if k is a new key, then add new element to dictionary with ti as value"
   ]
  },
  {
   "cell_type": "code",
   "execution_count": 19,
   "metadata": {},
   "outputs": [
    {
     "data": {
      "text/plain": [
       "144"
      ]
     },
     "execution_count": 19,
     "metadata": {},
     "output_type": "execute_result"
    }
   ],
   "source": [
    "genre_dict[4][0]"
   ]
  },
  {
   "cell_type": "code",
   "execution_count": 20,
   "metadata": {},
   "outputs": [
    {
     "name": "stdout",
     "output_type": "stream",
     "text": [
      "2 119\n",
      "3 101\n",
      "4 320\n",
      "5 731\n",
      "8 543\n",
      "9 16\n",
      "10 505\n",
      "12 1717\n",
      "13 3\n",
      "14 15\n",
      "15 2221\n",
      "17 1205\n",
      "20 17\n",
      "21 2363\n",
      "38 1233\n",
      "1235 199\n"
     ]
    }
   ],
   "source": [
    "## Total number of samples for the different root genres\n",
    "for q in genre_id_root:\n",
    "    print(q,len(genre_dict[q]))"
   ]
  },
  {
   "cell_type": "markdown",
   "metadata": {},
   "source": [
    "Based on the above, the genres with sufficient data is selected for training."
   ]
  },
  {
   "cell_type": "code",
   "execution_count": 21,
   "metadata": {},
   "outputs": [],
   "source": [
    "#genre_set = [4,5,8,10,12,15,17,21,38]\n",
    "#genre_set = [17,15,12,21,38]\n",
    "#genre_set = [8,5,12,15,17,21,38]\n",
    "# genre_set = [4,5,10,12,15,17,21,38]\n",
    "#genre_set = [10,5,12,15,17,21,38]\n",
    "# genre_set = [4,5,10,15,17,21,38] # removed rock\n",
    "genre_set = [5,10,12,15,17,21,38] # remove jazz\n",
    "\n",
    "\n",
    "num_tracks = 320\n",
    "tr_len = 300 # Training length per class\n",
    "test_len = 20 # Testing length per class"
   ]
  },
  {
   "cell_type": "markdown",
   "metadata": {},
   "source": [
    "The code below selects the unique selection of 932 tracks from this list, with no repetitionof tracks"
   ]
  },
  {
   "cell_type": "code",
   "execution_count": 22,
   "metadata": {},
   "outputs": [
    {
     "data": {
      "text/plain": [
       "378.7142857142857"
      ]
     },
     "execution_count": 22,
     "metadata": {},
     "output_type": "execute_result"
    }
   ],
   "source": [
    "track_list = genre_dict[genre_set[0]]\n",
    "for k in genre_set[1:]:\n",
    "    t1 = genre_dict[k]\n",
    "    i = 0\n",
    "    while i<num_tracks:\n",
    "        t2 = t1.pop()\n",
    "        if t2 not in track_list:\n",
    "            track_list.append(t2)\n",
    "            i+=1\n",
    "            \n",
    "len(set(track_list))/len(genre_set)"
   ]
  },
  {
   "cell_type": "markdown",
   "metadata": {},
   "source": [
    "Now we create the corresponding list of labels for this list."
   ]
  },
  {
   "cell_type": "code",
   "execution_count": 23,
   "metadata": {},
   "outputs": [
    {
     "data": {
      "text/plain": [
       "248.88888888888889"
      ]
     },
     "execution_count": 23,
     "metadata": {},
     "output_type": "execute_result"
    }
   ],
   "source": [
    "label_list = [t for t in genre_set for i in range(num_tracks)]\n",
    "len(label_list)/9"
   ]
  },
  {
   "cell_type": "markdown",
   "metadata": {},
   "source": [
    "### Creating the training and testing data"
   ]
  },
  {
   "cell_type": "markdown",
   "metadata": {},
   "source": [
    "Now we create the training and testing set partitions based on track index"
   ]
  },
  {
   "cell_type": "code",
   "execution_count": 24,
   "metadata": {},
   "outputs": [
    {
     "name": "stdout",
     "output_type": "stream",
     "text": [
      "300 300 20 20\n",
      "300.0\n",
      "300.0\n",
      "20.0\n",
      "20.0\n"
     ]
    }
   ],
   "source": [
    "tr_set = track_list[0:tr_len]\n",
    "tr_lbl = label_list[0:tr_len]\n",
    "test_set = track_list[tr_len:num_tracks]\n",
    "test_lbl = label_list[tr_len:num_tracks]\n",
    "\n",
    "print(len(tr_set),len(tr_lbl),len(test_set),len(test_lbl))\n",
    "\n",
    "for k in range(1,len(genre_set)):\n",
    "    tr_set+=track_list[num_tracks*k:(num_tracks*k)+tr_len]\n",
    "    test_set+=track_list[num_tracks*k+tr_len:num_tracks*(k+1)]\n",
    "    tr_lbl+=label_list[num_tracks*k:(num_tracks*k)+tr_len]\n",
    "    test_lbl+=label_list[num_tracks*k+tr_len:num_tracks*(k+1)]\n",
    "\n",
    "print(len(tr_set)/len(genre_set))\n",
    "print(len(tr_lbl)/len(genre_set))\n",
    "print(len(test_set)/len(genre_set))\n",
    "print(len(test_lbl)/len(genre_set))"
   ]
  },
  {
   "cell_type": "markdown",
   "metadata": {},
   "source": [
    "### Feature extraction for the relevant track ids"
   ]
  },
  {
   "cell_type": "markdown",
   "metadata": {},
   "source": [
    "The following is 'read_data_features.py'."
   ]
  },
  {
   "cell_type": "code",
   "execution_count": 25,
   "metadata": {},
   "outputs": [],
   "source": [
    "## Column information\n",
    "fields = ['mfcc.40','mfcc.42','mfcc.43','mfcc.44','mfcc.45','mfcc.48','mfcc.49','mfcc.50',\\\n",
    "    'mfcc.53','mfcc.56','mfcc.120','mfcc.121','mfcc.122','mfcc.124','spectral_contrast.14',\\\n",
    "        'spectral_contrast.15','spectral_contrast.16','spectral_contrast.43',\\\n",
    "            'spectral_contrast.44','feature']\n"
   ]
  },
  {
   "cell_type": "code",
   "execution_count": 26,
   "metadata": {},
   "outputs": [
    {
     "name": "stderr",
     "output_type": "stream",
     "text": [
      "C:\\Users\\cpatil\\AppData\\Local\\Continuum\\anaconda3\\lib\\site-packages\\IPython\\core\\interactiveshell.py:3058: DtypeWarning: Columns (0,293,295,296,297,298,301,302,303,306,309,373,374,375,377,428,429,430,457,458) have mixed types. Specify dtype option on import or set low_memory=False.\n",
      "  interactivity=interactivity, compiler=compiler, result=result)\n"
     ]
    }
   ],
   "source": [
    "## Read feature information \n",
    "features = pd.read_csv(metadata_path+'\\\\features.csv',usecols=fields)"
   ]
  },
  {
   "cell_type": "code",
   "execution_count": 27,
   "metadata": {},
   "outputs": [],
   "source": [
    "features['feature'][3:] = features['feature'][3:].astype(int)"
   ]
  },
  {
   "cell_type": "code",
   "execution_count": 28,
   "metadata": {},
   "outputs": [],
   "source": [
    "feat_tr = features.loc[features['feature'].isin(tr_set)]\n",
    "feat_test = features.loc[features['feature'].isin(test_set)]"
   ]
  },
  {
   "cell_type": "code",
   "execution_count": 29,
   "metadata": {},
   "outputs": [
    {
     "name": "stderr",
     "output_type": "stream",
     "text": [
      "C:\\Users\\cpatil\\AppData\\Local\\Continuum\\anaconda3\\lib\\site-packages\\ipykernel_launcher.py:1: SettingWithCopyWarning: \n",
      "A value is trying to be set on a copy of a slice from a DataFrame.\n",
      "Try using .loc[row_indexer,col_indexer] = value instead\n",
      "\n",
      "See the caveats in the documentation: http://pandas.pydata.org/pandas-docs/stable/user_guide/indexing.html#returning-a-view-versus-a-copy\n",
      "  \"\"\"Entry point for launching an IPython kernel.\n",
      "C:\\Users\\cpatil\\AppData\\Local\\Continuum\\anaconda3\\lib\\site-packages\\ipykernel_launcher.py:2: SettingWithCopyWarning: \n",
      "A value is trying to be set on a copy of a slice from a DataFrame.\n",
      "Try using .loc[row_indexer,col_indexer] = value instead\n",
      "\n",
      "See the caveats in the documentation: http://pandas.pydata.org/pandas-docs/stable/user_guide/indexing.html#returning-a-view-versus-a-copy\n",
      "  \n"
     ]
    }
   ],
   "source": [
    "feat_tr['label'] = tr_lbl\n",
    "feat_test['label'] = test_lbl"
   ]
  },
  {
   "cell_type": "markdown",
   "metadata": {},
   "source": [
    "Shuffle the order of the data"
   ]
  },
  {
   "cell_type": "code",
   "execution_count": 30,
   "metadata": {},
   "outputs": [],
   "source": [
    "feat_tr = feat_tr.sample(frac=1)\n",
    "feat_test = feat_test.sample(frac=1)"
   ]
  },
  {
   "cell_type": "markdown",
   "metadata": {},
   "source": [
    "Create separate numpy arrays and convert to type float"
   ]
  },
  {
   "cell_type": "code",
   "execution_count": 31,
   "metadata": {},
   "outputs": [],
   "source": [
    "feat_tr = feat_tr.to_numpy()\n",
    "tr_features = feat_tr[:,1:-1]\n",
    "tr_features = tr_features.astype(float)\n",
    "feat_test = feat_test.to_numpy()\n",
    "test_features = feat_test[:,1:-1]\n",
    "test_features = test_features.astype(float)"
   ]
  },
  {
   "cell_type": "code",
   "execution_count": 32,
   "metadata": {},
   "outputs": [
    {
     "data": {
      "text/plain": [
       "(2100, 19)"
      ]
     },
     "execution_count": 32,
     "metadata": {},
     "output_type": "execute_result"
    }
   ],
   "source": [
    "tr_features.shape"
   ]
  },
  {
   "cell_type": "code",
   "execution_count": 33,
   "metadata": {},
   "outputs": [
    {
     "data": {
      "text/plain": [
       "(140, 19)"
      ]
     },
     "execution_count": 33,
     "metadata": {},
     "output_type": "execute_result"
    }
   ],
   "source": [
    "test_features.shape"
   ]
  },
  {
   "cell_type": "code",
   "execution_count": 34,
   "metadata": {},
   "outputs": [
    {
     "data": {
      "text/plain": [
       "[<matplotlib.lines.Line2D at 0x2432fdb26c8>]"
      ]
     },
     "execution_count": 34,
     "metadata": {},
     "output_type": "execute_result"
    },
    {
     "data": {
      "image/png": "[encoded data removed]",
      "text/plain": [
       "<Figure size 432x288 with 1 Axes>"
      ]
     },
     "metadata": {
      "needs_background": "light"
     },
     "output_type": "display_data"
    }
   ],
   "source": [
    "plt.semilogy(feat_tr[:,-1])"
   ]
  },
  {
   "cell_type": "code",
   "execution_count": 35,
   "metadata": {},
   "outputs": [
    {
     "data": {
      "text/plain": [
       "[<matplotlib.lines.Line2D at 0x24331586b48>]"
      ]
     },
     "execution_count": 35,
     "metadata": {},
     "output_type": "execute_result"
    },
    {
     "data": {
      "image/png": "[encoded data removed]",
      "text/plain": [
       "<Figure size 432x288 with 1 Axes>"
      ]
     },
     "metadata": {
      "needs_background": "light"
     },
     "output_type": "display_data"
    }
   ],
   "source": [
    "plt.semilogy(feat_test[:,-1])"
   ]
  },
  {
   "cell_type": "markdown",
   "metadata": {},
   "source": [
    "### To obtain set of one hot codes for our labels"
   ]
  },
  {
   "cell_type": "code",
   "execution_count": 36,
   "metadata": {},
   "outputs": [],
   "source": [
    "feat_test[:,-1] = [genre_set.index(w) for w in feat_test[:,-1]]\n",
    "feat_tr[:,-1] = [genre_set.index(w) for w in feat_tr[:,-1]]"
   ]
  },
  {
   "cell_type": "code",
   "execution_count": 37,
   "metadata": {},
   "outputs": [
    {
     "data": {
      "text/plain": [
       "[<matplotlib.lines.Line2D at 0x243313d5988>]"
      ]
     },
     "execution_count": 37,
     "metadata": {},
     "output_type": "execute_result"
    },
    {
     "data": {
      "image/png": "[encoded data removed]",
      "text/plain": [
       "<Figure size 432x288 with 1 Axes>"
      ]
     },
     "metadata": {
      "needs_background": "light"
     },
     "output_type": "display_data"
    }
   ],
   "source": [
    "plt.plot(feat_tr[:,-1])"
   ]
  },
  {
   "cell_type": "code",
   "execution_count": 38,
   "metadata": {},
   "outputs": [
    {
     "name": "stdout",
     "output_type": "stream",
     "text": [
      "(7, 2100)\n"
     ]
    }
   ],
   "source": [
    "num_classes = len(genre_set)\n",
    "one_hot = np.zeros((num_classes, num_classes*tr_len))\n",
    "print(one_hot.shape)\n",
    "for index_i, i in enumerate(feat_tr[:,-1]):\n",
    "    one_hot[int(i),index_i] = 1\n"
   ]
  },
  {
   "cell_type": "code",
   "execution_count": 39,
   "metadata": {},
   "outputs": [
    {
     "data": {
      "text/plain": [
       "array([0, 1, 6, 3, 2, 6, 3, 1, 1, 6], dtype=object)"
      ]
     },
     "execution_count": 39,
     "metadata": {},
     "output_type": "execute_result"
    }
   ],
   "source": [
    "feat_tr[0:10,-1]"
   ]
  },
  {
   "cell_type": "code",
   "execution_count": 40,
   "metadata": {},
   "outputs": [
    {
     "name": "stdout",
     "output_type": "stream",
     "text": [
      "[[1. 0. 0. 0. 0. 0. 0. 0. 0. 0.]\n",
      " [0. 1. 0. 0. 0. 0. 0. 1. 1. 0.]\n",
      " [0. 0. 0. 0. 1. 0. 0. 0. 0. 0.]\n",
      " [0. 0. 0. 1. 0. 0. 1. 0. 0. 0.]\n",
      " [0. 0. 0. 0. 0. 0. 0. 0. 0. 0.]\n",
      " [0. 0. 0. 0. 0. 0. 0. 0. 0. 0.]\n",
      " [0. 0. 1. 0. 0. 1. 0. 0. 0. 1.]]\n",
      "(7, 2100)\n"
     ]
    }
   ],
   "source": [
    "print(one_hot[:,0:10])\n",
    "print(one_hot.shape)"
   ]
  },
  {
   "cell_type": "markdown",
   "metadata": {},
   "source": [
    "## Training Stage"
   ]
  },
  {
   "cell_type": "markdown",
   "metadata": {},
   "source": [
    "### Setting up data "
   ]
  },
  {
   "cell_type": "code",
   "execution_count": 41,
   "metadata": {},
   "outputs": [],
   "source": [
    "x_train = tr_features/1000\n",
    "x_test = test_features/1000\n",
    "y_train = feat_tr[:,-1]\n",
    "y_test = feat_test[:,-1]"
   ]
  },
  {
   "cell_type": "code",
   "execution_count": 42,
   "metadata": {},
   "outputs": [],
   "source": [
    "class_set = list(range(num_classes))\n",
    "class_lbl = [genre_set[i] for i in class_set]\n",
    "class_name = [main_label_dict[genre_set[i]] for i in class_set]\n",
    "label_dict = dict(zip(class_name,class_set))"
   ]
  },
  {
   "cell_type": "code",
   "execution_count": 43,
   "metadata": {},
   "outputs": [
    {
     "data": {
      "text/plain": [
       "{'Classical': 0,\n",
       " 'Pop': 1,\n",
       " 'Rock': 2,\n",
       " 'Electronic': 3,\n",
       " 'Folk': 4,\n",
       " 'Hip-Hop': 5,\n",
       " 'Experimental': 6}"
      ]
     },
     "execution_count": 43,
     "metadata": {},
     "output_type": "execute_result"
    }
   ],
   "source": [
    "label_dict"
   ]
  },
  {
   "cell_type": "code",
   "execution_count": 44,
   "metadata": {},
   "outputs": [],
   "source": [
    "def set_size(w,h, ax=None):\n",
    "    \"\"\" w, h: width, height in inches \"\"\"\n",
    "    if not ax: ax=plt.gca()\n",
    "    l = ax.figure.subplotpars.left\n",
    "    r = ax.figure.subplotpars.right\n",
    "    t = ax.figure.subplotpars.top\n",
    "    b = ax.figure.subplotpars.bottom\n",
    "    figw = float(w)/(r-l)\n",
    "    figh = float(h)/(t-b)\n",
    "    ax.figure.set_size_inches(figw, figh)\n",
    "\n",
    "def plot_confusion_matrix(cm, classes,normalize=False,title='Confusion matrix',cmap=plt.cm.Blues):\n",
    "    \"\"\"\n",
    "    This function prints and plots the confusion matrix.\n",
    "    Normalization can be applied by setting `normalize=True`.\n",
    "    \"\"\"\n",
    "    if normalize:\n",
    "        cm = cm.astype('float') / cm.sum(axis=1)[:, np.newaxis]\n",
    "        print(\"Normalized confusion matrix\")\n",
    "    else:\n",
    "        print('Confusion matrix, without normalization')\n",
    "\n",
    "    print(cm)\n",
    "    \n",
    "    #plt.figure(figsize=(8,12))\n",
    "    plt.imshow(cm, interpolation='nearest', cmap=cmap, aspect='auto')\n",
    "    plt.title(title)\n",
    "    plt.colorbar()\n",
    "    tick_marks = np.arange(len(classes))\n",
    "    plt.xticks(tick_marks, classes, rotation=45)\n",
    "    plt.yticks(tick_marks, classes)\n",
    "    #matplotlib.rcParams.update({'font.size': 14})\n",
    "\n",
    "    thresh = cm.max() / 2.\n",
    "    for i, j in itertools.product(range(cm.shape[0]), range(cm.shape[1])):\n",
    "        plt.text(j, i, cm[i, j],\n",
    "                 horizontalalignment=\"center\",\n",
    "                 color=\"white\" if cm[i, j] > thresh else \"black\")\n",
    "\n",
    "    plt.tight_layout()\n",
    "    plt.ylabel('True label')\n",
    "    plt.xlabel('Predicted label')\n",
    "    #plt.gca().set_aspect(3/4, adjustable='box')\n",
    "    #set_size(5,5)\n",
    "    \n",
    "def one_hot_encoder(true_labels, num_records, num_classes):\n",
    "    temp = np.array(true_labels[:num_records])\n",
    "    true_labels1 = np.zeros((num_records, num_classes))\n",
    "    #print(true_labels.shape)\n",
    "    for index_i, i in enumerate(true_labels):\n",
    "        #print(index_i,i)\n",
    "        true_labels1[index_i,int(i)] = 1\n",
    "    return true_labels1\n",
    "\n",
    "def display_results(y_test, pred_probs, cm = True):\n",
    "    pred = np.argmax(pred_probs, axis=-1)\n",
    "    #print(pred)\n",
    "    one_hot_true = one_hot_encoder(y_test, len(pred), num_classes)\n",
    "    print('Test Set Accuracy =  {0:.2f}'.format(accuracy_score(y_test, pred)))\n",
    "    print('Test Set F-score =  {0:.2f}'.format(f1_score(y_test, pred, average='macro')))\n",
    "    print('ROC AUC = {0:.3f}'.format(roc_auc_score(y_true=one_hot_true, y_score=pred_probs, average='macro')))\n",
    "    if cm:\n",
    "        plot_confusion_matrix(confusion_matrix(y_test, pred), classes=label_dict.keys())"
   ]
  },
  {
   "cell_type": "markdown",
   "metadata": {},
   "source": [
    "### Boosting"
   ]
  },
  {
   "cell_type": "code",
   "execution_count": 45,
   "metadata": {},
   "outputs": [
    {
     "ename": "NameError",
     "evalue": "name 'xgb' is not defined",
     "output_type": "error",
     "traceback": [
      "\u001b[1;31m---------------------------------------------------------------------------\u001b[0m",
      "\u001b[1;31mNameError\u001b[0m                                 Traceback (most recent call last)",
      "\u001b[1;32m<timed exec>\u001b[0m in \u001b[0;36m<module>\u001b[1;34m\u001b[0m\n",
      "\u001b[1;31mNameError\u001b[0m: name 'xgb' is not defined"
     ]
    }
   ],
   "source": [
    "%%time\n",
    "# Train\n",
    "\n",
    "xgb_classifier = xgb.XGBClassifier(max_depth=5, learning_rate=0.01, objective='multi:hardprob', \\\n",
    "                                   n_estimators=700, sub_sample = 0.9, num_class = num_classes)\n",
    "xgb_classifier.fit(x_train, y_train)\n",
    "\n",
    "# Predict\n",
    "pred_probs = xgb_classifier.predict_proba(x_test)\n"
   ]
  },
  {
   "cell_type": "code",
   "execution_count": 46,
   "metadata": {},
   "outputs": [
    {
     "ename": "NameError",
     "evalue": "name 'pred_probs' is not defined",
     "output_type": "error",
     "traceback": [
      "\u001b[1;31m---------------------------------------------------------------------------\u001b[0m",
      "\u001b[1;31mNameError\u001b[0m                                 Traceback (most recent call last)",
      "\u001b[1;32m<ipython-input-46-2cb69898f83e>\u001b[0m in \u001b[0;36m<module>\u001b[1;34m\u001b[0m\n\u001b[1;32m----> 1\u001b[1;33m \u001b[0mpred\u001b[0m \u001b[1;33m=\u001b[0m \u001b[0mnp\u001b[0m\u001b[1;33m.\u001b[0m\u001b[0margmax\u001b[0m\u001b[1;33m(\u001b[0m\u001b[0mpred_probs\u001b[0m\u001b[1;33m,\u001b[0m \u001b[0maxis\u001b[0m\u001b[1;33m=\u001b[0m\u001b[1;33m-\u001b[0m\u001b[1;36m1\u001b[0m\u001b[1;33m)\u001b[0m\u001b[1;33m\u001b[0m\u001b[1;33m\u001b[0m\u001b[0m\n\u001b[0m\u001b[0;32m      2\u001b[0m \u001b[0mprint\u001b[0m\u001b[1;33m(\u001b[0m\u001b[1;34m'Test Error: '\u001b[0m\u001b[1;33m,\u001b[0m\u001b[0mlen\u001b[0m\u001b[1;33m(\u001b[0m\u001b[0my_test\u001b[0m\u001b[1;33m[\u001b[0m\u001b[0my_test\u001b[0m\u001b[1;33m!=\u001b[0m\u001b[0mpred\u001b[0m\u001b[1;33m]\u001b[0m\u001b[1;33m)\u001b[0m\u001b[1;33m/\u001b[0m\u001b[0mlen\u001b[0m\u001b[1;33m(\u001b[0m\u001b[0my_test\u001b[0m\u001b[1;33m)\u001b[0m\u001b[1;33m)\u001b[0m\u001b[1;33m\u001b[0m\u001b[1;33m\u001b[0m\u001b[0m\n",
      "\u001b[1;31mNameError\u001b[0m: name 'pred_probs' is not defined"
     ]
    }
   ],
   "source": [
    "pred = np.argmax(pred_probs, axis=-1)\n",
    "print('Test Error: ',len(y_test[y_test!=pred])/len(y_test))"
   ]
  },
  {
   "cell_type": "code",
   "execution_count": null,
   "metadata": {},
   "outputs": [],
   "source": [
    "display_results(np.array(y_test,dtype=int), pred_probs)"
   ]
  },
  {
   "cell_type": "markdown",
   "metadata": {},
   "source": [
    "### SVM "
   ]
  },
  {
   "cell_type": "markdown",
   "metadata": {},
   "source": [
    "##### Before changes were made:\n",
    "Test Set Accuracy =  0.26\n",
    "Test Set F-score =  0.25\n",
    "ROC AUC = 0.642\n",
    "Confusion matrix, without normalization\n",
    "[[ 4  2  3  4  1  3  0  3]\n",
    " [ 0 20  0  0  0  0  0  0]\n",
    " [ 3  0  4 11  0  1  1  0]\n",
    " [ 6  1  2  5  0  1  5  0]\n",
    " [ 2  1  1  8  1  3  1  3]\n",
    " [ 5  1  0  2  1  0  8  3]\n",
    " [ 1  0  0  3  0  9  4  3]\n",
    " [ 1  0  1  4  1  1  8  4]]\n",
    " \n",
    "\n",
    "##### After removing rock\n",
    "\n",
    "\n",
    "Test Set Accuracy =  0.31\n",
    "Test Set F-score =  0.30\n",
    "ROC AUC = 0.658\n",
    "Confusion matrix, without normalization\n",
    "[[ 7  0  4  4  2  1  2]\n",
    " [ 0 20  0  0  0  0  0]\n",
    " [ 5  0  4  2  4  5  0]\n",
    " [ 1  1  9  2  1  2  4]\n",
    " [ 5  1  2  2  1  4  5]\n",
    " [ 1  0  0  1  9  5  4]\n",
    " [ 1  2  2  3  1  6  5]]\n",
    " \n",
    " \n",
    "##### After removing jazz\n",
    "\n",
    "Test Set Accuracy =  0.33\n",
    "Test Set F-score =  0.28\n",
    "ROC AUC = 0.713\n",
    "Confusion matrix, without normalization\n",
    "[[ 6  4  0  6  1  1  2]\n",
    " [ 1 14  0  2  2  1  0]\n",
    " [12  2  0  5  0  0  1]\n",
    " [ 1  1  1 15  0  0  2]\n",
    " [ 1  2  3  7  0  4  3]\n",
    " [ 0  0  1  8  2  5  4]\n",
    " [ 2  0  0  6  1  5  6]]"
   ]
  },
  {
   "cell_type": "code",
   "execution_count": 47,
   "metadata": {},
   "outputs": [],
   "source": [
    "cl_weight = dict(pd.Series(np.array(y_train,dtype=int)).value_counts(normalize=True))"
   ]
  },
  {
   "cell_type": "code",
   "execution_count": 48,
   "metadata": {},
   "outputs": [
    {
     "data": {
      "text/plain": [
       "{5: 0.14285714285714285,\n",
       " 3: 0.14285714285714285,\n",
       " 1: 0.14285714285714285,\n",
       " 6: 0.14285714285714285,\n",
       " 4: 0.14285714285714285,\n",
       " 2: 0.14285714285714285,\n",
       " 0: 0.14285714285714285}"
      ]
     },
     "execution_count": 48,
     "metadata": {},
     "output_type": "execute_result"
    }
   ],
   "source": [
    "cl_weight"
   ]
  },
  {
   "cell_type": "code",
   "execution_count": 49,
   "metadata": {},
   "outputs": [
    {
     "name": "stderr",
     "output_type": "stream",
     "text": [
      "C:\\Users\\cpatil\\AppData\\Local\\Continuum\\anaconda3\\lib\\site-packages\\sklearn\\svm\\base.py:193: FutureWarning: The default value of gamma will change from 'auto' to 'scale' in version 0.22 to account better for unscaled features. Set gamma explicitly to 'auto' or 'scale' to avoid this warning.\n",
      "  \"avoid this warning.\", FutureWarning)\n"
     ]
    },
    {
     "name": "stdout",
     "output_type": "stream",
     "text": [
      "Wall time: 1.08 s\n"
     ]
    }
   ],
   "source": [
    "%%time\n",
    "\n",
    "# Train\n",
    "svm_classifier = SVC(C=10000.0, kernel = 'rbf', probability = True, class_weight=cl_weight)\n",
    "svm_classifier.fit(x_train, np.array(y_train,dtype=int))\n",
    "\n",
    "# Predict\n",
    "pred_probs = svm_classifier.predict_proba(x_test)"
   ]
  },
  {
   "cell_type": "code",
   "execution_count": 50,
   "metadata": {},
   "outputs": [
    {
     "name": "stdout",
     "output_type": "stream",
     "text": [
      "Test Error:  0.6714285714285714\n"
     ]
    }
   ],
   "source": [
    "pred = np.argmax(pred_probs, axis=-1)\n",
    "print('Test Error: ',len(y_test[y_test!=pred])/len(y_test))"
   ]
  },
  {
   "cell_type": "code",
   "execution_count": 51,
   "metadata": {},
   "outputs": [
    {
     "name": "stdout",
     "output_type": "stream",
     "text": [
      "Test Set Accuracy =  0.33\n",
      "Test Set F-score =  0.28\n",
      "ROC AUC = 0.713\n",
      "Confusion matrix, without normalization\n",
      "[[ 6  4  0  6  1  1  2]\n",
      " [ 1 14  0  2  2  1  0]\n",
      " [12  2  0  5  0  0  1]\n",
      " [ 1  1  1 15  0  0  2]\n",
      " [ 1  2  3  7  0  4  3]\n",
      " [ 0  0  1  8  2  5  4]\n",
      " [ 2  0  0  6  1  5  6]]\n"
     ]
    },
    {
     "data": {
      "image/png": "[encoded data removed]",
      "text/plain": [
       "<Figure size 432x288 with 2 Axes>"
      ]
     },
     "metadata": {
      "needs_background": "light"
     },
     "output_type": "display_data"
    }
   ],
   "source": [
    "display_results(np.array(y_test,dtype=int), pred_probs)"
   ]
  },
  {
   "cell_type": "markdown",
   "metadata": {},
   "source": [
    "### Random Forest"
   ]
  },
  {
   "cell_type": "code",
   "execution_count": null,
   "metadata": {},
   "outputs": [],
   "source": [
    "%%time\n",
    "# Train\n",
    "rf_classifier = RandomForestClassifier(n_estimators=500, min_samples_split=5)\n",
    "rf_classifier.fit(x_train, np.array(y_train,dtype=int))\n",
    "\n",
    "# Predict\n",
    "pred_probs = rf_classifier.predict_proba(x_test)"
   ]
  },
  {
   "cell_type": "code",
   "execution_count": null,
   "metadata": {},
   "outputs": [],
   "source": [
    "# Results\n",
    "display_results(np.array(y_test,dtype=int), pred_probs)"
   ]
  },
  {
   "cell_type": "markdown",
   "metadata": {},
   "source": [
    "### Logistic Regression"
   ]
  },
  {
   "cell_type": "code",
   "execution_count": null,
   "metadata": {},
   "outputs": [],
   "source": [
    "%%time\n",
    "# Train\n",
    "lr_classifier = LogisticRegression(penalty='l2')\n",
    "lr_classifier.fit(x_train, np.array(y_train,dtype=int))\n",
    "\n",
    "# Predict\n",
    "pred_probs = lr_classifier.predict_proba(x_test)"
   ]
  },
  {
   "cell_type": "code",
   "execution_count": null,
   "metadata": {},
   "outputs": [],
   "source": [
    "# Results\n",
    "display_results(np.array(y_test,dtype=int), pred_probs)"
   ]
  },
  {
   "cell_type": "code",
   "execution_count": null,
   "metadata": {},
   "outputs": [],
   "source": []
  },
  {
   "cell_type": "code",
   "execution_count": null,
   "metadata": {},
   "outputs": [],
   "source": []
  },
  {
   "cell_type": "code",
   "execution_count": null,
   "metadata": {},
   "outputs": [],
   "source": []
  }
 ],
 "metadata": {
  "kernelspec": {
   "display_name": "Python 3",
   "language": "python",
   "name": "python3"
  },
  "language_info": {
   "codemirror_mode": {
    "name": "ipython",
    "version": 3
   },
   "file_extension": ".py",
   "mimetype": "text/x-python",
   "name": "python",
   "nbconvert_exporter": "python",
   "pygments_lexer": "ipython3",
   "version": "3.7.4"
  }
 },
 "nbformat": 4,
 "nbformat_minor": 2
}
