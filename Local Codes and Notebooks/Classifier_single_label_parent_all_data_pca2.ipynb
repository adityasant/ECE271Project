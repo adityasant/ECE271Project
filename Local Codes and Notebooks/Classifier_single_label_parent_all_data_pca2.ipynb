{
 "cells": [
  {
   "cell_type": "markdown",
   "metadata": {},
   "source": [
    "## Data Cleaning Stage"
   ]
  },
  {
   "cell_type": "markdown",
   "metadata": {},
   "source": [
    "### Data reading"
   ]
  },
  {
   "cell_type": "markdown",
   "metadata": {},
   "source": [
    "This notebook brings uses the scripts read_data_features.py and read_data_genre_track.py to arrive at a cleaned dataset with ready to use features and labels."
   ]
  },
  {
   "cell_type": "markdown",
   "metadata": {},
   "source": [
    "The following is 'read_data_genre_track.py'. "
   ]
  },
  {
   "cell_type": "code",
   "execution_count": 1,
   "metadata": {},
   "outputs": [],
   "source": [
    "import numpy as np\n",
    "import pandas as pd"
   ]
  },
  {
   "cell_type": "code",
   "execution_count": 2,
   "metadata": {},
   "outputs": [],
   "source": [
    "import xgboost as xgb\n",
    "import itertools\n",
    "import pickle\n",
    "import matplotlib\n",
    "from matplotlib import pyplot as plt\n",
    "from sklearn.linear_model import LogisticRegression\n",
    "from sklearn.svm import SVC\n",
    "from sklearn.ensemble import RandomForestClassifier\n",
    "from sklearn.model_selection import train_test_split\n",
    "from sklearn.preprocessing import MinMaxScaler, OneHotEncoder\n",
    "from sklearn.feature_selection import SelectFromModel\n",
    "from sklearn.utils.class_weight import compute_class_weight\n",
    "from sklearn.decomposition import PCA\n",
    "from sklearn.manifold import TSNE\n",
    "from sklearn.metrics import confusion_matrix, f1_score, accuracy_score, roc_auc_score, roc_curve, auc\n",
    "from scipy import interp\n",
    "from itertools import cycle\n",
    "\n",
    "#matplotlib.rcParams.update({'font.size': 14})\n",
    "%matplotlib inline"
   ]
  },
  {
   "cell_type": "code",
   "execution_count": 3,
   "metadata": {},
   "outputs": [],
   "source": [
    "metadata_path = '..\\\\Dataset\\\\fma_metadata'"
   ]
  },
  {
   "cell_type": "code",
   "execution_count": 4,
   "metadata": {},
   "outputs": [],
   "source": [
    "## Read genre information\n",
    "genres = pd.read_csv(metadata_path+'\\\\genres.csv')"
   ]
  },
  {
   "cell_type": "code",
   "execution_count": 5,
   "metadata": {},
   "outputs": [],
   "source": [
    "genre_grps = genres.groupby('parent')\n"
   ]
  },
  {
   "cell_type": "code",
   "execution_count": 6,
   "metadata": {
    "scrolled": false
   },
   "outputs": [],
   "source": [
    "genre_id_root = genre_grps.get_group(0)['genre_id'] # Extract the parent groups\n",
    "genre_id_name = genre_grps.get_group(0)['title']\n",
    "main_label_dict = dict(zip(list(genre_id_root),list(genre_id_name)))"
   ]
  },
  {
   "cell_type": "code",
   "execution_count": 7,
   "metadata": {},
   "outputs": [
    {
     "data": {
      "text/plain": [
       "{2: 'International',\n",
       " 3: 'Blues',\n",
       " 4: 'Jazz',\n",
       " 5: 'Classical',\n",
       " 8: 'Old-Time / Historic',\n",
       " 9: 'Country',\n",
       " 10: 'Pop',\n",
       " 12: 'Rock',\n",
       " 13: 'Easy Listening',\n",
       " 14: 'Soul-RnB',\n",
       " 15: 'Electronic',\n",
       " 17: 'Folk',\n",
       " 20: 'Spoken',\n",
       " 21: 'Hip-Hop',\n",
       " 38: 'Experimental',\n",
       " 1235: 'Instrumental'}"
      ]
     },
     "execution_count": 7,
     "metadata": {},
     "output_type": "execute_result"
    }
   ],
   "source": [
    "main_label_dict"
   ]
  },
  {
   "cell_type": "code",
   "execution_count": 8,
   "metadata": {},
   "outputs": [
    {
     "data": {
      "text/html": [
       "<div>\n",
       "<style scoped>\n",
       "    .dataframe tbody tr th:only-of-type {\n",
       "        vertical-align: middle;\n",
       "    }\n",
       "\n",
       "    .dataframe tbody tr th {\n",
       "        vertical-align: top;\n",
       "    }\n",
       "\n",
       "    .dataframe thead th {\n",
       "        text-align: right;\n",
       "    }\n",
       "</style>\n",
       "<table border=\"1\" class=\"dataframe\">\n",
       "  <thead>\n",
       "    <tr style=\"text-align: right;\">\n",
       "      <th></th>\n",
       "      <th>track_id</th>\n",
       "      <th>genres</th>\n",
       "      <th>genres_all</th>\n",
       "    </tr>\n",
       "  </thead>\n",
       "  <tbody>\n",
       "    <tr>\n",
       "      <td>0</td>\n",
       "      <td>2</td>\n",
       "      <td>[21]</td>\n",
       "      <td>[21]</td>\n",
       "    </tr>\n",
       "    <tr>\n",
       "      <td>1</td>\n",
       "      <td>3</td>\n",
       "      <td>[21]</td>\n",
       "      <td>[21]</td>\n",
       "    </tr>\n",
       "    <tr>\n",
       "      <td>2</td>\n",
       "      <td>5</td>\n",
       "      <td>[21]</td>\n",
       "      <td>[21]</td>\n",
       "    </tr>\n",
       "    <tr>\n",
       "      <td>3</td>\n",
       "      <td>10</td>\n",
       "      <td>[10]</td>\n",
       "      <td>[10]</td>\n",
       "    </tr>\n",
       "    <tr>\n",
       "      <td>4</td>\n",
       "      <td>20</td>\n",
       "      <td>[76, 103]</td>\n",
       "      <td>[17, 10, 76, 103]</td>\n",
       "    </tr>\n",
       "  </tbody>\n",
       "</table>\n",
       "</div>"
      ],
      "text/plain": [
       "   track_id     genres         genres_all\n",
       "0         2       [21]               [21]\n",
       "1         3       [21]               [21]\n",
       "2         5       [21]               [21]\n",
       "3        10       [10]               [10]\n",
       "4        20  [76, 103]  [17, 10, 76, 103]"
      ]
     },
     "execution_count": 8,
     "metadata": {},
     "output_type": "execute_result"
    }
   ],
   "source": [
    "## Read track information\n",
    "fields = ['track']\n",
    "tracks = pd.read_csv(metadata_path+'\\\\tracks_mod.csv',nrows=85000)\n",
    "tracks.head()"
   ]
  },
  {
   "cell_type": "code",
   "execution_count": 9,
   "metadata": {},
   "outputs": [],
   "source": [
    "tracks = tracks.dropna()"
   ]
  },
  {
   "cell_type": "code",
   "execution_count": 10,
   "metadata": {},
   "outputs": [],
   "source": [
    "tgen = list(tracks['genres'])\n",
    "#print(tgen)"
   ]
  },
  {
   "cell_type": "code",
   "execution_count": 11,
   "metadata": {},
   "outputs": [],
   "source": [
    "tgen = [t.replace('[','') for t in tgen]\n",
    "tgen = [t.replace(']','') for t in tgen]\n",
    "tgen = [t.replace(' ','') for t in tgen]\n",
    "#print(tgen)"
   ]
  },
  {
   "cell_type": "code",
   "execution_count": 12,
   "metadata": {},
   "outputs": [],
   "source": [
    "for k in range(len(tgen)):\n",
    "    if(len(tgen[k])!=0):\n",
    "        tgen[k] = [i for i in map(int, tgen[k].split(','))]\n",
    "    else:\n",
    "        tgen[k]=[]\n",
    "#print(tgen)"
   ]
  },
  {
   "cell_type": "code",
   "execution_count": 13,
   "metadata": {},
   "outputs": [],
   "source": [
    "tracks['genres']=tgen"
   ]
  },
  {
   "cell_type": "code",
   "execution_count": 14,
   "metadata": {},
   "outputs": [
    {
     "data": {
      "text/html": [
       "<div>\n",
       "<style scoped>\n",
       "    .dataframe tbody tr th:only-of-type {\n",
       "        vertical-align: middle;\n",
       "    }\n",
       "\n",
       "    .dataframe tbody tr th {\n",
       "        vertical-align: top;\n",
       "    }\n",
       "\n",
       "    .dataframe thead th {\n",
       "        text-align: right;\n",
       "    }\n",
       "</style>\n",
       "<table border=\"1\" class=\"dataframe\">\n",
       "  <thead>\n",
       "    <tr style=\"text-align: right;\">\n",
       "      <th></th>\n",
       "      <th>track_id</th>\n",
       "      <th>genres</th>\n",
       "      <th>genres_all</th>\n",
       "    </tr>\n",
       "  </thead>\n",
       "  <tbody>\n",
       "    <tr>\n",
       "      <td>0</td>\n",
       "      <td>2</td>\n",
       "      <td>[21]</td>\n",
       "      <td>[21]</td>\n",
       "    </tr>\n",
       "    <tr>\n",
       "      <td>1</td>\n",
       "      <td>3</td>\n",
       "      <td>[21]</td>\n",
       "      <td>[21]</td>\n",
       "    </tr>\n",
       "    <tr>\n",
       "      <td>2</td>\n",
       "      <td>5</td>\n",
       "      <td>[21]</td>\n",
       "      <td>[21]</td>\n",
       "    </tr>\n",
       "    <tr>\n",
       "      <td>3</td>\n",
       "      <td>10</td>\n",
       "      <td>[10]</td>\n",
       "      <td>[10]</td>\n",
       "    </tr>\n",
       "    <tr>\n",
       "      <td>4</td>\n",
       "      <td>20</td>\n",
       "      <td>[76, 103]</td>\n",
       "      <td>[17, 10, 76, 103]</td>\n",
       "    </tr>\n",
       "  </tbody>\n",
       "</table>\n",
       "</div>"
      ],
      "text/plain": [
       "   track_id     genres         genres_all\n",
       "0         2       [21]               [21]\n",
       "1         3       [21]               [21]\n",
       "2         5       [21]               [21]\n",
       "3        10       [10]               [10]\n",
       "4        20  [76, 103]  [17, 10, 76, 103]"
      ]
     },
     "execution_count": 14,
     "metadata": {},
     "output_type": "execute_result"
    }
   ],
   "source": [
    "tracks.head()"
   ]
  },
  {
   "cell_type": "code",
   "execution_count": 15,
   "metadata": {},
   "outputs": [
    {
     "name": "stdout",
     "output_type": "stream",
     "text": [
      "84991\n"
     ]
    }
   ],
   "source": [
    "print(len(tgen))\n",
    "#print(tracks.index)"
   ]
  },
  {
   "cell_type": "markdown",
   "metadata": {},
   "source": [
    "### Extracting relevant tracks and labels"
   ]
  },
  {
   "cell_type": "code",
   "execution_count": 16,
   "metadata": {},
   "outputs": [],
   "source": [
    "## Match the tracks to the genre data: Create dictionary with genre label as key\n",
    "genre_dict = {}\n",
    "for i in range(len(tgen)): # for every track (tgen is a list of lists of genres corresponding to every track)\n",
    "    if i in tracks.index:  \n",
    "        ti = tracks['track_id'][i] # ti stores the track id corresponding to the index\n",
    "        if 1<=len(tgen[i])<=1: # new condition that checks if t has just one genre and only then proceeds\n",
    "            for k in tgen[i]: # k iterates through list of genres of current track\n",
    "                if k is not None:\n",
    "                    if (k in genre_dict.keys()): # if new genre is in the keys of genre_dict\n",
    "                        genre_dict[k]+=[ti] # append current track id to list of all track ids\n",
    "                    else:\n",
    "                        genre_dict.update({k:[ti]}) # if k is a new key, then add new element to dictionary with ti as value"
   ]
  },
  {
   "cell_type": "code",
   "execution_count": 17,
   "metadata": {},
   "outputs": [
    {
     "data": {
      "text/plain": [
       "144"
      ]
     },
     "execution_count": 17,
     "metadata": {},
     "output_type": "execute_result"
    }
   ],
   "source": [
    "genre_dict[4][0]"
   ]
  },
  {
   "cell_type": "code",
   "execution_count": 18,
   "metadata": {},
   "outputs": [
    {
     "name": "stdout",
     "output_type": "stream",
     "text": [
      "2 119\n",
      "3 101\n",
      "4 320\n",
      "5 731\n",
      "8 543\n",
      "9 16\n",
      "10 505\n",
      "12 1717\n",
      "13 3\n",
      "14 15\n",
      "15 2221\n",
      "17 1205\n",
      "20 17\n",
      "21 2363\n",
      "38 1233\n",
      "1235 199\n"
     ]
    }
   ],
   "source": [
    "## Total number of samples for the different root genres\n",
    "for q in genre_id_root:\n",
    "    print(q,len(genre_dict[q]))"
   ]
  },
  {
   "cell_type": "markdown",
   "metadata": {},
   "source": [
    "Based on the above, the genres with sufficient data is selected for training."
   ]
  },
  {
   "cell_type": "code",
   "execution_count": 19,
   "metadata": {},
   "outputs": [],
   "source": [
    "#genre_set = [4,5,8,10,12,15,17,21,38]\n",
    "#genre_set = [17,15,12,21,38]\n",
    "#genre_set = [8,5,12,15,17,21,38]\n",
    "#genre_set = [4,5,10,12,15,17,21]\n",
    "#genre_set = [5,10,12,15,17,21]\n",
    "#genre_set = [10,5,12,17,21,38] # Good set\n",
    "genre_set = [10,5,12,17,21] # Good set\n",
    "#genre_set = [5,12]\n",
    "#genre_set = [8,15]"
   ]
  },
  {
   "cell_type": "markdown",
   "metadata": {},
   "source": [
    "The code below selects the unique selection of 932 tracks from this list, with no repetitionof tracks"
   ]
  },
  {
   "cell_type": "code",
   "execution_count": 20,
   "metadata": {},
   "outputs": [
    {
     "data": {
      "text/plain": [
       "1304.2"
      ]
     },
     "execution_count": 20,
     "metadata": {},
     "output_type": "execute_result"
    }
   ],
   "source": [
    "track_list = genre_dict[genre_set[0]]\n",
    "label_list = [genre_set[0]]*len(track_list)\n",
    "for k in genre_set[1:]:\n",
    "    t1 = genre_dict[k]\n",
    "    while len(t1)>0:\n",
    "        t2 = t1.pop()\n",
    "        track_list.append(t2)\n",
    "        label_list.append(k)\n",
    "                    \n",
    "len(set(track_list))/len(genre_set)"
   ]
  },
  {
   "cell_type": "code",
   "execution_count": 21,
   "metadata": {},
   "outputs": [
    {
     "data": {
      "text/plain": [
       "6521"
      ]
     },
     "execution_count": 21,
     "metadata": {},
     "output_type": "execute_result"
    }
   ],
   "source": [
    "num_tracks = len(track_list)\n",
    "num_tracks"
   ]
  },
  {
   "cell_type": "code",
   "execution_count": 22,
   "metadata": {},
   "outputs": [],
   "source": [
    "tr_len = 6000 # Training length per class\n",
    "test_len = 521 # Testing length per class"
   ]
  },
  {
   "cell_type": "markdown",
   "metadata": {},
   "source": [
    "Now we create the corresponding list of labels for this list."
   ]
  },
  {
   "cell_type": "markdown",
   "metadata": {},
   "source": [
    "### Feature extraction for the relevant track ids"
   ]
  },
  {
   "cell_type": "markdown",
   "metadata": {},
   "source": [
    "The following is 'read_data_features.py'."
   ]
  },
  {
   "cell_type": "code",
   "execution_count": 23,
   "metadata": {},
   "outputs": [],
   "source": [
    "## Column information\n",
    "fields = ['mfcc.40','mfcc.42','mfcc.43','mfcc.44','mfcc.45','mfcc.48','mfcc.49','mfcc.50',\\\n",
    "    'mfcc.53','mfcc.56','mfcc.120','mfcc.121','mfcc.122','mfcc.124','spectral_contrast.14',\\\n",
    "        'spectral_contrast.15','spectral_contrast.16','spectral_contrast.43',\\\n",
    "            'spectral_contrast.44','feature']\n"
   ]
  },
  {
   "cell_type": "code",
   "execution_count": 24,
   "metadata": {},
   "outputs": [
    {
     "name": "stderr",
     "output_type": "stream",
     "text": [
      "G:\\Anaconda\\lib\\site-packages\\IPython\\core\\interactiveshell.py:3058: DtypeWarning: Columns (0,1,2,3,4,5,6,7,8,9,10,11,12,13,14,15,16,17,18,19,20,21,22,23,24,25,26,27,28,29,30,31,32,33,34,35,36,37,38,39,40,41,42,43,44,45,46,47,48,49,50,51,52,53,54,55,56,57,58,59,60,61,62,63,64,65,66,67,68,69,70,71,72,73,74,75,76,77,78,79,80,81,82,83,84,85,86,87,88,89,90,91,92,93,94,95,96,97,98,99,100,101,102,103,104,105,106,107,108,109,110,111,112,113,114,115,116,117,118,119,120,121,122,123,124,125,126,127,128,129,130,131,132,133,134,135,136,137,138,139,140,141,142,143,144,145,146,147,148,149,150,151,152,153,154,155,156,157,158,159,160,161,162,163,164,165,166,167,168,169,170,171,172,173,174,175,176,177,178,179,180,181,182,183,184,185,186,187,188,189,190,191,192,193,194,195,196,197,198,199,200,201,202,203,204,205,206,207,208,209,210,211,212,213,214,215,216,217,218,219,220,221,222,223,224,225,226,227,228,229,230,231,232,233,234,235,236,237,238,239,240,241,242,243,244,245,246,247,248,249,250,251,252,253,254,255,256,257,258,259,260,261,262,263,264,265,266,267,268,269,270,271,272,273,274,275,276,277,278,279,280,281,282,283,284,285,286,287,288,289,290,291,292,293,294,295,296,297,298,299,300,301,302,303,304,305,306,307,308,309,310,311,312,313,314,315,316,317,318,319,320,321,322,323,324,325,326,327,328,329,330,331,332,333,334,335,336,337,338,339,340,341,342,343,344,345,346,347,348,349,350,351,352,353,354,355,356,357,358,359,360,361,362,363,364,365,366,367,368,369,370,371,372,373,374,375,376,377,378,379,380,381,382,383,384,385,386,387,388,389,390,391,392,393,394,395,396,397,398,399,400,401,402,403,404,405,406,407,408,409,410,411,412,413,414,415,416,417,418,419,420,421,422,423,424,425,426,427,428,429,430,431,432,433,434,435,436,437,438,439,440,441,442,443,444,445,446,447,448,449,450,451,452,453,454,455,456,457,458,459,460,461,462,463,464,465,466,467,468,469,470,471,472,473,474,475,476,477,478,479,480,481,482,483,484,485,486,487,488,489,490,491,492,493,494,495,496,497,498,499,500,501,502,503,504,505,506,507,508,509,510,511,512,513,514,515,516,517,518) have mixed types. Specify dtype option on import or set low_memory=False.\n",
      "  interactivity=interactivity, compiler=compiler, result=result)\n"
     ]
    }
   ],
   "source": [
    "## Read feature information \n",
    "features = pd.read_csv(metadata_path+'\\\\features.csv')"
   ]
  },
  {
   "cell_type": "code",
   "execution_count": 25,
   "metadata": {},
   "outputs": [],
   "source": [
    "features['feature'][3:] = features['feature'][3:].astype(int)"
   ]
  },
  {
   "cell_type": "code",
   "execution_count": 26,
   "metadata": {},
   "outputs": [],
   "source": [
    "feat_all = features.loc[features['feature'].isin(track_list)]"
   ]
  },
  {
   "cell_type": "code",
   "execution_count": 27,
   "metadata": {},
   "outputs": [
    {
     "data": {
      "text/plain": [
       "(6521, 519)"
      ]
     },
     "execution_count": 27,
     "metadata": {},
     "output_type": "execute_result"
    }
   ],
   "source": [
    "feat_all.shape"
   ]
  },
  {
   "cell_type": "code",
   "execution_count": 28,
   "metadata": {},
   "outputs": [
    {
     "data": {
      "text/plain": [
       "6521"
      ]
     },
     "execution_count": 28,
     "metadata": {},
     "output_type": "execute_result"
    }
   ],
   "source": [
    "len(label_list)"
   ]
  },
  {
   "cell_type": "code",
   "execution_count": 29,
   "metadata": {},
   "outputs": [
    {
     "name": "stderr",
     "output_type": "stream",
     "text": [
      "G:\\Anaconda\\lib\\site-packages\\ipykernel_launcher.py:1: SettingWithCopyWarning: \n",
      "A value is trying to be set on a copy of a slice from a DataFrame.\n",
      "Try using .loc[row_indexer,col_indexer] = value instead\n",
      "\n",
      "See the caveats in the documentation: http://pandas.pydata.org/pandas-docs/stable/user_guide/indexing.html#returning-a-view-versus-a-copy\n",
      "  \"\"\"Entry point for launching an IPython kernel.\n"
     ]
    }
   ],
   "source": [
    "feat_all['label'] = label_list"
   ]
  },
  {
   "cell_type": "markdown",
   "metadata": {},
   "source": [
    "Shuffle the order of the data"
   ]
  },
  {
   "cell_type": "code",
   "execution_count": 30,
   "metadata": {},
   "outputs": [],
   "source": [
    "feat_all = feat_all.sample(frac=1)"
   ]
  },
  {
   "cell_type": "markdown",
   "metadata": {},
   "source": [
    "Create separate numpy arrays and convert to type float"
   ]
  },
  {
   "cell_type": "code",
   "execution_count": 31,
   "metadata": {},
   "outputs": [],
   "source": [
    "feat_all = feat_all.to_numpy()\n",
    "tr_features = feat_all[0:tr_len,1:-1]\n",
    "tr_features = tr_features.astype(float)\n",
    "test_features = feat_all[tr_len:tr_len+test_len,1:-1]\n",
    "test_features = test_features.astype(float)"
   ]
  },
  {
   "cell_type": "code",
   "execution_count": 32,
   "metadata": {},
   "outputs": [
    {
     "data": {
      "text/plain": [
       "(6000, 518)"
      ]
     },
     "execution_count": 32,
     "metadata": {},
     "output_type": "execute_result"
    }
   ],
   "source": [
    "tr_features.shape"
   ]
  },
  {
   "cell_type": "code",
   "execution_count": 33,
   "metadata": {},
   "outputs": [
    {
     "data": {
      "text/plain": [
       "(521, 518)"
      ]
     },
     "execution_count": 33,
     "metadata": {},
     "output_type": "execute_result"
    }
   ],
   "source": [
    "test_features.shape"
   ]
  },
  {
   "cell_type": "code",
   "execution_count": 34,
   "metadata": {},
   "outputs": [
    {
     "data": {
      "text/plain": [
       "[<matplotlib.lines.Line2D at 0x219131d8848>]"
      ]
     },
     "execution_count": 34,
     "metadata": {},
     "output_type": "execute_result"
    },
    {
     "data": {
      "image/png": "[encoded data removed]",
      "text/plain": [
       "<Figure size 432x288 with 1 Axes>"
      ]
     },
     "metadata": {
      "needs_background": "light"
     },
     "output_type": "display_data"
    }
   ],
   "source": [
    "plt.semilogy(tr_features[:,-1])"
   ]
  },
  {
   "cell_type": "code",
   "execution_count": 35,
   "metadata": {},
   "outputs": [
    {
     "data": {
      "text/plain": [
       "[<matplotlib.lines.Line2D at 0x219119dae88>]"
      ]
     },
     "execution_count": 35,
     "metadata": {},
     "output_type": "execute_result"
    },
    {
     "data": {
      "image/png": "[encoded data removed]",
      "text/plain": [
       "<Figure size 432x288 with 1 Axes>"
      ]
     },
     "metadata": {
      "needs_background": "light"
     },
     "output_type": "display_data"
    }
   ],
   "source": [
    "plt.semilogy(test_features[:,-1])"
   ]
  },
  {
   "cell_type": "code",
   "execution_count": 36,
   "metadata": {},
   "outputs": [
    {
     "data": {
      "text/plain": [
       "521"
      ]
     },
     "execution_count": 36,
     "metadata": {},
     "output_type": "execute_result"
    }
   ],
   "source": [
    "len(set(test_features[:,-1]))"
   ]
  },
  {
   "cell_type": "markdown",
   "metadata": {},
   "source": [
    "### To obtain set of one hot codes for our labels"
   ]
  },
  {
   "cell_type": "code",
   "execution_count": 37,
   "metadata": {},
   "outputs": [],
   "source": [
    "feat_tr = feat_all[0:tr_len,1:]\n",
    "feat_test = feat_all[tr_len:tr_len+test_len,1:]"
   ]
  },
  {
   "cell_type": "code",
   "execution_count": 38,
   "metadata": {},
   "outputs": [],
   "source": [
    "feat_test[:,-1] = [genre_set.index(w) for w in feat_test[:,-1]]\n",
    "feat_tr[:,-1] = [genre_set.index(w) for w in feat_tr[:,-1]]"
   ]
  },
  {
   "cell_type": "code",
   "execution_count": 39,
   "metadata": {},
   "outputs": [
    {
     "data": {
      "text/plain": [
       "[<matplotlib.lines.Line2D at 0x21911e34cc8>]"
      ]
     },
     "execution_count": 39,
     "metadata": {},
     "output_type": "execute_result"
    },
    {
     "data": {
      "image/png": "[encoded data removed]",
      "text/plain": [
       "<Figure size 432x288 with 1 Axes>"
      ]
     },
     "metadata": {
      "needs_background": "light"
     },
     "output_type": "display_data"
    }
   ],
   "source": [
    "plt.plot(feat_tr[:,-1])"
   ]
  },
  {
   "cell_type": "code",
   "execution_count": 40,
   "metadata": {},
   "outputs": [
    {
     "name": "stdout",
     "output_type": "stream",
     "text": [
      "(5, 30000)\n"
     ]
    }
   ],
   "source": [
    "num_classes = len(genre_set)\n",
    "one_hot = np.zeros((num_classes, num_classes*tr_len))\n",
    "print(one_hot.shape)\n",
    "for index_i, i in enumerate(feat_tr[:,-1]):\n",
    "    one_hot[int(i),index_i] = 1\n"
   ]
  },
  {
   "cell_type": "code",
   "execution_count": 41,
   "metadata": {},
   "outputs": [
    {
     "data": {
      "text/plain": [
       "array([4, 4, 2, 4, 2, 2, 1, 3, 4, 2], dtype=object)"
      ]
     },
     "execution_count": 41,
     "metadata": {},
     "output_type": "execute_result"
    }
   ],
   "source": [
    "feat_tr[0:10,-1]"
   ]
  },
  {
   "cell_type": "code",
   "execution_count": 42,
   "metadata": {},
   "outputs": [
    {
     "name": "stdout",
     "output_type": "stream",
     "text": [
      "[[0. 0. 0. 0. 0. 0. 0. 0. 0. 0.]\n",
      " [0. 0. 0. 0. 0. 0. 1. 0. 0. 0.]\n",
      " [0. 0. 1. 0. 1. 1. 0. 0. 0. 1.]\n",
      " [0. 0. 0. 0. 0. 0. 0. 1. 0. 0.]\n",
      " [1. 1. 0. 1. 0. 0. 0. 0. 1. 0.]]\n",
      "(5, 30000)\n"
     ]
    }
   ],
   "source": [
    "print(one_hot[:,0:10])\n",
    "print(one_hot.shape)"
   ]
  },
  {
   "cell_type": "markdown",
   "metadata": {},
   "source": [
    "## Dimension Reduction"
   ]
  },
  {
   "cell_type": "markdown",
   "metadata": {},
   "source": [
    "Here there are a large number of features extracted so, data driven methods are used to reduce the dimension"
   ]
  },
  {
   "cell_type": "markdown",
   "metadata": {},
   "source": [
    "### Using PCA for dimension reduction "
   ]
  },
  {
   "cell_type": "code",
   "execution_count": 43,
   "metadata": {},
   "outputs": [
    {
     "data": {
      "text/plain": [
       "(6000, 518)"
      ]
     },
     "execution_count": 43,
     "metadata": {},
     "output_type": "execute_result"
    }
   ],
   "source": [
    "tr_features.shape"
   ]
  },
  {
   "cell_type": "code",
   "execution_count": 44,
   "metadata": {},
   "outputs": [],
   "source": [
    "from sklearn.decomposition import PCA\n",
    "from sklearn.decomposition import KernelPCA"
   ]
  },
  {
   "cell_type": "code",
   "execution_count": 45,
   "metadata": {},
   "outputs": [],
   "source": [
    "pca = PCA(n_components=100, svd_solver='full')\n",
    "#pca = KernelPCA(n_components=60, kernel='poly')"
   ]
  },
  {
   "cell_type": "code",
   "execution_count": 46,
   "metadata": {},
   "outputs": [],
   "source": [
    "pca_obj = pca.fit(tr_features)"
   ]
  },
  {
   "cell_type": "code",
   "execution_count": 47,
   "metadata": {},
   "outputs": [],
   "source": [
    "tr_features_red = pca_obj.transform(tr_features)"
   ]
  },
  {
   "cell_type": "code",
   "execution_count": 48,
   "metadata": {},
   "outputs": [],
   "source": [
    "test_features_red = pca_obj.transform(test_features)"
   ]
  },
  {
   "cell_type": "code",
   "execution_count": 49,
   "metadata": {},
   "outputs": [
    {
     "data": {
      "text/plain": [
       "(6000, 100)"
      ]
     },
     "execution_count": 49,
     "metadata": {},
     "output_type": "execute_result"
    }
   ],
   "source": [
    "tr_features_red.shape"
   ]
  },
  {
   "cell_type": "code",
   "execution_count": 50,
   "metadata": {},
   "outputs": [
    {
     "data": {
      "text/plain": [
       "11349.55429387236"
      ]
     },
     "execution_count": 50,
     "metadata": {},
     "output_type": "execute_result"
    }
   ],
   "source": [
    "np.max(tr_features_red)"
   ]
  },
  {
   "cell_type": "code",
   "execution_count": 51,
   "metadata": {},
   "outputs": [
    {
     "data": {
      "text/plain": [
       "11025.0"
      ]
     },
     "execution_count": 51,
     "metadata": {},
     "output_type": "execute_result"
    }
   ],
   "source": [
    "np.max(tr_features)"
   ]
  },
  {
   "cell_type": "code",
   "execution_count": 52,
   "metadata": {},
   "outputs": [],
   "source": [
    "scale_val = np.max(tr_features_red)/np.max(tr_features)"
   ]
  },
  {
   "cell_type": "code",
   "execution_count": 53,
   "metadata": {},
   "outputs": [
    {
     "data": {
      "text/plain": [
       "1.0294380311902367"
      ]
     },
     "execution_count": 53,
     "metadata": {},
     "output_type": "execute_result"
    }
   ],
   "source": [
    "scale_val"
   ]
  },
  {
   "cell_type": "markdown",
   "metadata": {},
   "source": [
    "## Training Stage"
   ]
  },
  {
   "cell_type": "markdown",
   "metadata": {},
   "source": [
    "### Setting up data "
   ]
  },
  {
   "cell_type": "code",
   "execution_count": 54,
   "metadata": {},
   "outputs": [],
   "source": [
    "x_train = tr_features_red/scale_val\n",
    "x_test = test_features_red/scale_val\n",
    "y_train = feat_tr[:,-1]\n",
    "y_test = feat_test[:,-1]"
   ]
  },
  {
   "cell_type": "code",
   "execution_count": 55,
   "metadata": {},
   "outputs": [],
   "source": [
    "class_set = list(range(num_classes))\n",
    "class_lbl = [genre_set[i] for i in class_set]\n",
    "class_name = [main_label_dict[genre_set[i]] for i in class_set]\n",
    "label_dict = dict(zip(class_name,class_set))"
   ]
  },
  {
   "cell_type": "code",
   "execution_count": 56,
   "metadata": {},
   "outputs": [
    {
     "data": {
      "text/plain": [
       "{'Pop': 0, 'Classical': 1, 'Rock': 2, 'Folk': 3, 'Hip-Hop': 4}"
      ]
     },
     "execution_count": 56,
     "metadata": {},
     "output_type": "execute_result"
    }
   ],
   "source": [
    "label_dict"
   ]
  },
  {
   "cell_type": "code",
   "execution_count": 57,
   "metadata": {},
   "outputs": [],
   "source": [
    "def plot_confusion_matrix(cm, classes,normalize=False,title='Confusion matrix',cmap=plt.cm.Blues):\n",
    "    \"\"\"\n",
    "    This function prints and plots the confusion matrix.\n",
    "    Normalization can be applied by setting `normalize=True`.\n",
    "    \"\"\"\n",
    "    #plt.figure(figsize=(8,8))\n",
    "    plt.subplots()\n",
    "    plt.imshow(cm, interpolation='nearest', cmap=cmap, aspect='auto')\n",
    "    \n",
    "    ax = plt.gca();\n",
    "\n",
    "    plt.title(title)\n",
    "    plt.colorbar()\n",
    "    tick_marks = np.arange(len(classes))\n",
    "    plt.gcf().subplots_adjust(bottom=0.15)\n",
    "    ax.set_xticks(np.arange(len(classes)))\n",
    "    ax.set_yticks(np.arange(len(classes)))\n",
    "    ax.set_xticklabels(classes)\n",
    "    ax.set_yticklabels(classes)\n",
    "    plt.setp(ax.get_xticklabels(), rotation=45, ha=\"right\",\n",
    "         rotation_mode=\"anchor\")\n",
    "    bottom, top = ax.get_ylim()\n",
    "    ax.set_ylim(bottom + 0.5, top - 0.5)\n",
    "\n",
    "    if normalize:\n",
    "        cm = cm.astype('float') / cm.sum(axis=1)[:, np.newaxis]\n",
    "        print(\"Normalized confusion matrix\")\n",
    "    else:\n",
    "        print('Confusion matrix, without normalization')\n",
    "\n",
    "    print(cm)\n",
    "\n",
    "    thresh = cm.max() / 2.\n",
    "    for i, j in itertools.product(range(cm.shape[0]), range(cm.shape[1])):\n",
    "        plt.text(j, i, cm[i, j],\n",
    "                 horizontalalignment=\"center\",\n",
    "                 color=\"white\" if cm[i, j] > thresh else \"black\")\n",
    "\n",
    "    plt.tight_layout()\n",
    "    plt.ylabel('True label')\n",
    "    plt.xlabel('Predicted label')\n",
    "    \n",
    "def one_hot_encoder(true_labels, num_records, num_classes):\n",
    "    temp = np.array(true_labels[:num_records])\n",
    "    true_labels1 = np.zeros((num_records, num_classes))\n",
    "    #print(true_labels.shape)\n",
    "    for index_i, i in enumerate(true_labels):\n",
    "        #print(index_i,i)\n",
    "        true_labels1[index_i,int(i)] = 1\n",
    "    return true_labels1\n",
    "\n",
    "def display_results(y_test, pred_probs, cm = True):\n",
    "    pred = np.argmax(pred_probs, axis=-1)\n",
    "    #print(pred)\n",
    "    one_hot_true = one_hot_encoder(y_test, len(pred), num_classes)\n",
    "    print('Test Set Accuracy =  {0:.2f}'.format(accuracy_score(y_test, pred)))\n",
    "    print('Test Set F-score =  {0:.2f}'.format(f1_score(y_test, pred, average='macro')))\n",
    "    print('ROC AUC = {0:.3f}'.format(roc_auc_score(y_true=one_hot_true, y_score=pred_probs, average='macro')))\n",
    "    if cm:\n",
    "        plot_confusion_matrix(confusion_matrix(y_test, pred), classes=label_dict.keys())"
   ]
  },
  {
   "cell_type": "markdown",
   "metadata": {},
   "source": [
    "### Boosting"
   ]
  },
  {
   "cell_type": "markdown",
   "metadata": {},
   "source": [
    "#### Without regularization"
   ]
  },
  {
   "cell_type": "code",
   "execution_count": 58,
   "metadata": {},
   "outputs": [
    {
     "name": "stdout",
     "output_type": "stream",
     "text": [
      "Wall time: 2min 13s\n"
     ]
    }
   ],
   "source": [
    "%%time\n",
    "# Train\n",
    "\n",
    "xgb_classifier = xgb.XGBClassifier(max_depth=5, learning_rate=0.1, objective='multi:softprob', \\\n",
    "                                   n_estimators=750, sub_sample = 0.9, num_class = num_classes)\n",
    "xgb_classifier.fit(x_train, y_train)\n",
    "\n",
    "# Predict\n",
    "pred_probs = xgb_classifier.predict_proba(x_test)\n"
   ]
  },
  {
   "cell_type": "code",
   "execution_count": 59,
   "metadata": {},
   "outputs": [
    {
     "name": "stdout",
     "output_type": "stream",
     "text": [
      "Test Error:  0.39539347408829173\n"
     ]
    }
   ],
   "source": [
    "pred = np.argmax(pred_probs, axis=-1)\n",
    "print('Test Error: ',len(y_test[y_test!=pred])/len(y_test))"
   ]
  },
  {
   "cell_type": "code",
   "execution_count": 60,
   "metadata": {},
   "outputs": [
    {
     "name": "stdout",
     "output_type": "stream",
     "text": [
      "Test Set Accuracy =  0.60\n",
      "Test Set F-score =  0.56\n",
      "ROC AUC = 0.816\n",
      "Confusion matrix, without normalization\n",
      "[[  9   0   9   1  16]\n",
      " [  0  33  12   1  21]\n",
      " [  1   7  74   5  42]\n",
      " [  0   1  13  43  34]\n",
      " [  1   5  29   8 156]]\n"
     ]
    },
    {
     "data": {
      "image/png": "[encoded data removed]",
      "text/plain": [
       "<Figure size 432x288 with 2 Axes>"
      ]
     },
     "metadata": {
      "needs_background": "light"
     },
     "output_type": "display_data"
    }
   ],
   "source": [
    "display_results(np.array(y_test,dtype=int), pred_probs)"
   ]
  },
  {
   "cell_type": "markdown",
   "metadata": {},
   "source": [
    "####  With regularization"
   ]
  },
  {
   "cell_type": "code",
   "execution_count": 61,
   "metadata": {},
   "outputs": [
    {
     "name": "stdout",
     "output_type": "stream",
     "text": [
      "Wall time: 2min 10s\n"
     ]
    }
   ],
   "source": [
    "%%time\n",
    "# Train\n",
    "\n",
    "xgb_classifier = xgb.XGBClassifier(max_depth=5, learning_rate=0.1, objective='multi:softprob', \\\n",
    "                                   n_estimators=750, sub_sample = 0.9, num_class = num_classes, \\\n",
    "                                   reg_lambda=0.75,reg_alpha=0.9)\n",
    "xgb_classifier.fit(x_train, y_train)\n",
    "\n",
    "# Predict\n",
    "pred_probs = xgb_classifier.predict_proba(x_test)\n"
   ]
  },
  {
   "cell_type": "code",
   "execution_count": 62,
   "metadata": {},
   "outputs": [
    {
     "name": "stdout",
     "output_type": "stream",
     "text": [
      "Test Error:  0.3896353166986564\n"
     ]
    }
   ],
   "source": [
    "pred = np.argmax(pred_probs, axis=-1)\n",
    "print('Test Error: ',len(y_test[y_test!=pred])/len(y_test))"
   ]
  },
  {
   "cell_type": "code",
   "execution_count": 63,
   "metadata": {},
   "outputs": [
    {
     "name": "stdout",
     "output_type": "stream",
     "text": [
      "Test Set Accuracy =  0.61\n",
      "Test Set F-score =  0.56\n",
      "ROC AUC = 0.822\n",
      "Confusion matrix, without normalization\n",
      "[[  9   0  12   1  13]\n",
      " [  3  34  12   1  17]\n",
      " [  2   7  75   1  44]\n",
      " [  1   1  10  43  36]\n",
      " [  3   3  28   8 157]]\n"
     ]
    },
    {
     "data": {
      "image/png": "[encoded data removed]",
      "text/plain": [
       "<Figure size 432x288 with 2 Axes>"
      ]
     },
     "metadata": {
      "needs_background": "light"
     },
     "output_type": "display_data"
    }
   ],
   "source": [
    "display_results(np.array(y_test,dtype=int), pred_probs)"
   ]
  },
  {
   "cell_type": "markdown",
   "metadata": {},
   "source": [
    "### SVM "
   ]
  },
  {
   "cell_type": "code",
   "execution_count": 64,
   "metadata": {},
   "outputs": [],
   "source": [
    "cl_weight = dict(pd.Series(np.array(y_train,dtype=int)).value_counts(normalize=True))"
   ]
  },
  {
   "cell_type": "code",
   "execution_count": 65,
   "metadata": {},
   "outputs": [
    {
     "data": {
      "text/plain": [
       "{4: 0.3606666666666667,\n",
       " 2: 0.26466666666666666,\n",
       " 3: 0.18566666666666667,\n",
       " 1: 0.11066666666666666,\n",
       " 0: 0.07833333333333334}"
      ]
     },
     "execution_count": 65,
     "metadata": {},
     "output_type": "execute_result"
    }
   ],
   "source": [
    "cl_weight"
   ]
  },
  {
   "cell_type": "code",
   "execution_count": 66,
   "metadata": {},
   "outputs": [],
   "source": [
    "x_train_svm = x_train/np.max(x_train)\n",
    "x_test_svm = x_test/np.max(x_test)"
   ]
  },
  {
   "cell_type": "code",
   "execution_count": 67,
   "metadata": {},
   "outputs": [
    {
     "name": "stdout",
     "output_type": "stream",
     "text": [
      "Wall time: 22.8 s\n"
     ]
    }
   ],
   "source": [
    "%%time\n",
    "\n",
    "# Train\n",
    "svm_classifier = SVC(C=1400.0, probability = True, class_weight=cl_weight,gamma=8.5e-3)\n",
    "svm_classifier.fit(x_train_svm, np.array(y_train,dtype=int))\n",
    "\n",
    "# Predict\n",
    "pred_probs = svm_classifier.predict_proba(x_test_svm)"
   ]
  },
  {
   "cell_type": "code",
   "execution_count": 68,
   "metadata": {},
   "outputs": [
    {
     "name": "stdout",
     "output_type": "stream",
     "text": [
      "Test Error:  0.5662188099808061\n"
     ]
    }
   ],
   "source": [
    "pred = np.argmax(pred_probs, axis=-1)\n",
    "print('Test Error: ',len(y_test[y_test!=pred])/len(y_test))"
   ]
  },
  {
   "cell_type": "code",
   "execution_count": 69,
   "metadata": {},
   "outputs": [
    {
     "name": "stdout",
     "output_type": "stream",
     "text": [
      "Test Set Accuracy =  0.43\n",
      "Test Set F-score =  0.32\n",
      "ROC AUC = 0.695\n",
      "Confusion matrix, without normalization\n",
      "[[  2   4   4   2  23]\n",
      " [  0  21   9   3  34]\n",
      " [  1  13  23  18  74]\n",
      " [  0   4  11  28  48]\n",
      " [  7  11  18  11 152]]\n"
     ]
    },
    {
     "data": {
      "image/png": "[encoded data removed]",
      "text/plain": [
       "<Figure size 432x288 with 2 Axes>"
      ]
     },
     "metadata": {
      "needs_background": "light"
     },
     "output_type": "display_data"
    }
   ],
   "source": [
    "display_results(np.array(y_test,dtype=int), pred_probs)"
   ]
  },
  {
   "cell_type": "markdown",
   "metadata": {},
   "source": [
    "### Random Forest"
   ]
  },
  {
   "cell_type": "code",
   "execution_count": 70,
   "metadata": {},
   "outputs": [
    {
     "name": "stdout",
     "output_type": "stream",
     "text": [
      "Wall time: 16.6 s\n"
     ]
    }
   ],
   "source": [
    "%%time\n",
    "# Train\n",
    "rf_classifier = RandomForestClassifier(n_estimators=500, min_samples_split=5)\n",
    "rf_classifier.fit(x_train, np.array(y_train,dtype=int))\n",
    "\n",
    "# Predict\n",
    "pred_probs = rf_classifier.predict_proba(x_test)"
   ]
  },
  {
   "cell_type": "code",
   "execution_count": 71,
   "metadata": {},
   "outputs": [
    {
     "name": "stdout",
     "output_type": "stream",
     "text": [
      "Test Set Accuracy =  0.55\n",
      "Test Set F-score =  0.41\n",
      "ROC AUC = 0.817\n",
      "Confusion matrix, without normalization\n",
      "[[  1   0   4   0  30]\n",
      " [  0  14  13   0  40]\n",
      " [  0   0  58   0  71]\n",
      " [  0   1   7  31  52]\n",
      " [  1   1  12   0 185]]\n"
     ]
    },
    {
     "data": {
      "image/png": "[encoded data removed]",
      "text/plain": [
       "<Figure size 432x288 with 2 Axes>"
      ]
     },
     "metadata": {
      "needs_background": "light"
     },
     "output_type": "display_data"
    }
   ],
   "source": [
    "# Results\n",
    "display_results(np.array(y_test,dtype=int), pred_probs)"
   ]
  },
  {
   "cell_type": "markdown",
   "metadata": {},
   "source": [
    "### Logistic Regression"
   ]
  },
  {
   "cell_type": "code",
   "execution_count": 72,
   "metadata": {},
   "outputs": [
    {
     "name": "stderr",
     "output_type": "stream",
     "text": [
      "G:\\Anaconda\\lib\\site-packages\\sklearn\\linear_model\\logistic.py:432: FutureWarning: Default solver will be changed to 'lbfgs' in 0.22. Specify a solver to silence this warning.\n",
      "  FutureWarning)\n",
      "G:\\Anaconda\\lib\\site-packages\\sklearn\\linear_model\\logistic.py:469: FutureWarning: Default multi_class will be changed to 'auto' in 0.22. Specify the multi_class option to silence this warning.\n",
      "  \"this warning.\", FutureWarning)\n"
     ]
    },
    {
     "name": "stdout",
     "output_type": "stream",
     "text": [
      "Wall time: 3.31 s\n"
     ]
    }
   ],
   "source": [
    "%%time\n",
    "# Train\n",
    "lr_classifier = LogisticRegression(penalty='l1')\n",
    "lr_classifier.fit(x_train, np.array(y_train,dtype=int))\n",
    "\n",
    "# Predict\n",
    "pred_probs = lr_classifier.predict_proba(x_test)"
   ]
  },
  {
   "cell_type": "code",
   "execution_count": 73,
   "metadata": {},
   "outputs": [
    {
     "name": "stdout",
     "output_type": "stream",
     "text": [
      "Test Set Accuracy =  0.52\n",
      "Test Set F-score =  0.46\n",
      "ROC AUC = 0.765\n",
      "Confusion matrix, without normalization\n",
      "[[ 10   2   8   4  11]\n",
      " [  4  26  18   2  17]\n",
      " [  5  12  57   8  47]\n",
      " [  2   6  15  31  37]\n",
      " [  4   6  30  11 148]]\n"
     ]
    },
    {
     "data": {
      "image/png": "[encoded data removed]",
      "text/plain": [
       "<Figure size 432x288 with 2 Axes>"
      ]
     },
     "metadata": {
      "needs_background": "light"
     },
     "output_type": "display_data"
    }
   ],
   "source": [
    "# Results\n",
    "display_results(np.array(y_test,dtype=int), pred_probs)"
   ]
  },
  {
   "cell_type": "markdown",
   "metadata": {},
   "source": [
    "### SNN"
   ]
  },
  {
   "cell_type": "code",
   "execution_count": null,
   "metadata": {},
   "outputs": [],
   "source": [
    "x_train = x_train.T/np.max(abs(x_train))\n",
    "print(x_train.shape)\n",
    "x_test = x_test.T/np.max(abs(x_test))\n",
    "print(x_test.shape)\n",
    "print(y_train.shape)\n",
    "y_train = y_train.T\n",
    "print(y_train.shape)"
   ]
  },
  {
   "cell_type": "code",
   "execution_count": null,
   "metadata": {},
   "outputs": [],
   "source": [
    "def label2onehot(lbl):\n",
    "    d = np.zeros((lbl.max() + 1, lbl.size))\n",
    "    d[lbl, np.arange(lbl.size)] = 1\n",
    "    return d\n",
    "def onehot2label(d):\n",
    "    lbl = d.argmax(axis=0)\n",
    "    return lbl\n",
    "\n",
    "\n",
    "# turn labels into one hot\n",
    "y_train.shape\n",
    "print(type(y_train))\n",
    "y_train = y_train.astype(int)\n",
    "y_train_onehot = label2onehot(y_train)\n",
    "\n",
    "def init_shallow(Ni, Nh, No):\n",
    "    b1 = np.random.randn(Nh, 1) / np.sqrt((Ni+1.)/2.)\n",
    "    W1 = np.random.randn(Nh, Ni) / np.sqrt((Ni+1.)/2.)\n",
    "    b2 = np.random.randn(No, 1) / np.sqrt((Nh+1.))\n",
    "    W2 = np.random.randn(No, Nh) / np.sqrt((Nh+1.))\n",
    "    return W1, b1, W2, b2\n",
    "Ni = x_train.shape[0]\n",
    "Nh = 20\n",
    "No = y_train_onehot.shape[0]\n",
    "netinit = init_shallow(Ni, Nh, No)\n",
    "\n",
    "print(y_train_onehot)\n",
    "\n",
    "def softmax(a):\n",
    "    a_max = np.zeros((1,60000))\n",
    "    a_max = a.max(axis = 0)\n",
    "    a_sane = a - a_max\n",
    "    a_sane_exp = np.exp(a_sane)\n",
    "    y = a_sane_exp/(a_sane_exp.sum(axis = 0))\n",
    "    return y\n",
    "def softmaxp(a,e):\n",
    "    k = softmax(a)\n",
    "    part1 = np.multiply(k,e)\n",
    "    new = part1.sum(axis = 0)\n",
    "    part2 = np.multiply(new.T,k)\n",
    "    return(part1 - part2)\n",
    "def relu(a):\n",
    "    return(np.where(a>0,a,0))\n",
    "def relup(a,e):\n",
    "    a = np.where(a>0,1,0)\n",
    "    return(a*e)\n",
    "def forwardprop_shallow(x, net):\n",
    "#     print(net)\n",
    "    W1 = net[0]\n",
    "    b1 = net[1]\n",
    "    W2 = net[2]\n",
    "    b2 = net[3]\n",
    "#     print(\"Shape of W1 is \", W1.shape)\n",
    "#     print(x.shape)\n",
    "    Z1 = W1.dot(x) + b1\n",
    "    a1 = relu(Z1)\n",
    "    a2 = W2.dot(a1) + b2\n",
    "    y = softmax(a2)\n",
    "    return y\n",
    "yinit = forwardprop_shallow(x_train, netinit)\n",
    "\n",
    "def eval_loss(y, d):\n",
    "    sum_vert = -np.log(y)*d\n",
    "    return(sum_vert.sum()/y.shape[1])\n",
    "print(eval_loss(yinit, y_train_onehot), 'should be around .26')\n",
    "\n",
    "def eval_perfs(y, lbl):\n",
    "    y_oneD = onehot2label(y)\n",
    "    perf_par = (y_oneD != lbl)\n",
    "    sum_perf_par = perf_par.sum()\n",
    "    return (sum_perf_par/lbl.shape[0])*100\n",
    "print(eval_perfs(yinit, y_train))\n",
    "\n",
    "def update_shallow(x, d, net, gamma=.05):\n",
    "    W1 = net[0]\n",
    "    b1 = net[1]\n",
    "    W2 = net[2]\n",
    "    b2 = net[3]\n",
    "    Ni = W1.shape[1]\n",
    "    Nh = W1.shape[0]\n",
    "    No = W2.shape[0]\n",
    "    gamma = gamma / x.shape[1] # normalized by the training dataset size\n",
    "    Z1 = W1.dot(x) + b1\n",
    "    a1 = relu(Z1)\n",
    "    a2 = W2.dot(a1) + b2\n",
    "    y = softmax(a2)\n",
    "    e2 = - d / y\n",
    "    delta2 = softmaxp(a2,e2)\n",
    "    e1 = W2.T.dot(delta2)\n",
    "    delta1 = relup(a1, e1) \n",
    "    W2 = W2 - gamma * delta2.dot(a1.T)\n",
    "    W1 = W1 - gamma * delta1.dot(x.T)\n",
    "    b2 = b2 - gamma * delta2.sum(axis =1, keepdims = True )\n",
    "    b1 = b1 - gamma * delta1.sum(axis =1, keepdims = True )\n",
    "    return W1, b1, W2, b2\n",
    "\n",
    "def backprop_shallow(x, d, net, T, gamma=.05):\n",
    "    lbl = onehot2label(d)\n",
    "    for t in range(T):\n",
    "        net = update_shallow(x, d, net)\n",
    "        #net = [W1,b1,W2,b2]\n",
    "        y = forwardprop_shallow(x, net)\n",
    "        loss = eval_loss(y, d)\n",
    "        #print(loss)\n",
    "        performance = eval_perfs(y, lbl)\n",
    "        #print(performance)\n",
    "    return net\n",
    "\n",
    "nettrain_batch2 = backprop_shallow(x_train, y_train_onehot, netinit, 10000)"
   ]
  },
  {
   "cell_type": "code",
   "execution_count": null,
   "metadata": {},
   "outputs": [],
   "source": [
    "print(x_test.shape)\n",
    "print(y_test.shape)\n",
    "\n",
    "y_test = y_test.astype(int)\n",
    "y_test_onehot = label2onehot(y_test)\n",
    "\n",
    "y_output = forwardprop_shallow(x_test, nettrain_batch2)\n",
    "\n",
    "perf = eval_perfs(y_output, y_test)\n",
    "print(perf)\n",
    "\n",
    "display_results(np.array(y_test,dtype=int), y_output.T)"
   ]
  },
  {
   "cell_type": "code",
   "execution_count": null,
   "metadata": {},
   "outputs": [],
   "source": []
  }
 ],
 "metadata": {
  "kernelspec": {
   "display_name": "Python 3",
   "language": "python",
   "name": "python3"
  },
  "language_info": {
   "codemirror_mode": {
    "name": "ipython",
    "version": 3
   },
   "file_extension": ".py",
   "mimetype": "text/x-python",
   "name": "python",
   "nbconvert_exporter": "python",
   "pygments_lexer": "ipython3",
   "version": "3.7.4"
  }
 },
 "nbformat": 4,
 "nbformat_minor": 2
}
